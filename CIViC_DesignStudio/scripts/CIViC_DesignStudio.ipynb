{
 "cells": [
  {
   "cell_type": "markdown",
   "metadata": {},
   "source": [
    "# Create First Generation Output File From DesignStudio\n",
    "\n",
    "#### Usage\n",
    "\n",
    "CIViC_DesignStudio will pull existing variants from the CIViC Knowledgebase, iterate through all variants, and create an output that can be used to create IDT probes\n",
    "\n",
    "\n",
    "#### Inputs:\n",
    "\n",
    "1) variants of interest = from the CIViC Probe DesignStudio Interface, any variants that are selected will be evaluated for probe design.\n",
    "\n",
    "#### Output Files: \n",
    "\n",
    "1) CIViC_DesignStudio_coordinates.tsv = for each variant selected, we will provide the chromosome, start, stop, gene, variant and pipeline\n"
   ]
  },
  {
   "cell_type": "code",
   "execution_count": 2,
   "metadata": {
    "collapsed": true
   },
   "outputs": [],
   "source": [
    "#!/usr/bin/env python3\n",
    "import json\n",
    "import numpy as np\n",
    "import requests\n",
    "import sys"
   ]
  },
  {
   "cell_type": "code",
   "execution_count": 3,
   "metadata": {
    "collapsed": true
   },
   "outputs": [],
   "source": [
    "##Pull in Data from JSON\n",
    "variants_DNA = requests.get('https://civic.genome.wustl.edu/api/panels/captureseq/qualifying_variants?minimum_score=0').json()['records'] #Call eligible variants\n",
    "variants_RNA = requests.get('https://civic.genome.wustl.edu/api/panels/nanostring/qualifying_variants?minimum_score=0').json()['records'] #Call eligible variants"
   ]
  },
  {
   "cell_type": "code",
   "execution_count": 17,
   "metadata": {
    "collapsed": true
   },
   "outputs": [],
   "source": [
    "#Create output list for probes of interest\n",
    "capture = []"
   ]
  },
  {
   "cell_type": "code",
   "execution_count": 18,
   "metadata": {},
   "outputs": [
    {
     "name": "stdout",
     "output_type": "stream",
     "text": [
      "612\n"
     ]
    }
   ],
   "source": [
    "## For variants listed in the DNA-based API, create bed-like files for capture design\n",
    "\n",
    "#make dictionary for evidence types\n",
    "score = {'A':5, 'B':4, 'C':3, 'D':2, 'E':1}\n",
    "\n",
    "#create empty list for capture sequence probes\n",
    "capture_sequence_probes = [] \n",
    "for k in range(0, len(variants_DNA)): #iterate through API and pull all eligible variants\n",
    "    chrom = variants_DNA[k]['coordinates']['chromosome'] #call chrom\n",
    "    start = variants_DNA[k]['coordinates']['start'] #call start\n",
    "    stop = variants_DNA[k]['coordinates']['stop'] #call stop\n",
    "    flag = False\n",
    "    if variants_DNA[k]['coordinates']['chromosome2'] and variants_DNA[k]['coordinates']['start2'] and variants_DNA[k]['coordinates']['stop2']:\n",
    "        chrom2 = variants_DNA[k]['coordinates']['chromosome2']  # call chrom2\n",
    "        start2 = variants_DNA[k]['coordinates']['start2']  # call start2\n",
    "        stop2 = variants_DNA[k]['coordinates']['stop2']  # call stop2\n",
    "        flag = True\n",
    "    gene = variants_DNA[k]['entrez_name']  #Call Gene name\n",
    "    variant = variants_DNA[k]['name'] #call variant\n",
    "    pipeline = 'DNA-based'\n",
    "    blank = ' '\n",
    "    if flag:\n",
    "        capture.append([chrom, start, stop, chrom2, start2, stop2, gene, variant, pipeline])\n",
    "    if not flag:\n",
    "        capture.append([chrom, start, stop, blank, blank, blank, gene, variant, pipeline])\n",
    "\n",
    "print(len(capture))\n"
   ]
  },
  {
   "cell_type": "code",
   "execution_count": 19,
   "metadata": {
    "collapsed": true
   },
   "outputs": [],
   "source": [
    "## For variants listed in the NanoString API, create bed-like files for capture design\n",
    "\n",
    "nanoString_probes = []  # create empty list for nanostring probes\n",
    "nanoString_probes.append(['gene', 'soid', 'variant_type', 'variant_name', 'representative_transcript', 'top_evidence_level', 'diseases','evidence_types','number_of_evidence_statements', 'chrom', 'start', 'stop', 'transcript2', 'chrom2', 'start2', 'stop2'])\n",
    "for k in range(0, len(variants_RNA)):  # iterate through API and pull all eligible variants\n",
    "    chrom = variants_RNA[k]['coordinates']['chromosome'] #call chrom\n",
    "    start = variants_RNA[k]['coordinates']['start'] #call start\n",
    "    stop = variants_RNA[k]['coordinates']['stop'] #call stop\n",
    "    flag = False\n",
    "    if variants_RNA[k]['coordinates']['chromosome2'] and variants_RNA[k]['coordinates']['start2'] and variants_RNA[k]['coordinates']['stop2']:\n",
    "        chrom2 = variants_RNA[k]['coordinates']['chromosome2']  # call chrom2\n",
    "        start2 = variants_RNA[k]['coordinates']['start2']  # call start2\n",
    "        stop2 = variants_RNA[k]['coordinates']['stop2']  # call stop2\n",
    "        flag = True\n",
    "    gene = variants_RNA[k]['entrez_name']  #Call Gene name\n",
    "    variant = variants_RNA[k]['name'] #call variant\n",
    "    pipeline = 'RNA-based'\n",
    "    blank = ' '\n",
    "    if flag:\n",
    "        capture.append([chrom, start, stop, chrom2, start2, stop2, gene, variant, pipeline])\n",
    "    if not flag:\n",
    "        capture.append([chrom, start, stop, blank, blank, blank, gene, variant, pipeline])\n"
   ]
  },
  {
   "cell_type": "code",
   "execution_count": 20,
   "metadata": {
    "collapsed": true
   },
   "outputs": [],
   "source": [
    "##Create output files for probe design    \n",
    "capture_file = open('../../CIViC_DesignStudio/output_files/CIViC_DesignStudio_probes.tsv', 'w') #create empy file for capture sequence coordinates\n",
    "#write header\n",
    "capture_file.write('chromosome'+ '\\t' + 'start'+ '\\t' + 'stop' '\\t' + 'chromosome2'+ '\\t' + 'start2'+ '\\t' + 'stop2' + '\\t' + 'gene'+ '\\t' + 'variant' + '/t' + 'pipeline' + '\\n')\n",
    "for item in capture: #iterate through capture list\n",
    "    for k in item:\n",
    "        if k is item[-1]:\n",
    "            capture_file.write(str(k))\n",
    "        else:\n",
    "            capture_file.write(str(k) + '\\t')\n",
    "    capture_file.write('\\n')\n",
    "capture_file.close() #close file"
   ]
  }
 ],
 "metadata": {
  "kernelspec": {
   "display_name": "Python 3",
   "language": "python",
   "name": "python3"
  },
  "language_info": {
   "codemirror_mode": {
    "name": "ipython",
    "version": 3
   },
   "file_extension": ".py",
   "mimetype": "text/x-python",
   "name": "python",
   "nbconvert_exporter": "python",
   "pygments_lexer": "ipython3",
   "version": "3.6.3"
  }
 },
 "nbformat": 4,
 "nbformat_minor": 2
}
