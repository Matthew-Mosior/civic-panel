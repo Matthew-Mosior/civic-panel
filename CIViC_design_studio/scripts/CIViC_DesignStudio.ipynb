{
 "cells": [
  {
   "cell_type": "markdown",
   "metadata": {},
   "source": [
    "# Create First Generation Output File From DesignStudio\n",
    "\n",
    "#### Usage\n",
    "\n",
    "CIViC_DesignStudio will pull existing variants from the CIViC Knowledgebase, iterate through all variants, and create an output that can be used to create IDT probes\n",
    "\n",
    "\n",
    "#### Inputs:\n",
    "\n",
    "1) variants of interest = from the CIViC Probe DesignStudio Interface, any variants that are selected will be evaluated for probe design.\n",
    "\n",
    "#### Output Files: \n",
    "\n",
    "1) CIViC_DesignStudio_coordinates.tsv = for each variant selected, we will provide the chromosome, start, stop, gene, variant and pipeline\n"
   ]
  },
  {
   "cell_type": "code",
   "execution_count": 3,
   "metadata": {
    "collapsed": true
   },
   "outputs": [],
   "source": [
    "#!/usr/bin/env python3\n",
    "import json\n",
    "import numpy as np\n",
    "import requests\n",
    "import sys"
   ]
  },
  {
   "cell_type": "code",
   "execution_count": 6,
   "metadata": {
    "collapsed": true
   },
   "outputs": [],
   "source": [
    "##Pull in Data from JSON\n",
    "variants_DNA = requests.get('https://civic.genome.wustl.edu/api/panels/captureseq/qualifying_variants?minimum_score=0').json()['records'] #Call eligible variants\n",
    "variants_RNA = requests.get('https://civic.genome.wustl.edu/api/panels/nanostring/qualifying_variants?minimum_score=0').json()['records'] #Call eligible variants"
   ]
  },
  {
   "cell_type": "code",
   "execution_count": 23,
   "metadata": {
    "collapsed": true
   },
   "outputs": [],
   "source": [
    "#Create output list for probes of interest\n",
    "capture = []"
   ]
  },
  {
   "cell_type": "code",
   "execution_count": 24,
   "metadata": {},
   "outputs": [
    {
     "name": "stdout",
     "output_type": "stream",
     "text": [
      "612\n"
     ]
    }
   ],
   "source": [
    "## For variants listed in the DNA-based API, create bed-like files for capture design\n",
    "\n",
    "#make dictionary for evidence types\n",
    "score = {'A':5, 'B':4, 'C':3, 'D':2, 'E':1}\n",
    "\n",
    "#create empty list for capture sequence probes\n",
    "capture_sequence_probes = [] \n",
    "for k in range(0, len(variants_DNA)): #iterate through API and pull all eligible variants\n",
    "    chrom = variants_DNA[k]['coordinates']['chromosome'] #call chrom\n",
    "    start = variants_DNA[k]['coordinates']['start'] #call start\n",
    "    stop = variants_DNA[k]['coordinates']['stop'] #call stop\n",
    "    gene = variants_DNA[k]['entrez_name']  #Call Gene name\n",
    "    variant = variants_DNA[k]['name'] #call variant\n",
    "    pipeline = 'DNA-based'\n",
    "    capture.append([chrom, start, stop, gene, variant, pipeline])\n",
    "\n",
    "print(len(capture))\n"
   ]
  },
  {
   "cell_type": "code",
   "execution_count": 25,
   "metadata": {
    "collapsed": true
   },
   "outputs": [],
   "source": [
    "## For variants listed in the NanoString API, create bed-like files for capture design\n",
    "\n",
    "nanoString_probes = []  # create empty list for nanostring probes\n",
    "nanoString_probes.append(['gene', 'soid', 'variant_type', 'variant_name', 'representative_transcript', 'top_evidence_level', 'diseases','evidence_types','number_of_evidence_statements', 'chrom', 'start', 'stop', 'transcript2', 'chrom2', 'start2', 'stop2'])\n",
    "for k in range(0, len(variants_RNA)):  # iterate through API and pull all eligible variants\n",
    "    chrom = variants_RNA[k]['coordinates']['chromosome'] #call chrom\n",
    "    start = variants_RNA[k]['coordinates']['start'] #call start\n",
    "    stop = variants_RNA[k]['coordinates']['stop'] #call stop\n",
    "    gene = variants_RNA[k]['entrez_name']  #Call Gene name\n",
    "    variant = variants_RNA[k]['name'] #call variant\n",
    "    pipeline = 'RNA-based'\n",
    "    capture.append([chrom, start, stop, gene, variant, pipeline])\n",
    "    "
   ]
  },
  {
   "cell_type": "code",
   "execution_count": 26,
   "metadata": {},
   "outputs": [],
   "source": [
    "##Create output files for probe design    \n",
    "capture_file = open('../../CIViC_design_studio/output_files/CIViC_DesignStudio_probes.tsv', 'w') #create empy file for capture sequence coordinates\n",
    "#write header\n",
    "capture_file.write('chromosome'+ '\\t' + 'start'+ '\\t' + 'stop' '\\t' + 'gene'+ '\\t' + 'variant' + '/t' + 'pipeline' + '\\n')\n",
    "for item in capture: #iterate through capture list\n",
    "    for k in item:\n",
    "        if k is item[-1]:\n",
    "            capture_file.write(str(k))\n",
    "        else:\n",
    "            capture_file.write(str(k) + '\\t')\n",
    "    capture_file.write('\\n')\n",
    "capture_file.close() #close file"
   ]
  },
  {
   "cell_type": "code",
   "execution_count": null,
   "metadata": {
    "collapsed": true
   },
   "outputs": [],
   "source": [
    "\n",
    "#     gene = variants_nanostring[k]['entrez_name']  #Call Gene name\n",
    "#     variant = variants_nanostring[k]['name'] #call variant\n",
    "#     soid = variants_nanostring[k]['variant_types'][0]['so_id'] #call soid\n",
    "#     variant_type = variants_nanostring[k]['variant_types'][0]['name'] #call variant type\n",
    "#     transcript = variants_nanostring[k]['coordinates']['representative_transcript'] #call transcript\n",
    "#     top_evidence = variants_nanostring[k]\n",
    "#     diseases = variants_nanostring[k]\n",
    "#     chrom = variants_nanostring[k]['coordinates']['chromosome'] #call chrom\n",
    "#     start = variants_nanostring[k]['coordinates']['start'] #call start\n",
    "#     stop = variants_nanostring[k]['coordinates']['stop'] #call stop\n",
    "#     evidence = variants_nanostring[k]['evidence_items']\n",
    "#     evidence_statements = len(variants_nanostring[k]['evidence_items'])\n",
    "#     diseases = []  # set list for all of the diseases for this varinat\n",
    "#     evidence_type = []  # set list for evidence types\n",
    "#     evidence_scores = []  # set list for evidence scores\n",
    "#     top_evidences = []  # set list for top evidence level\n",
    "#     for item in evidence:  # iterate through the evidence items\n",
    "#         if item['disease']['name'] not in diseases:  # see if disease is already there\n",
    "#             if 'Walden' in item['disease']['name']:  # Change waldenstroms issues (the A is not accepted by R code)\n",
    "#                 if 'Waldenstroms Macroglobulinemia' not in diseases:  # check if it is already there\n",
    "#                     diseases.append('Waldenstroms Macroglobulinemia')  # if it is not append to diseases\n",
    "#             else:  # if its not a weird name\n",
    "#                 diseases.append(item['disease']['name'])  # append the disease\n",
    "#         if item['evidence_type'] not in evidence_type:  # see if the evidence type is already there\n",
    "#             evidence_type.append(item['evidence_type'])  # if it is not append it\n",
    "#         trust_rating = int(item['rating'] or 0)  # make the trust rating either what is listed or 0\n",
    "#         evidence_level = int(\n",
    "#             score[item['evidence_level']])  # make the evidence level the value from the score dictionary\n",
    "#         evidence_scores.append(evidence_level * trust_rating)  # calculate the Evidence Score\n",
    "#         if item['evidence_level'] != '[]':  # find the evidence levels that are not blank\n",
    "#             top_evidences.append(item['evidence_level'].strip())  # add to the list\n",
    "#     # pull the maximum evidence level\n",
    "#     if 'A' in top_evidences:\n",
    "#         top_evidence = 'A'\n",
    "#     elif 'B' in top_evidences:\n",
    "#         top_evidence = 'B'\n",
    "#     elif 'C' in top_evidences:\n",
    "#         top_evidence = 'C'\n",
    "#     elif 'D' in top_evidences:\n",
    "#         top_evidence = 'D'\n",
    "#     else:\n",
    "#         top_evidence = 'E'\n",
    "#     evidence_score = sum(evidence_scores)  # sum the evidence scores to get a CIVic Score\n",
    "#     disease = ', '.join(diseases)  # format the diseases\n",
    "#     evidence_types = ', '.join(evidence_type)  # format the evidence types\n",
    "\n",
    "#     if variants_nanostring[k]['coordinates']['chromosome2'] is not None and variants_nanostring[k]['coordinates']['start2'] is not None and variants_nanostring[k]['coordinates']['stop2'] is not None:  # if there are two chromosomes for the variant\n",
    "#         chrom2 = variants_nanostring[k]['coordinates']['chromosome2']  # call chrom2\n",
    "#         start2 = variants_nanostring[k]['coordinates']['start2']  # call start2\n",
    "#         stop2 = variants_nanostring[k]['coordinates']['stop2']  # call stop2\n",
    "#         nanoString_probes.append([gene, soid, variant_type, variant, transcript, top_evidence, disease, evidence_types, evidence_statements, chrom, start, stop, chrom2, start2, stop2])  # append new list with bed information\n",
    "#     else:  # if there is only 1 chromosome for the variant\n",
    "#         nanoString_probes.append([gene, soid, variant_type, variant, transcript, top_evidence, disease, evidence_types, evidence_statements, chrom, start, stop])  # append new list with bed information\n"
   ]
  }
 ],
 "metadata": {
  "kernelspec": {
   "display_name": "Python 3",
   "language": "python",
   "name": "python3"
  },
  "language_info": {
   "codemirror_mode": {
    "name": "ipython",
    "version": 3
   },
   "file_extension": ".py",
   "mimetype": "text/x-python",
   "name": "python",
   "nbconvert_exporter": "python",
   "pygments_lexer": "ipython3",
   "version": "3.6.1"
  }
 },
 "nbformat": 4,
 "nbformat_minor": 2
}
