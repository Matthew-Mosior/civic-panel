{
 "cells": [
  {
   "cell_type": "markdown",
   "metadata": {},
   "source": [
    "# Assess the Overlap of the CIViC coordinates with potential tumors\n",
    "\n",
    "\n",
    "#### Usage\n",
    "\n",
    "This script allows for tumors to be evaluated for overlap with the CIViC coordinates\n",
    "\n",
    "#### Input Files:\n",
    "\n",
    "1) file = text file that contains variant information. Each file requires a header with the following labels: sample, gene_name, VAF, amino_acid, chromosome_name, start, stop (these labels can be in any order). the sample column can be composed of multiple different tumors with distinct labels\n",
    "\n",
    "#### Output Files:\n",
    "\n",
    "1) mutation_overlap.tsv is a tab separated file that contains each tumor that is analyzed for overlap, the total number of overlaping variants with the smMIPs panel, and information on each variant that overlaps wih the smMIPs panel including: variant, gene, VAF.\n"
   ]
  },
  {
   "cell_type": "code",
   "execution_count": 34,
   "metadata": {
    "collapsed": true
   },
   "outputs": [],
   "source": [
    "##Tools\n",
    "#!/usr/bin/env python3\n",
    "import pyliftover\n",
    "from pyliftover import LiftOver\n",
    "import json\n",
    "import numpy as np\n",
    "import requests\n",
    "import sys\n"
   ]
  },
  {
   "cell_type": "code",
   "execution_count": 10,
   "metadata": {},
   "outputs": [],
   "source": [
    "#Create a tool that will append the input files to a list\n",
    "def append_file_to_list(file):\n",
    "    list = []\n",
    "    f = open(file, 'r')\n",
    "    for line in f:\n",
    "        line = line.strip('\\n')\n",
    "        line = line.split('\\t')\n",
    "        list.append(line)\n",
    "    return list"
   ]
  },
  {
   "cell_type": "code",
   "execution_count": 35,
   "metadata": {},
   "outputs": [],
   "source": [
    "variants_capture = requests.get('https://civic.genome.wustl.edu/api/panels/captureseq/qualifying_variants?minimum_score=0').json()['records']"
   ]
  },
  {
   "cell_type": "code",
   "execution_count": 114,
   "metadata": {
    "collapsed": true
   },
   "outputs": [],
   "source": [
    "## For variants listed in the CaptureSeq API, create bed-like files for capture design\n",
    "\n",
    "#make dictionary for evidence types\n",
    "score = {'A':5, 'B':4, 'C':3, 'D':2, 'E':1}\n",
    "\n",
    "capture_sequence_probes = [] #create empty list for capture sequence probes\n",
    "capture_sequence_probes.append(['gene', 'so_id', 'variant_type', 'variant_name', 'representative_transcript', 'top_evidence_level', 'diseases', 'evidence_types', 'number_of_evidence_statements', 'evidence_score', 'chrom', 'start', 'stop'])\n",
    "for k in range(0, len(variants_capture)): #iterate through API and pull all eligible variants\n",
    "    gene = variants_capture[k]['entrez_name']  #Call Gene name\n",
    "    variant = variants_capture[k]['name'] #call variant\n",
    "    soid = variants_capture[k]['variant_types'][0]['so_id'] #call soid\n",
    "    variant_type = variants_capture[k]['variant_types'][0]['name'] #call variant type\n",
    "    transcript = variants_capture[k]['coordinates']['representative_transcript'] #call transcript\n",
    "    evidence = variants_capture[k]['evidence_items'] #pull evidence items\n",
    "    evidence_statements = len(variants_capture[k]['evidence_items']) #pull number of evidence statements\n",
    "    chrom = variants_capture[k]['coordinates']['chromosome'] #call chrom\n",
    "    start = variants_capture[k]['coordinates']['start'] #call start\n",
    "    stop = variants_capture[k]['coordinates']['stop'] #call stop\n",
    "    diseases = [] #set list for all of the diseases for this varinat\n",
    "    evidence_type = [] #set list for evidence types\n",
    "    evidence_scores = [] #set list for evidence scores\n",
    "    top_evidences = [] #set list for top evidence level\n",
    "    for item in evidence: #iterate through the evidence items\n",
    "        if item['disease']['name'] not in diseases: #see if disease is already there\n",
    "            if 'Walden' in item['disease']['name']: #Change waldenstroms issues (the A is not accepted by R code)\n",
    "                if 'Waldenstroms Macroglobulinemia' not in diseases: #check if it is already there\n",
    "                    diseases.append('Waldenstroms Macroglobulinemia') #if it is not append to diseases\n",
    "            else: #if its not a weird name\n",
    "                diseases.append(item['disease']['name']) #append the disease\n",
    "        if item['evidence_type'] not in evidence_type: #see if the evidence type is already there\n",
    "            evidence_type.append(item['evidence_type']) #if it is not append it\n",
    "        trust_rating = int(item['rating'] or 0) #make the trust rating either what is listed or 0\n",
    "        evidence_level = int(score[item['evidence_level']]) #make the evidence level the value from the score dictionary\n",
    "        evidence_scores.append(evidence_level * trust_rating) #calculate the Evidence Score\n",
    "        if item['evidence_level'] != '[]': #find the evidence levels that are not blank\n",
    "            top_evidences.append(item['evidence_level'].strip()) #add to the list\n",
    "    #pull the maximum evidence level\n",
    "    if 'A' in top_evidences:\n",
    "        top_evidence = 'A'\n",
    "    elif 'B' in top_evidences:\n",
    "        top_evidence = 'B'\n",
    "    elif 'C' in top_evidences:\n",
    "        top_evidence = 'C'\n",
    "    elif 'D' in top_evidences:\n",
    "        top_evidence = 'D'\n",
    "    else:\n",
    "        top_evidence = 'E'\n",
    "    evidence_score = sum(evidence_scores) #sum the evidence scores to get a CIVic Score\n",
    "    disease = ', '.join(diseases) #format the diseases\n",
    "    evidence_types = ', '.join(evidence_type) #format the evidence types\n",
    "\n",
    "    #Append coordinates to the capture_sequence_probes list\n",
    "    capture_sequence_probes.append([chrom, start, stop, gene, soid, variant_type, variant, transcript, top_evidence, disease, evidence_types, evidence_statements, evidence_score]) #append new list with bed information"
   ]
  },
  {
   "cell_type": "code",
   "execution_count": 113,
   "metadata": {},
   "outputs": [
    {
     "name": "stdout",
     "output_type": "stream",
     "text": [
      "['TP53', 'SO:0000817', 'wild_type', 'WILD TYPE', 'ENST00000269305.4', 'B', 'Colorectal Cancer, Non-small Cell Lung Carcinoma, Esophageal Carcinoma, Cancer, Leukemia', 'Predictive', 6, 64, '17', 7571720, 7590856]\n"
     ]
    }
   ],
   "source": [
    "print(capture_sequence_probes[1])"
   ]
  },
  {
   "cell_type": "code",
   "execution_count": 63,
   "metadata": {
    "collapsed": true
   },
   "outputs": [],
   "source": [
    "lo_38_to_37 = LiftOver('hg38', 'hg19')\n",
    "lo_37_to_38 = LiftOver('hg19', 'hg38')"
   ]
  },
  {
   "cell_type": "code",
   "execution_count": 104,
   "metadata": {},
   "outputs": [
    {
     "name": "stdout",
     "output_type": "stream",
     "text": [
      "3496\n",
      "3495\n",
      "['Chromosome', 'Start', 'Stop', 'Reference', 'Variant', 'Normal_DNA_ref_count', 'Normal_DNA_var_count', 'Normal_DNA_VAF', 'D0_DNA_ref_count', 'D0_DNA_var_count', 'D0_DNA_VAF', 'D14_DNA_ref_count', 'D14_DNA_var_count', 'D14_DNA_VAF', 'sample', 'type', 'transcript_name', 'strand', 'trv_type', 'amino_acid_change', 'mapped_gene_name', 'ensembl_gene_id', 'Normal_DNA_coverage', 'D0_DNA_coverage', 'D14_DNA_coverage']\n"
     ]
    }
   ],
   "source": [
    "pembro = append_file_to_list('/Users/ebarnell/Desktop/DNA_Master_Variants.tsv')\n",
    "print(len(pembro))\n",
    "header = pembro[0]\n",
    "pembro.pop(0)\n",
    "print(len(pembro))\n",
    "print(header)"
   ]
  },
  {
   "cell_type": "code",
   "execution_count": 112,
   "metadata": {},
   "outputs": [
    {
     "name": "stdout",
     "output_type": "stream",
     "text": [
      "['1', 977465, 977465]\n"
     ]
    }
   ],
   "source": [
    "not_converted = 0\n",
    "pembro_37 = []\n",
    "for item in pembro:\n",
    "    chrom = \"chr\" + item[0]\n",
    "    start = int(item[1])\n",
    "    stop = int(item[2])\n",
    "    converted_start = lo_38_to_37.convert_coordinate(chrom, start)\n",
    "    converted_stop = lo_38_to_37.convert_coordinate(chrom, stop)\n",
    "    if converted_start:\n",
    "        pembro_37.append([item[0], converted_start[0][1], converted_stop[0][1]])\n",
    "    else:\n",
    "        not_converted += 1\n",
    "        \n",
    "print(pembro_37[1])"
   ]
  },
  {
   "cell_type": "code",
   "execution_count": 135,
   "metadata": {
    "collapsed": true
   },
   "outputs": [],
   "source": [
    "final_list = []\n",
    "for item in pembro_37:\n",
    "    for exon in capture_sequence_probes:\n",
    "        if str(item[0]) == str(exon[0]) and int(item[1]) >= int(exon[1]) and int(item[2]) <= int(exon[2]):\n",
    "            final_list.append([item, exon[3:]])"
   ]
  },
  {
   "cell_type": "code",
   "execution_count": 136,
   "metadata": {},
   "outputs": [
    {
     "name": "stdout",
     "output_type": "stream",
     "text": [
      "[['1', 115258745, 115258745], ['NRAS', 'SO:0001818', 'protein_altering_variant', 'G12/G13', 'ENST00000369535.4', 'B', 'Acute Myeloid Leukemia', 'Prognostic', 1, 16]]\n"
     ]
    }
   ],
   "source": [
    "print(final_list[1])"
   ]
  },
  {
   "cell_type": "code",
   "execution_count": 144,
   "metadata": {},
   "outputs": [
    {
     "name": "stdout",
     "output_type": "stream",
     "text": [
      "28\n",
      "['chr1', 114716124, 114716124, ['NRAS', 'SO:0001818', 'protein_altering_variant', 'G12/G13', 'ENST00000369535.4', 'B', 'Acute Myeloid Leukemia', 'Prognostic', 1, 16]]\n"
     ]
    }
   ],
   "source": [
    "not_converted = 0\n",
    "pembro_clinical_38 = []\n",
    "for item in final_list:\n",
    "    chrom = \"chr\" + item[0][0]\n",
    "    start = int(item[0][1])\n",
    "    stop = int(item[0][2])\n",
    "    converted_start = lo_37_to_38.convert_coordinate(chrom, start)\n",
    "    converted_stop = lo_37_to_38.convert_coordinate(chrom, stop)\n",
    "    if converted_start:\n",
    "        pembro_clinical_38.append([chrom, converted_start[0][1], converted_stop[0][1], item[1]])\n",
    "    else:\n",
    "        not_converted += 1\n",
    "        \n",
    "print(len(pembro_clinical_38))\n",
    "print(pembro_clinical_38[1])"
   ]
  },
  {
   "cell_type": "code",
   "execution_count": 152,
   "metadata": {},
   "outputs": [],
   "source": [
    "file = open('/Users/ebarnell/Desktop/pembro_clinical_38.txt', 'w')\n",
    "file.write(\"chrom\" + '\\t' + \"start\" + '\\t' + \"stop\" + '\\t' + \"gene\" + '\\t' + \"soid\" + '\\t' + \"variant_type\" + '\\t' + \"variant\" + '\\t' + \"transcript\" + '\\t' + \"top_evidence\" + '\\t' + \"disease\" + '\\t' + \"evidence_types\" + '\\t' + \"evidence_statements\" + '\\t' + \"evidence_score\" + '\\n')\n",
    "for item in pembro_clinical_38:\n",
    "    file.write(str(item[0]))\n",
    "    file.write('\\t')\n",
    "    file.write(str(item[1]))\n",
    "    file.write('\\t')\n",
    "    file.write(str(item[2]))\n",
    "    file.write('\\t')\n",
    "    for thing in item[3]:\n",
    "        file.write(str(thing))\n",
    "        file.write('\\t')\n",
    "    file.write('\\n')\n",
    "file.close()\n",
    "        \n"
   ]
  },
  {
   "cell_type": "code",
   "execution_count": null,
   "metadata": {
    "collapsed": true
   },
   "outputs": [],
   "source": []
  }
 ],
 "metadata": {
  "kernelspec": {
   "display_name": "Python 3",
   "language": "python",
   "name": "python3"
  },
  "language_info": {
   "codemirror_mode": {
    "name": "ipython",
    "version": 3
   },
   "file_extension": ".py",
   "mimetype": "text/x-python",
   "name": "python",
   "nbconvert_exporter": "python",
   "pygments_lexer": "ipython3",
   "version": "3.6.3"
  }
 },
 "nbformat": 4,
 "nbformat_minor": 2
}
