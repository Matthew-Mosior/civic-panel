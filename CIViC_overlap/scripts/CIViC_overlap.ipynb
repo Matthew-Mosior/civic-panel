{
 "cells": [
  {
   "cell_type": "markdown",
   "metadata": {},
   "source": [
    "# Assess the Overlap of the CIViC coordinates with potential tumors\n",
    "\n",
    "\n",
    "#### Usage\n",
    "\n",
    "This script allows for tumors to be evaluated for overlap with the CIViC coordinates\n",
    "\n",
    "#### Input Files:\n",
    "\n",
    "1) file = text file that contains variant information. Each file requires a header with the following labels: sample, gene_name, VAF, amino_acid, chromosome_name, start, stop (these labels can be in any order). the sample column can be composed of multiple different tumors with distinct labels\n",
    "\n",
    "#### Output Files:\n",
    "\n",
    "1) mutation_overlap.tsv is a tab separated file that contains each tumor that is analyzed for overlap, the total number of overlaping variants with the smMIPs panel, and information on each variant that overlaps wih the smMIPs panel including: variant, gene, VAF.\n"
   ]
  },
  {
   "cell_type": "code",
   "execution_count": 1,
   "metadata": {
    "collapsed": true
   },
   "outputs": [],
   "source": [
    "##Tools\n",
    "#!/usr/bin/env python3\n",
    "\n",
    "#Create a tool that will append the input files to a list\n",
    "def append_file_to_list(file):\n",
    "    list = []\n",
    "    f = open(file, 'r')\n",
    "    for line in f:\n",
    "        line = line.strip('\\n')\n",
    "        line = line.split('\\t')\n",
    "        list.append(line)\n",
    "    return list"
   ]
  },
  {
   "cell_type": "code",
   "execution_count": 2,
   "metadata": {
    "collapsed": true
   },
   "outputs": [],
   "source": [
    "##evaluate the hodgkins lymphoma text file for \n",
    "\n",
    "def overlap(file, civic_coordinates):\n",
    "    variant_list = append_file_to_list(file)\n",
    "    mutation_overlap = {}\n",
    "    count = 0\n",
    "    header = variant_list[0]\n",
    "    sample = header.index('sample')\n",
    "    gene = header.index('gene_name')\n",
    "    VAF = header.index('VAF')\n",
    "    variant = header.index('amino_acid')\n",
    "    chrom = header.index('chromosome_name')\n",
    "    start = header.index('start')\n",
    "    stop = header.index('stop')\n",
    "    mutation_overlap = []\n",
    "    for item in variant_list:\n",
    "        for exon in civic_coordinates:\n",
    "            if str(item[0]) == str(exon[0]) and int(item[1]) >= int(exon[1]) and int(item[2]) <= int(exon[2]):\n",
    "                count += 1\n",
    "                if item[sample] not in mutation_overlap:\n",
    "                    mutation_overlap[item[sample]] = [0]\n",
    "                    mutation_overlap[item[sample]][0] += 1\n",
    "                    mutation_overlap[item[sample]].append(item[gene])\n",
    "                    mutation_overlap[item[sample]].append(item[variant])\n",
    "                    mutation_overlap[item[sample]].append(item[VAF])\n",
    "                    mutation_overlap[item[sample]].append(item[chrom])\n",
    "                    mutation_overlap[item[sample]].append(item[start])\n",
    "                    mutation_overlap[item[sample]].append(item[stop])\n",
    "\n",
    "                else:\n",
    "                    mutation_overlap[item[sample]][0] += 1\n",
    "                    mutation_overlap[item[sample]].append(item[gene])\n",
    "                    mutation_overlap[item[sample]].append(item[variant])\n",
    "                    mutation_overlap[item[sample]].append(item[VAF])\n",
    "                    mutation_overlap[item[sample]].append(item[chrom])\n",
    "                    mutation_overlap[item[sample]].append(item[start])\n",
    "                    mutation_overlap[item[sample]].append(item[stop])\n",
    "    return mutation_overlap"
   ]
  },
  {
   "cell_type": "code",
   "execution_count": null,
   "metadata": {
    "collapsed": true
   },
   "outputs": [],
   "source": [
    "#Pull in CIViC Information"
   ]
  },
  {
   "cell_type": "code",
   "execution_count": null,
   "metadata": {
    "collapsed": true
   },
   "outputs": [],
   "source": [
    "#Assess CIViC Coordinates with other info"
   ]
  },
  {
   "cell_type": "code",
   "execution_count": null,
   "metadata": {
    "collapsed": true
   },
   "outputs": [],
   "source": [
    "overlap = open('mutation_overlap.tsv', 'w')  #create empy file for nanostring coordinates\n",
    "for k,v in mutation_overlap.items(): #iterate through nanostring list\n",
    "    overlap.write(str(k) + '\\t')\n",
    "    for item in v:\n",
    "        overlap.write(str(item) + '\\t')\n",
    "    overlap.write('\\n')\n",
    "overlap.close() #close file"
   ]
  }
 ],
 "metadata": {
  "kernelspec": {
   "display_name": "Python 3",
   "language": "python",
   "name": "python3"
  },
  "language_info": {
   "codemirror_mode": {
    "name": "ipython",
    "version": 3
   },
   "file_extension": ".py",
   "mimetype": "text/x-python",
   "name": "python",
   "nbconvert_exporter": "python",
   "pygments_lexer": "ipython3",
   "version": "3.6.1"
  }
 },
 "nbformat": 4,
 "nbformat_minor": 2
}
