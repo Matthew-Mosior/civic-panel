{
 "cells": [
  {
   "cell_type": "markdown",
   "metadata": {},
   "source": [
    "Usage: python3 Probe_Selection.py <Threshold> <panel_genes> <tile_classification>\n",
    "\n",
    "Example 38: python3 overlap.py coordinates_merge_38.txt Pembrolizumab_MASTER_MAF.tsv\n",
    "\n",
    "Example 37: python3 overlap.py coordinates_merge_37.txt CRC.txt"
   ]
  },
  {
   "cell_type": "code",
   "execution_count": 43,
   "metadata": {
    "collapsed": true
   },
   "outputs": [],
   "source": [
    "##Tools\n",
    "#!/usr/bin/env python3\n",
    "\n",
    "def append_file_to_list(file):\n",
    "    list = []\n",
    "    f = open(file, 'r')\n",
    "    for line in f:\n",
    "        line = line.strip('\\n')\n",
    "        line = line.split('\\t')\n",
    "        list.append(line)\n",
    "    return list"
   ]
  },
  {
   "cell_type": "code",
   "execution_count": 44,
   "metadata": {
    "collapsed": true
   },
   "outputs": [],
   "source": [
    "civic_coordinates_38 = append_file_to_list(\"coordinates_merge_38.txt\")\n",
    "civic_coordinates_37 = append_file_to_list(\"coordinates_merge_37.txt\")"
   ]
  },
  {
   "cell_type": "code",
   "execution_count": 45,
   "metadata": {},
   "outputs": [],
   "source": [
    "HL = append_file_to_list(\"HL.txt\")\n",
    "\n",
    "mutation_overlap = {}\n",
    "count = 0\n",
    "header = HL[0]\n",
    "sample = header.index('sample')\n",
    "gene = header.index('gene_name')\n",
    "VAF = header.index('VAF')\n",
    "variant = header.index('amino_acid')\n",
    "\n",
    "for item in HL:\n",
    "    for exon in civic_coordinates_38:\n",
    "        if str(item[0]) == str(exon[0]) and int(item[1]) >= int(exon[1]) and int(item[2]) <= int(exon[2]):\n",
    "            count += 1\n",
    "            if item[sample] not in mutation_overlap:\n",
    "                mutation_overlap[item[sample]] = [0]\n",
    "                mutation_overlap[item[sample]][0] += 1\n",
    "                mutation_overlap[item[sample]].append(item[gene])\n",
    "                mutation_overlap[item[sample]].append(item[variant])\n",
    "                mutation_overlap[item[sample]].append(item[VAF])\n",
    "\n",
    "            else:\n",
    "                mutation_overlap[item[sample]][0] += 1\n",
    "                mutation_overlap[item[sample]].append(item[gene])\n",
    "                mutation_overlap[item[sample]].append(item[variant])\n",
    "                mutation_overlap[item[sample]].append(item[VAF])\n"
   ]
  },
  {
   "cell_type": "code",
   "execution_count": 46,
   "metadata": {},
   "outputs": [],
   "source": [
    "AML31 = append_file_to_list(\"AML31_tumor.txt\")\n",
    "\n",
    "count = 0\n",
    "header = AML31[0]\n",
    "sample = header.index('sample')\n",
    "gene = header.index('gene_name')\n",
    "VAF = header.index('VAF')\n",
    "variant = header.index('amino_acid')\n",
    "\n",
    "for item in AML31:\n",
    "    for exon in civic_coordinates_37:\n",
    "        if str(item[0]) == str(exon[0]) and int(item[1]) >= int(exon[1]) and int(item[2]) <= int(exon[2]):\n",
    "            count += 1\n",
    "            if item[sample] not in mutation_overlap:\n",
    "                mutation_overlap[item[sample]] = [0]\n",
    "                mutation_overlap[item[sample]][0] += 1\n",
    "                mutation_overlap[item[sample]].append(item[gene])\n",
    "                mutation_overlap[item[sample]].append(item[variant])\n",
    "                mutation_overlap[item[sample]].append(item[VAF])\n",
    "\n",
    "            else:\n",
    "                mutation_overlap[item[sample]][0] += 1\n",
    "                mutation_overlap[item[sample]].append(item[gene])\n",
    "                mutation_overlap[item[sample]].append(item[variant])\n",
    "                mutation_overlap[item[sample]].append(item[VAF])\n"
   ]
  },
  {
   "cell_type": "code",
   "execution_count": 47,
   "metadata": {},
   "outputs": [],
   "source": [
    "GTB24_ALL = append_file_to_list(\"GTB24_ALL.txt\")\n",
    "\n",
    "count = 0\n",
    "header = GTB24_ALL[0]\n",
    "sample = header.index('sample')\n",
    "gene = header.index('gene_name')\n",
    "VAF = header.index('VAF')\n",
    "variant = header.index('amino_acid')\n",
    "\n",
    "for item in GTB24_ALL:\n",
    "    for exon in civic_coordinates_38:\n",
    "        if str(item[0]) == str(exon[0]) and int(item[1]) >= int(exon[1]) and int(item[2]) <= int(exon[2]):\n",
    "            count += 1\n",
    "            if item[sample] not in mutation_overlap:\n",
    "                mutation_overlap[item[sample]] = [0]\n",
    "                mutation_overlap[item[sample]][0] += 1\n",
    "                mutation_overlap[item[sample]].append(item[gene])\n",
    "                mutation_overlap[item[sample]].append(item[variant])\n",
    "                mutation_overlap[item[sample]].append(item[VAF])\n",
    "\n",
    "            else:\n",
    "                mutation_overlap[item[sample]][0] += 1\n",
    "                mutation_overlap[item[sample]].append(item[gene])\n",
    "                mutation_overlap[item[sample]].append(item[variant])\n",
    "                mutation_overlap[item[sample]].append(item[VAF])\n"
   ]
  },
  {
   "cell_type": "code",
   "execution_count": 48,
   "metadata": {},
   "outputs": [],
   "source": [
    "OSCC = append_file_to_list(\"OSCC.txt\")\n",
    "\n",
    "count = 0\n",
    "header = OSCC[0]\n",
    "sample = header.index('sample')\n",
    "gene = header.index('gene_name')\n",
    "VAF = header.index('VAF')\n",
    "variant = header.index('amino_acid')\n",
    "\n",
    "for item in OSCC:\n",
    "    for exon in civic_coordinates_38:\n",
    "        if str(item[0]) == str(exon[0]) and int(item[1]) >= int(exon[1]) and int(item[2]) <= int(exon[2]):\n",
    "            count += 1\n",
    "            if item[sample] not in mutation_overlap:\n",
    "                mutation_overlap[item[sample]] = [0]\n",
    "                mutation_overlap[item[sample]][0] += 1\n",
    "                mutation_overlap[item[sample]].append(item[gene])\n",
    "                mutation_overlap[item[sample]].append(item[variant])\n",
    "                mutation_overlap[item[sample]].append(item[VAF])\n",
    "\n",
    "            else:\n",
    "                mutation_overlap[item[sample]][0] += 1\n",
    "                mutation_overlap[item[sample]].append(item[gene])\n",
    "                mutation_overlap[item[sample]].append(item[variant])\n",
    "                mutation_overlap[item[sample]].append(item[VAF])\n"
   ]
  },
  {
   "cell_type": "code",
   "execution_count": 49,
   "metadata": {},
   "outputs": [],
   "source": [
    "SCLC = append_file_to_list(\"SCLC_tumor.txt\")\n",
    "\n",
    "count = 0\n",
    "header = SCLC[0]\n",
    "sample = header.index('sample')\n",
    "gene = header.index('gene_name')\n",
    "VAF = header.index('VAF')\n",
    "variant = header.index('amino_acid')\n",
    "\n",
    "for item in SCLC:\n",
    "    for exon in civic_coordinates_37:\n",
    "        if str(item[0]) == str(exon[0]) and int(item[1]) >= int(exon[1]) and int(item[2]) <= int(exon[2]):\n",
    "            count += 1\n",
    "            if item[sample] not in mutation_overlap:\n",
    "                mutation_overlap[item[sample]] = [0]\n",
    "                mutation_overlap[item[sample]][0] += 1\n",
    "                mutation_overlap[item[sample]].append(item[gene])\n",
    "                mutation_overlap[item[sample]].append(item[variant])\n",
    "                mutation_overlap[item[sample]].append(item[VAF])\n",
    "\n",
    "            else:\n",
    "                mutation_overlap[item[sample]][0] += 1\n",
    "                mutation_overlap[item[sample]].append(item[gene])\n",
    "                mutation_overlap[item[sample]].append(item[variant])\n",
    "                mutation_overlap[item[sample]].append(item[VAF])\n"
   ]
  },
  {
   "cell_type": "code",
   "execution_count": 50,
   "metadata": {
    "collapsed": true
   },
   "outputs": [],
   "source": [
    "SCLC_relapse = append_file_to_list(\"SCLC_relapse.txt\")\n",
    "\n",
    "count = 0\n",
    "header = SCLC_relapse[0]\n",
    "sample = header.index('sample')\n",
    "gene = header.index('gene_name')\n",
    "VAF = header.index('VAF')\n",
    "variant = header.index('amino_acid')\n",
    "\n",
    "for item in SCLC_relapse:\n",
    "    for exon in civic_coordinates_37:\n",
    "        if str(item[0]) == str(exon[0]) and int(item[1]) >= int(exon[1]) and int(item[2]) <= int(exon[2]):\n",
    "            count += 1\n",
    "            if item[sample] not in mutation_overlap:\n",
    "                mutation_overlap[item[sample]] = [0]\n",
    "                mutation_overlap[item[sample]][0] += 1\n",
    "                mutation_overlap[item[sample]].append(item[gene])\n",
    "                mutation_overlap[item[sample]].append(item[variant])\n",
    "                mutation_overlap[item[sample]].append(item[VAF])\n",
    "\n",
    "            else:\n",
    "                mutation_overlap[item[sample]][0] += 1\n",
    "                mutation_overlap[item[sample]].append(item[gene])\n",
    "                mutation_overlap[item[sample]].append(item[variant])\n",
    "                mutation_overlap[item[sample]].append(item[VAF])"
   ]
  },
  {
   "cell_type": "code",
   "execution_count": 51,
   "metadata": {},
   "outputs": [],
   "source": [
    "overlap = open('sample_overlap.tsv', 'w')  #create empy file for nanostring coordinates\n",
    "for k,v in mutation_overlap.items(): #iterate through nanostring list\n",
    "    overlap.write(str(k) + '\\t')\n",
    "    for item in v:\n",
    "        overlap.write(str(item) + '\\t')\n",
    "    overlap.write('\\n')\n",
    "overlap.close() #close file"
   ]
  },
  {
   "cell_type": "code",
   "execution_count": null,
   "metadata": {
    "collapsed": true
   },
   "outputs": [],
   "source": []
  }
 ],
 "metadata": {
  "kernelspec": {
   "display_name": "Python 3",
   "language": "python",
   "name": "python3"
  },
  "language_info": {
   "codemirror_mode": {
    "name": "ipython",
    "version": 3
   },
   "file_extension": ".py",
   "mimetype": "text/x-python",
   "name": "python",
   "nbconvert_exporter": "python",
   "pygments_lexer": "ipython3",
   "version": "3.6.3"
  }
 },
 "nbformat": 4,
 "nbformat_minor": 2
}
