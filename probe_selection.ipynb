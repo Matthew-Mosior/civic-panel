{
 "cells": [
  {
   "cell_type": "markdown",
   "metadata": {},
   "source": [
    "Information: Probe_Selection.py will pull existing variants from the CIViC Knowledgebase, iterates through all pulled \n",
    "variants, and score the variant based on the accepted evidence items. This CIViC Score is calculated by adding the \n",
    "Evidence Scores for all accepted Evidence Statements associated with that variant. The Evidence Score is calculated by \n",
    "multiplying the Trust Rating by the Evidence Level. The threshold will provide the lower limit required for a variant \n",
    "to be considered extensively curated and therefore eligible for probe design. This script will also provide informaiton on the CIViC Interface relative to other panel genes.\n",
    "\n",
    "Usage: python3 Probe_Selection.py <Threshold> <panel_genes> <tile_classification>\n",
    "\n",
    "Example: python3 Probe_Selection.py 20 panel_genes.txt tile_classification.txt\n",
    "\n",
    "1) <Threshold> = CIViC Score required for Variant\n",
    "2) <panel_genes> = this input is a .txt file that contains genes within existing gene panels\n",
    "3) <tile_classificaitons> = this is the manually curated file that dictates if a variant requires tiling\n",
    "\n",
    "Output: There are two forms of output, statistics on the capture panel and output files for probe design. The statistics\n",
    "output will show the following:\n",
    "1) Total Number of Eligible Variants based on the <Threshold> input\n",
    "2) Total Number of Eligible Genes based on the <Threshold> input\n",
    "3) Number of genes in at least 10-panels that have been previosuly described based on the <panel_genes> input\n",
    "4) Number of missing variants in civic based on the <Threshold> input and the <panel_genes> input\n",
    "5) List of genes missing in CIViC that are in 10 gene panels\n",
    "6) Number of genes in CIViC but not on 10 gene panels\n",
    "7) List of genes in CIViC but are not on 10 gene panels\n",
    "8) Number of genes that do not have a Vriant Type (SO_id)\n",
    "9) SO_id Numbers and names that need the be analyzed for either NanoString or CaptureSeq Platforms\n",
    "\n",
    "There will also be three output files for probe design. Specifically, two bed files will be created to detail the\n",
    "coordinates for the eligible variants based on the <Threshold> input. Each list will contain four columns.  \n",
    "These columns will be \"name\" \"chromosome\" \"start\" \"stop\". The third output file will be a text file that shows if \n",
    "there are any new variants that require tile classification curation. The files will be named the following:\n",
    "\n",
    "1) nanoString_probes: Probes that will need to be evaluated using NanoString Technology\n",
    "2) capture_sequence_probes: Probes that will need to be evaluated using Capture-Sequencing Technology\n",
    "3) tile_classification.txt: gene name, variant, tile label, and notes\n"
   ]
  },
  {
   "cell_type": "code",
   "execution_count": 1,
   "metadata": {
    "collapsed": true
   },
   "outputs": [],
   "source": [
    "#!/usr/bin/env python3\n",
    "import json\n",
    "import numpy as np\n",
    "import requests\n",
    "import sys"
   ]
  },
  {
   "cell_type": "code",
   "execution_count": 6,
   "metadata": {
    "collapsed": true
   },
   "outputs": [],
   "source": [
    "##Pull in Data from JSON\n",
    "\n",
    "variants_capture = requests.get('https://civic.genome.wustl.edu/api/panels/captureseq/qualifying_variants?minimum_score=20').json()['records'] #Call eligible variants\n",
    "\n",
    "variants_nanostring = requests.get('https://civic.genome.wustl.edu/api/panels/nanostring/qualifying_variants?minimum_score=20').json()['records'] #Call eligible variants"
   ]
  },
  {
   "cell_type": "code",
   "execution_count": 7,
   "metadata": {},
   "outputs": [
    {
     "name": "stdout",
     "output_type": "stream",
     "text": [
      "Total Number of Eligible Variants:  252\n",
      "Total Number of Eligible Genes:  100\n"
     ]
    }
   ],
   "source": [
    "##Use API to determine the total number of eligible variants and the total number of eligible genes\n",
    "\n",
    "total_variant_count = 0 #Start count to determine the total number of eligible variants\n",
    "variant_list = [] #Create a Variant List for all genes\n",
    "\n",
    "for k in range(0, len(variants_nanostring)): #iterate through API and pull all eligible variants\n",
    "    if variants_nanostring[k]['entrez_name'] not in variant_list: #If the gene is not in the list already\n",
    "        variant_list.append(variants_nanostring[k]['entrez_name']) #add to the list\n",
    "    total_variant_count += 1 #Count all of the eligible variants\n",
    "    \n",
    "for k in range(0, len(variants_capture)): #iterate through API and pull all eligible variants\n",
    "    if variants_capture[k]['entrez_name'] not in variant_list: #If the gene is not in the list already\n",
    "        variant_list.append(variants_capture[k]['entrez_name']) #add to the list\n",
    "    total_variant_count += 1 #Count all of the eligible variants\n",
    "    \n",
    "print('Total Number of Eligible Variants: ', total_variant_count) #Print out all variants\n",
    "print('Total Number of Eligible Genes: ', len(variant_list)) #Print out all Genes"
   ]
  },
  {
   "cell_type": "code",
   "execution_count": 11,
   "metadata": {},
   "outputs": [
    {
     "name": "stdout",
     "output_type": "stream",
     "text": [
      "Number of genes in at Least 10 Panels is: 161\n",
      "Number of Genes Missing from CIViC is: 96\n",
      "List of Genes missing from CIViC  ['CDH1', 'APC', 'MLH1', 'PTPN11', 'KDR', 'HRAS', 'JAK3', 'FGFR3', 'RB1', 'CSF1R', 'GNAQ', 'FBXW7', 'MPL', 'ERBB4', 'GNA11', 'SRC', 'SMARCB1', 'HNF1A', 'MAP2K1', 'MSH2', 'MYC', 'PTCH1', 'MSH6', 'NTRK1', 'PMS2', 'TSC1', 'GATA2', 'CBL', 'DDR2', 'BRIP1', 'PALB2', 'ESR1', 'TSC2', 'MUTYH', 'PDGFRB', 'AR', 'KMT2A', 'AKT2', 'GATA1', 'MAP2K2', 'PIK3R1', 'ETV6', 'PAX5', 'JAK1', 'FGFR4', 'MEN1', 'KDM6A', 'RAF1', 'NTRK3', 'NBN', 'SDHB', 'CREBBP', 'NF2', 'ATRX', 'BCL6', 'GATA3', 'SUFU', 'FLCN', 'IGF1R', 'SDHD', 'BMPR1A', 'AKT3', 'FH', 'EP300', 'NOTCH2', 'MDM2', 'PRKAR1A', 'MYCL', 'FOXL2', 'SDHC', 'EPCAM', 'IL7R', 'RARA', 'CDKN2B', 'FLT4', 'FLT1', 'FANCC', 'FANCA', 'BCOR', 'BLM', 'RAD51C', 'AXL', 'STAG2', 'CIC', 'PHOX2B', 'TGFBR2', 'CDC73', 'SETBP1', 'ZRSR2', 'MRE11A', 'PHF6', 'ETV1', 'NFE2L2', 'MAP2K4', 'PIK3R2', 'DICER1']\n"
     ]
    }
   ],
   "source": [
    "##See how many genes are in panels but not eligible for CIViC\n",
    "panel_genes = open('panel_genes.txt', 'r') #open panel_genes\n",
    "panel_genes_list = [] #create empty file for panel genes\n",
    "for line in panel_genes: #iterate through panel genes\n",
    "    line = line.strip('\\n') #strip the new line\n",
    "    line = line.split('\\t') #split by tabs\n",
    "    gene = line[0] #pull gene\n",
    "    panel_genes_list.append(gene) #append to gene list\n",
    "not_in_CIViC = [] #create empty list for genes that are not extensively curated\n",
    "for item in panel_genes_list: #for item in panel list\n",
    "    if item not in variant_list: #if the item is not in the civic list\n",
    "        not_in_CIViC.append(item) #append it to the not in civic list\n",
    "print('Number of genes in at Least 10 Panels is:', len(panel_genes_list)) #print the length of the panel Genes\n",
    "print('Number of Genes Missing from CIViC is:', len(not_in_CIViC)) #print number of genes not in civic\n",
    "print('List of Genes missing from CIViC ', not_in_CIViC)"
   ]
  },
  {
   "cell_type": "code",
   "execution_count": 12,
   "metadata": {},
   "outputs": [
    {
     "name": "stdout",
     "output_type": "stream",
     "text": [
      "Number of genes in CIViC but not in 10 gene Panels is:  35\n",
      "Genes in CIViC but not in 10 panels:  ['NRG1', 'MGMT', 'ALDH1A2', 'MMP2', 'EREG', 'ERCC1', 'PGR', 'CD274', 'TYMS', 'AREG', 'EPAS1', 'HIF1A', 'MKI67', 'GAS6', 'PAX8', 'SGK1', 'RRM1', 'FLI1', 'PML', 'ERG', 'EWSR1', 'PRKACA', 'DPYD', 'UGT1A1', 'CSF3R', 'FCGR2A', 'FCGR3A', 'NT5C2', 'XRCC1', 'MAP2K7', 'HOXB13', 'MTHFR', 'CALR', 'ABCB1', 'BCL2L11']\n"
     ]
    }
   ],
   "source": [
    "#See how many genes are in CIViC but are not on the 10 panel list\n",
    "civic_only = [] #create list for civic only genes\n",
    "for item in variant_list: #iterate through variant list\n",
    "    if item not in panel_genes_list: #see if variant not in panel gene list\n",
    "        if item not in civic_only: #see if it is not in the civic only list\n",
    "            civic_only.append(item) #if it is not in civic only list add it\n",
    "print('Number of genes in CIViC but not in 10 gene Panels is: ', len(civic_only))\n",
    "print('Genes in CIViC but not in 10 panels: ', civic_only)"
   ]
  },
  {
   "cell_type": "code",
   "execution_count": 14,
   "metadata": {},
   "outputs": [
    {
     "name": "stdout",
     "output_type": "stream",
     "text": [
      "Number of genes without Variant Type (SO_id): 83\n",
      "These genes are: ['APC', 'TP53', 'EGFR', 'AR', 'GNAQ', 'GNA11', 'SULT1E1', 'JAK2', 'BRCA1', 'CRBN', 'BRD4', 'MLH1', 'TYMS', 'CHEK2', 'NTRK1', 'RUNX1', 'ERBB2', 'HLA-C', 'FGFR3', 'FGFR2', 'ALK', 'BRAF', 'KIT', 'CREBBP', 'MTAP', 'GNAS', 'STK11', 'PDGFRA', 'NOTCH1', 'KRAS', 'ATM', 'NRAS', 'AEBP1', 'MDM2', 'MDM4', 'CTAG1B', 'CTAG2', 'SMO', 'NTRK3', 'DCC', 'ARID1A', 'AKT3', 'MYC', 'HRAS', 'ABL1', 'FBXW7', 'MTOR', 'FLT3', 'PTCH1', 'ROS1', 'POLD1', 'SCN8A', 'PXDNL', 'PAPPA2', 'POLE4', 'MET', 'PIK3R2', 'LYN', 'ESR1', 'RAF1', 'PSMD4', 'CDK6', 'ACVR1', 'RET', 'CHEK1', 'VHL', 'POLE', 'CIC', 'ETV1', 'ETV5', 'ATXN1L', 'SUFU', 'PIK3CA', 'CTNNB1', 'DICER1', 'EZH2', 'CX3CL1', 'NRG1', 'FGFR4', 'RAD50', 'BTK', 'PLCG2', 'TSC2']\n"
     ]
    }
   ],
   "source": [
    "##Make sure that all variants have SOIDs\n",
    "#Iterate through capture seq to pull soids\n",
    "SOID_labels = requests.get('https://civic.genome.wustl.edu/api/panels?count=1000000').json()['CaptureSeq']['sequence_ontology_terms'] #pull API\n",
    "SOID = {} #Create new dictionary to hold SOIDs in API\n",
    "#Iterate through the API interface\n",
    "for item in SOID_labels:\n",
    "    if item['soid'] not in SOID: #Pull the SOIDs\n",
    "        SOID[item['soid']] = [] #create new list if it is not already in SOID dictioanry\n",
    "        SOID[item['soid']].append(item['name']) #Add to dictionary\n",
    "#Iterate through nanostring to pull soids\n",
    "SOID_labels = requests.get('https://civic.genome.wustl.edu/api/panels?count=1000000').json()['NanoString']['sequence_ontology_terms']\n",
    "for item in SOID_labels:#iterate through the variants\n",
    "    if item['soid'] not in SOID: #If the soid is not already in the\n",
    "        SOID[item['soid']] = [] #create holder\n",
    "        SOID[item['soid']].append(item['name']) #add to the list\n",
    "\n",
    "CIViC_SOID = [] #Create new list for all of the SOIDs that are in CIViC\n",
    "no_SOID_in_CIViC = [] #Create new list for all of the variants that do not have a SOID term attached to it\n",
    "\n",
    "#Pull all of the variants from the CIViC API\n",
    "SOID_API = requests.get('https://civic.genome.wustl.edu/api/variants?count=1000000').json()['records']\n",
    "for item in SOID_API: #iterate through the API\n",
    "    if item['variant_types'] != []: #If the variant_type is there\n",
    "        if item['variant_types'][0]['so_id'] not in CIViC_SOID: #and the soid is not in the CIViC SOID list\n",
    "            CIViC_SOID.append([item['variant_types'][0]['so_id'], item['variant_types'][0]['display_name']]) #add it to the list\n",
    "    if item['variant_types'] == []: #If the variant type has not been created yet\n",
    "        if item['entrez_name'] not in no_SOID_in_CIViC: #and the gene name has not already been evaluated\n",
    "            no_SOID_in_CIViC.append(item['entrez_name']) #Add the gene name to the 'not in civic' list\n",
    "\n",
    "print('Number of genes without Variant Type (SO_id):', len(no_SOID_in_CIViC))\n",
    "print('These genes are:', no_SOID_in_CIViC)"
   ]
  },
  {
   "cell_type": "code",
   "execution_count": 15,
   "metadata": {},
   "outputs": [
    {
     "name": "stdout",
     "output_type": "stream",
     "text": [
      "There are no SO_ids that need to be added to the API!\n"
     ]
    }
   ],
   "source": [
    "##Determine if you need to add soid labels to your list on the API\n",
    "SOID_labels = requests.get('https://civic.genome.wustl.edu/api/panels?count=1000000').json()['unbinned_terms']\n",
    "if len(SOID_labels) == 0:\n",
    "    print('There are no SO_ids that need to be added to the API!')\n",
    "else:\n",
    "    print('The Following SO_ids need to be added to the API')  # Header\n",
    "    for item in SOID_labels:#iterate through the variants\n",
    "        print(item['soid'] + ' - ' + item['name'])\n"
   ]
  },
  {
   "cell_type": "code",
   "execution_count": 18,
   "metadata": {
    "collapsed": true
   },
   "outputs": [],
   "source": [
    "## For variants listed in the CaptureSeq API, create bed-like files for capture design\n",
    "\n",
    "#make dictionary for evidence types\n",
    "score = {'A':5, 'B':4, 'C':3, 'D':2, 'E':1}\n",
    "\n",
    "capture_sequence_probes = [] #create empty list for capture sequence probes\n",
    "capture_sequence_probes.append(['gene', 'so_id', 'variant_type', 'variant_name', 'representative_transcript', 'top_evidence_level', 'diseases', 'evidence_types', 'number_of_evidence_statements', 'evidence_score', 'chrom', 'start', 'stop'])\n",
    "for k in range(0, len(variants_capture)): #iterate through API and pull all eligible variants\n",
    "    gene = variants_capture[k]['entrez_name']  #Call Gene name\n",
    "    variant = variants_capture[k]['name'] #call variant\n",
    "    soid = variants_capture[k]['variant_types'][0]['so_id'] #call soid\n",
    "    variant_type = variants_capture[k]['variant_types'][0]['name'] #call variant type\n",
    "    transcript = variants_capture[k]['coordinates']['representative_transcript'] #call transcript\n",
    "    evidence = variants_capture[k]['evidence_items'] #pull evidence items\n",
    "    evidence_statements = len(variants_capture[k]['evidence_items']) #pull number of evidence statements\n",
    "    chrom = variants_capture[k]['coordinates']['chromosome'] #call chrom\n",
    "    start = variants_capture[k]['coordinates']['start'] #call start\n",
    "    stop = variants_capture[k]['coordinates']['stop'] #call stop\n",
    "    diseases = [] #set list for all of the diseases for this varinat\n",
    "    evidence_type = [] #set list for evidence types\n",
    "    evidence_scores = [] #set list for evidence scores\n",
    "    top_evidences = [] #set list for top evidence level\n",
    "    for item in evidence: #iterate through the evidence items\n",
    "        if item['disease']['name'] not in diseases: #see if disease is already there\n",
    "            if 'Walden' in item['disease']['name']: #Change waldenstroms issues (the A is not accepted by R code)\n",
    "                if 'Waldenstroms Macroglobulinemia' not in diseases: #check if it is already there\n",
    "                    diseases.append('Waldenstroms Macroglobulinemia') #if it is not append to diseases\n",
    "            else: #if its not a weird name\n",
    "                diseases.append(item['disease']['name']) #append the disease\n",
    "        if item['evidence_type'] not in evidence_type: #see if the evidence type is already there\n",
    "            evidence_type.append(item['evidence_type']) #if it is not append it\n",
    "        trust_rating = int(item['rating'] or 0) #make the trust rating either what is listed or 0\n",
    "        evidence_level = int(score[item['evidence_level']]) #make the evidence level the value from the score dictionary\n",
    "        evidence_scores.append(evidence_level * trust_rating) #calculate the Evidence Score\n",
    "        if item['evidence_level'] != '[]': #find the evidence levels that are not blank\n",
    "            top_evidences.append(item['evidence_level'].strip()) #add to the list\n",
    "    #pull the maximum evidence level\n",
    "    if 'A' in top_evidences:\n",
    "        top_evidence = 'A'\n",
    "    elif 'B' in top_evidences:\n",
    "        top_evidence = 'B'\n",
    "    elif 'C' in top_evidences:\n",
    "        top_evidence = 'C'\n",
    "    elif 'D' in top_evidences:\n",
    "        top_evidence = 'D'\n",
    "    else:\n",
    "        top_evidence = 'E'\n",
    "    evidence_score = sum(evidence_scores) #sum the evidence scores to get a CIVic Score\n",
    "    disease = ', '.join(diseases) #format the diseases\n",
    "    evidence_types = ', '.join(evidence_type) #format the evidence types\n",
    "\n",
    "    #Append coordinates to the capture_sequence_probes list\n",
    "    if variants_capture[k]['coordinates']['chromosome2'] is not None and variants_capture[k]['coordinates']['start2'] is not None and variants_capture[k]['coordinates']['stop2'] is not None: #if there are two chromosomes for the variant\n",
    "        transcript2 = variants_capture[k]['coordinates']['representative_transcript'] #call transcript\n",
    "        chrom2 = variants_capture[k]['coordinates']['chromosome2'] #call chrom2\n",
    "        start2 = variants_capture[k]['coordinates']['start2'] #call start2\n",
    "        stop2 = variants_capture[k]['coordinates']['stop2'] #call stop2\n",
    "        capture_sequence_probes.append([gene, soid, variant_type, variant, transcript, top_evidence, disease, evidence_types, evidence_statements, evidence_score, chrom, start, stop, transcript2, chrom2, start2, stop2]) #append new list with bed informaiton\n",
    "    else: #if there is only 1 chromosome for the variant\n",
    "        capture_sequence_probes.append([gene, soid, variant_type, variant, transcript, top_evidence, disease, evidence_types, evidence_statements, evidence_score, chrom, start, stop]) #append new list with bed information\n",
    "\n",
    "##Create output files for capture     \n",
    "capture = open('capture_sequence_probes.tsv', 'w') #create empy file for capture sequence coordinates\n",
    "for item in capture_sequence_probes: #iterate through capture list\n",
    "    for k in item:\n",
    "        if k is item[-1]:\n",
    "            capture.write(str(k))\n",
    "        else:\n",
    "            capture.write(str(k) + '\\t')\n",
    "    capture.write('\\n')\n",
    "capture.close() #close file"
   ]
  },
  {
   "cell_type": "code",
   "execution_count": 19,
   "metadata": {
    "collapsed": true
   },
   "outputs": [],
   "source": [
    "## For variants listed in the NanoString API, create bed-like files for capture design\n",
    "\n",
    "nanoString_probes = []  # create empty list for nanostring probes\n",
    "nanoString_probes.append(['gene', 'soid', 'variant_type', 'variant_name', 'representative_transcript', 'top_evidence_level', 'diseases','evidence_types','number_of_evidence_statements', 'chrom', 'start', 'stop', 'transcript2', 'chrom2', 'start2', 'stop2'])\n",
    "for k in range(0, len(variants_nanostring)):  # iterate through API and pull all eligible variants\n",
    "    gene = variants_nanostring[k]['entrez_name']  #Call Gene name\n",
    "    variant = variants_nanostring[k]['name'] #call variant\n",
    "    soid = variants_nanostring[k]['variant_types'][0]['so_id'] #call soid\n",
    "    variant_type = variants_nanostring[k]['variant_types'][0]['name'] #call variant type\n",
    "    transcript = variants_nanostring[k]['coordinates']['representative_transcript'] #call transcript\n",
    "    top_evidence = variants_nanostring[k]\n",
    "    diseases = variants_nanostring[k]\n",
    "    chrom = variants_nanostring[k]['coordinates']['chromosome'] #call chrom\n",
    "    start = variants_nanostring[k]['coordinates']['start'] #call start\n",
    "    stop = variants_nanostring[k]['coordinates']['stop'] #call stop\n",
    "    evidence = variants_nanostring[k]['evidence_items']\n",
    "    evidence_statements = len(variants_nanostring[k]['evidence_items'])\n",
    "    diseases = []  # set list for all of the diseases for this varinat\n",
    "    evidence_type = []  # set list for evidence types\n",
    "    evidence_scores = []  # set list for evidence scores\n",
    "    top_evidences = []  # set list for top evidence level\n",
    "    for item in evidence:  # iterate through the evidence items\n",
    "        if item['disease']['name'] not in diseases:  # see if disease is already there\n",
    "            if 'Walden' in item['disease']['name']:  # Change waldenstroms issues (the A is not accepted by R code)\n",
    "                if 'Waldenstroms Macroglobulinemia' not in diseases:  # check if it is already there\n",
    "                    diseases.append('Waldenstroms Macroglobulinemia')  # if it is not append to diseases\n",
    "            else:  # if its not a weird name\n",
    "                diseases.append(item['disease']['name'])  # append the disease\n",
    "        if item['evidence_type'] not in evidence_type:  # see if the evidence type is already there\n",
    "            evidence_type.append(item['evidence_type'])  # if it is not append it\n",
    "        trust_rating = int(item['rating'] or 0)  # make the trust rating either what is listed or 0\n",
    "        evidence_level = int(\n",
    "            score[item['evidence_level']])  # make the evidence level the value from the score dictionary\n",
    "        evidence_scores.append(evidence_level * trust_rating)  # calculate the Evidence Score\n",
    "        if item['evidence_level'] != '[]':  # find the evidence levels that are not blank\n",
    "            top_evidences.append(item['evidence_level'].strip())  # add to the list\n",
    "    # pull the maximum evidence level\n",
    "    if 'A' in top_evidences:\n",
    "        top_evidence = 'A'\n",
    "    elif 'B' in top_evidences:\n",
    "        top_evidence = 'B'\n",
    "    elif 'C' in top_evidences:\n",
    "        top_evidence = 'C'\n",
    "    elif 'D' in top_evidences:\n",
    "        top_evidence = 'D'\n",
    "    else:\n",
    "        top_evidence = 'E'\n",
    "    evidence_score = sum(evidence_scores)  # sum the evidence scores to get a CIVic Score\n",
    "    disease = ', '.join(diseases)  # format the diseases\n",
    "    evidence_types = ', '.join(evidence_type)  # format the evidence types\n",
    "\n",
    "    if variants_nanostring[k]['coordinates']['chromosome2'] is not None and variants_nanostring[k]['coordinates']['start2'] is not None and variants_nanostring[k]['coordinates']['stop2'] is not None:  # if there are two chromosomes for the variant\n",
    "        chrom2 = variants_nanostring[k]['coordinates']['chromosome2']  # call chrom2\n",
    "        start2 = variants_nanostring[k]['coordinates']['start2']  # call start2\n",
    "        stop2 = variants_nanostring[k]['coordinates']['stop2']  # call stop2\n",
    "        nanoString_probes.append([gene, soid, variant_type, variant, transcript, top_evidence, disease, evidence_types, evidence_statements, chrom, start, stop, chrom2, start2, stop2])  # append new list with bed information\n",
    "    else:  # if there is only 1 chromosome for the variant\n",
    "        nanoString_probes.append([gene, soid, variant_type, variant, transcript, top_evidence, disease, evidence_types, evidence_statements, chrom, start, stop])  # append new list with bed information\n",
    "\n",
    "##Create output files for nanostring\n",
    "nanostring = open('nanoString_probes.tsv', 'w')  #create empy file for nanostring coordinates\n",
    "for item in nanoString_probes: #iterate through nanostring list\n",
    "    for k in item:\n",
    "        if k is item[-1]:\n",
    "            nanostring.write(str(k))\n",
    "        else:\n",
    "            nanostring.write(str(k) + '\\t')\n",
    "    nanostring.write('\\n')\n",
    "nanostring.close() #close file"
   ]
  },
  {
   "cell_type": "code",
   "execution_count": 22,
   "metadata": {},
   "outputs": [],
   "source": [
    "## Evaluate and Update Tiling File\n",
    "\n",
    "tiling_output = [] #create empty list for output file\n",
    "tiling_file = [] #create dictionary for keys as the gene, variant and values as tile notes\n",
    "tile_panel = open('tile_classification.txt', 'r') #open tiled genes input file\n",
    "for line in tile_panel: #iterate through the tile panel\n",
    "    if line[2] is None:\n",
    "        print('YOU NEED TO UPDATE THE CIVIC_TILING.TXT!!!')\n",
    "        break\n",
    "    line = line.strip('\\n')  # strip the new line\n",
    "    line = line.split('\\t')  # split by tabs\n",
    "    gene = line[0]  # pull gene\n",
    "    variant = line[1] #pull variant\n",
    "    tile = line[2] #pull tile value\n",
    "    note = line[3] #pull note\n",
    "    tiling_file.append([gene, variant])\n",
    "    tiling_output.append([gene, variant, tile, note])\n",
    "\n",
    "for item in capture_sequence_probes: #iterate through the capture_sequencing_list\n",
    "    if [item[0], item[3]] not in tiling_file: #see if the gene, variant matches with the keys in tiling dictionary\n",
    "        tiling_output.append([item[0], item[3]]) #if it is not there, append the gene and variant to the tiling list for curation\n",
    "\n",
    "\n",
    "tiling = open('tile_classification.txt', 'w')\n",
    "for item in tiling_output:\n",
    "    for k in item:\n",
    "        if k is item[-1]:\n",
    "            tiling.write(str(k))\n",
    "        else:\n",
    "            tiling.write(str(k) + '\\t')\n",
    "    tiling.write('\\n')\n",
    "tiling.close()\n"
   ]
  },
  {
   "cell_type": "code",
   "execution_count": null,
   "metadata": {
    "collapsed": true
   },
   "outputs": [],
   "source": []
  }
 ],
 "metadata": {
  "kernelspec": {
   "display_name": "Python 3",
   "language": "python",
   "name": "python3"
  },
  "language_info": {
   "codemirror_mode": {
    "name": "ipython",
    "version": 3
   },
   "file_extension": ".py",
   "mimetype": "text/x-python",
   "name": "python",
   "nbconvert_exporter": "python",
   "pygments_lexer": "ipython3",
   "version": "3.6.3"
  }
 },
 "nbformat": 4,
 "nbformat_minor": 2
}
