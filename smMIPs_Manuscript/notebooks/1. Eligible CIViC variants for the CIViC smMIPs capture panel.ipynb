{
 "cells": [
  {
   "cell_type": "markdown",
   "metadata": {},
   "source": [
    "# Results - Eligible CIViC variants for the CIViC smMIPs capture panel"
   ]
  },
  {
   "cell_type": "markdown",
   "metadata": {},
   "source": [
    "## Tools "
   ]
  },
  {
   "cell_type": "code",
   "execution_count": 1,
   "metadata": {
    "collapsed": true
   },
   "outputs": [],
   "source": [
    "#!/usr/bin/env python3\n",
    "import json\n",
    "import numpy as np\n",
    "import requests\n",
    "import sys\n",
    "import pandas as pd\n",
    "import matplotlib.pyplot as plt\n",
    "import seaborn as sns\n",
    "\n",
    "sns.set(style='white')\n",
    "sns.set_context(\"poster\")"
   ]
  },
  {
   "cell_type": "markdown",
   "metadata": {},
   "source": [
    "# Pull in Input Files"
   ]
  },
  {
   "cell_type": "code",
   "execution_count": 2,
   "metadata": {
    "collapsed": true
   },
   "outputs": [],
   "source": [
    "##Pull in CIViC Data from JSON\n",
    "variants_DNA = requests.get('https://civic.genome.wustl.edu/api/panels/DNA-based/qualifying_variants?minimum_score=0').json()['records'] #Call eligible variants"
   ]
  },
  {
   "cell_type": "code",
   "execution_count": 3,
   "metadata": {
    "collapsed": true
   },
   "outputs": [],
   "source": [
    "##Pull in smMIPs Final Design\n",
    "smmips_design_final = pd.read_csv('../data/smmips_panel/final_civic_smmips_with_removed.txt', sep='\\t')"
   ]
  },
  {
   "cell_type": "code",
   "execution_count": 4,
   "metadata": {
    "collapsed": true
   },
   "outputs": [],
   "source": [
    "##Pull in Failed Variants\n",
    "failed = pd.read_csv('../data/smmips_panel/failed_probes.txt', sep='\\t')"
   ]
  },
  {
   "cell_type": "markdown",
   "metadata": {},
   "source": [
    "# Evaluate smMIPs Panel"
   ]
  },
  {
   "cell_type": "code",
   "execution_count": 5,
   "metadata": {},
   "outputs": [
    {
     "name": "stdout",
     "output_type": "stream",
     "text": [
      "Length of Initial CIViC Probes Design:  2097\n",
      "Total Number of Failed Probes:  70\n",
      "Length of Final CIViC Probes Design:  2027\n"
     ]
    }
   ],
   "source": [
    "print('Length of Initial CIViC Probes Design: ', len(smmips_design_final) + len(failed))\n",
    "print('Total Number of Failed Probes: ', len(failed))\n",
    "print('Length of Final CIViC Probes Design: ', len(smmips_design_final))"
   ]
  },
  {
   "cell_type": "code",
   "execution_count": 6,
   "metadata": {
    "collapsed": true
   },
   "outputs": [],
   "source": [
    "##Determine total variants and genes in final panel\n",
    "genes = []\n",
    "variants = []\n",
    "for item in smmips_design_final['mip_name'].drop_duplicates():\n",
    "    gene = item.split('_')[0]\n",
    "    if gene not in genes:\n",
    "        genes.append(gene)\n",
    "    for variant in item.split('_')[1:-1]:\n",
    "        if variant == 'N131P (c.390':\n",
    "            variants.append([gene, 'N131P (c.390_391delTA)'])\n",
    "        elif variant == '391delTA)':\n",
    "            continue\n",
    "        else:\n",
    "            variants.append([gene, variant])"
   ]
  },
  {
   "cell_type": "markdown",
   "metadata": {},
   "source": [
    "# Evaluate Failed Probes"
   ]
  },
  {
   "cell_type": "code",
   "execution_count": 7,
   "metadata": {
    "collapsed": true
   },
   "outputs": [],
   "source": [
    "##Determine total variants and genes in final panel\n",
    "genes_failed = []\n",
    "variants_failed = []\n",
    "for item in failed['mip name'].drop_duplicates():\n",
    "    gene = item.split('_')[0]\n",
    "    if gene not in genes_failed:\n",
    "        genes_failed.append(gene)\n",
    "    for variant in item.split('_')[1:-1]:\n",
    "        if variant == 'N131P (c.390':\n",
    "            variants_failed.append([gene, 'N131P (c.390_391delTA)'])\n",
    "        elif variant == '391delTA)':\n",
    "            continue\n",
    "        else:\n",
    "            variants_failed.append([gene, variant])"
   ]
  },
  {
   "cell_type": "code",
   "execution_count": 8,
   "metadata": {},
   "outputs": [
    {
     "name": "stdout",
     "output_type": "stream",
     "text": [
      "Variants affected by failed probes:  32\n"
     ]
    }
   ],
   "source": [
    "print('Variants affected by failed probes: ', len(pd.DataFrame(variants_failed).drop_duplicates()))"
   ]
  },
  {
   "cell_type": "code",
   "execution_count": 9,
   "metadata": {},
   "outputs": [
    {
     "name": "stdout",
     "output_type": "stream",
     "text": [
      "Genes affected by failed probes:  16\n"
     ]
    }
   ],
   "source": [
    "print( 'Genes affected by failed probes: ', len(genes_failed))"
   ]
  },
  {
   "cell_type": "markdown",
   "metadata": {},
   "source": [
    "# Final Genes and Variants in Panel"
   ]
  },
  {
   "cell_type": "code",
   "execution_count": 10,
   "metadata": {},
   "outputs": [
    {
     "name": "stdout",
     "output_type": "stream",
     "text": [
      "Total Number of Variants in Panel:  111\n",
      "Total Number of Genes in Panel:  65\n"
     ]
    }
   ],
   "source": [
    "print('Total Number of Variants in Panel: ', len(pd.DataFrame(variants).drop_duplicates()))\n",
    "print('Total Number of Genes in Panel: ', len(genes))"
   ]
  },
  {
   "cell_type": "markdown",
   "metadata": {},
   "source": [
    "# Determine Buckets for Evaluation"
   ]
  },
  {
   "cell_type": "code",
   "execution_count": 11,
   "metadata": {
    "collapsed": true
   },
   "outputs": [],
   "source": [
    "bucket_directory = {}\n",
    "variants_df = pd.DataFrame(variants).drop_duplicates()\n",
    "variants_df.columns = ['gene', 'variant']\n",
    "for i,row in variants_df.iterrows():\n",
    "    gene = row['gene']\n",
    "    variant = row['variant']\n",
    "    code = str(gene + '_' + variant)\n",
    "    \n",
    "    for item in variants_DNA:\n",
    "        civic_gene = item['entrez_name']\n",
    "        civic_variant = item['name']\n",
    "        if gene == civic_gene and variant == civic_variant:\n",
    "            start = item['coordinates']['start']\n",
    "            stop = item['coordinates']['stop']\n",
    "            length = stop - start\n",
    "            if length <= 200:\n",
    "                bucket_directory[code] = 'hotspot_targeting'\n",
    "            if length > 200:\n",
    "                if civic_variant == 'AMPLIFICATION' or civic_variant == 'LOSS' or civic_variant == 'DNA BINDING DOMAIN MUTATION':\n",
    "                    bucket_directory[code] = 'sparse_tiling'\n",
    "                else:\n",
    "                    bucket_directory[code] = 'full_tiling'\n",
    "                "
   ]
  },
  {
   "cell_type": "code",
   "execution_count": 12,
   "metadata": {
    "collapsed": true
   },
   "outputs": [],
   "source": [
    "buckets = pd.DataFrame.from_dict(bucket_directory, orient='index').reset_index()\n",
    "buckets.columns = ['gene_variant', 'bucket']"
   ]
  },
  {
   "cell_type": "code",
   "execution_count": 13,
   "metadata": {},
   "outputs": [
    {
     "name": "stdout",
     "output_type": "stream",
     "text": [
      "Total Number of Variants in Panel:  111\n",
      "\n",
      "Number of variants requiring full_tiling : 26\n",
      "Number of variants requiring hotspot_targeting : 71\n",
      "Number of variants requiring sparse_tiling : 14\n"
     ]
    }
   ],
   "source": [
    "print('Total Number of Variants in Panel: ', len(pd.DataFrame(variants).drop_duplicates()))\n",
    "print()\n",
    "for i,item in pd.DataFrame(buckets.groupby('bucket').size()).iterrows():\n",
    "    print('Number of variants requiring', i, ':',item[0])"
   ]
  },
  {
   "cell_type": "markdown",
   "metadata": {},
   "source": [
    "# Determine Clinical Information"
   ]
  },
  {
   "cell_type": "code",
   "execution_count": 14,
   "metadata": {
    "collapsed": true
   },
   "outputs": [],
   "source": [
    "clinical_directory = {}\n",
    "variants_df = pd.DataFrame(variants).drop_duplicates()\n",
    "variants_df.columns = ['gene', 'variant']\n",
    "for i,row in variants_df.iterrows():\n",
    "    gene = row['gene']\n",
    "    variant = row['variant']\n",
    "    code = str(gene + '_' + variant)\n",
    "    clinical_directory[code] = [0,0,0,0]\n",
    "    for item in variants_DNA:\n",
    "        civic_gene = item['entrez_name']\n",
    "        civic_variant = item['name']\n",
    "        \n",
    "        if gene == civic_gene and variant == civic_variant:\n",
    "            for evidence_item in item['evidence_items']:\n",
    "                if evidence_item['evidence_type'] == 'Predictive':\n",
    "                    clinical_directory[code][0] += 1\n",
    "                if evidence_item['evidence_type'] == 'Prognostic':\n",
    "                    clinical_directory[code][1] += 1\n",
    "                if evidence_item['evidence_type'] == 'Diagnostic':\n",
    "                    clinical_directory[code][2] += 1\n",
    "                if evidence_item['evidence_type'] == 'Predisposing':\n",
    "                    clinical_directory[code][3] += 1"
   ]
  },
  {
   "cell_type": "code",
   "execution_count": 15,
   "metadata": {},
   "outputs": [
    {
     "name": "stdout",
     "output_type": "stream",
     "text": [
      "Total Number of Evidence Items:  1168 \n",
      "\n",
      "Predictive      820\n",
      "Prognostic      232\n",
      "Diagnostic       52\n",
      "Predisposing     64\n",
      "dtype: int64 \n",
      "\n",
      "Predictive      70.205479\n",
      "Prognostic      19.863014\n",
      "Diagnostic       4.452055\n",
      "Predisposing     5.479452\n",
      "dtype: float64 \n",
      "\n"
     ]
    }
   ],
   "source": [
    "smmips_evidence_items = pd.DataFrame.from_dict(clinical_directory, orient='index')                       \n",
    "smmips_evidence_items.columns=['Predictive', 'Prognostic', 'Diagnostic', 'Predisposing']\n",
    "print('Total Number of Evidence Items: ', smmips_evidence_items.sum().sum(), '\\n')\n",
    "print(smmips_evidence_items.sum(), '\\n')\n",
    "print(smmips_evidence_items.sum()/smmips_evidence_items.sum().sum() * 100, '\\n')"
   ]
  },
  {
   "cell_type": "code",
   "execution_count": 16,
   "metadata": {
    "collapsed": true
   },
   "outputs": [],
   "source": [
    "smmips_evidence_items_merged = smmips_evidence_items.reset_index()\n",
    "smmips_evidence_items_merged.columns = ['gene_variant','Predictive','Prognostic','Diagnostic','Predisposing']\n",
    "smmips_evidence_items_merged = smmips_evidence_items_merged.merge(buckets, on='gene_variant')"
   ]
  },
  {
   "cell_type": "code",
   "execution_count": 17,
   "metadata": {
    "collapsed": true
   },
   "outputs": [],
   "source": [
    "bucket = smmips_evidence_items_merged.groupby(['bucket']).sum().reset_index()"
   ]
  },
  {
   "cell_type": "code",
   "execution_count": 18,
   "metadata": {},
   "outputs": [
    {
     "data": {
      "text/html": [
       "<div>\n",
       "<style>\n",
       "    .dataframe thead tr:only-child th {\n",
       "        text-align: right;\n",
       "    }\n",
       "\n",
       "    .dataframe thead th {\n",
       "        text-align: left;\n",
       "    }\n",
       "\n",
       "    .dataframe tbody tr th {\n",
       "        vertical-align: top;\n",
       "    }\n",
       "</style>\n",
       "<table border=\"1\" class=\"dataframe\">\n",
       "  <thead>\n",
       "    <tr style=\"text-align: right;\">\n",
       "      <th></th>\n",
       "      <th>bucket</th>\n",
       "      <th>variable</th>\n",
       "      <th>value</th>\n",
       "    </tr>\n",
       "  </thead>\n",
       "  <tbody>\n",
       "    <tr>\n",
       "      <th>0</th>\n",
       "      <td>full_tiling</td>\n",
       "      <td>Predictive</td>\n",
       "      <td>117</td>\n",
       "    </tr>\n",
       "    <tr>\n",
       "      <th>1</th>\n",
       "      <td>hotspot_targeting</td>\n",
       "      <td>Predictive</td>\n",
       "      <td>552</td>\n",
       "    </tr>\n",
       "    <tr>\n",
       "      <th>2</th>\n",
       "      <td>sparse_tiling</td>\n",
       "      <td>Predictive</td>\n",
       "      <td>151</td>\n",
       "    </tr>\n",
       "    <tr>\n",
       "      <th>3</th>\n",
       "      <td>full_tiling</td>\n",
       "      <td>Prognostic</td>\n",
       "      <td>67</td>\n",
       "    </tr>\n",
       "    <tr>\n",
       "      <th>4</th>\n",
       "      <td>hotspot_targeting</td>\n",
       "      <td>Prognostic</td>\n",
       "      <td>149</td>\n",
       "    </tr>\n",
       "    <tr>\n",
       "      <th>5</th>\n",
       "      <td>sparse_tiling</td>\n",
       "      <td>Prognostic</td>\n",
       "      <td>16</td>\n",
       "    </tr>\n",
       "    <tr>\n",
       "      <th>6</th>\n",
       "      <td>full_tiling</td>\n",
       "      <td>Diagnostic</td>\n",
       "      <td>4</td>\n",
       "    </tr>\n",
       "    <tr>\n",
       "      <th>7</th>\n",
       "      <td>hotspot_targeting</td>\n",
       "      <td>Diagnostic</td>\n",
       "      <td>48</td>\n",
       "    </tr>\n",
       "    <tr>\n",
       "      <th>8</th>\n",
       "      <td>sparse_tiling</td>\n",
       "      <td>Diagnostic</td>\n",
       "      <td>0</td>\n",
       "    </tr>\n",
       "    <tr>\n",
       "      <th>9</th>\n",
       "      <td>full_tiling</td>\n",
       "      <td>Predisposing</td>\n",
       "      <td>0</td>\n",
       "    </tr>\n",
       "    <tr>\n",
       "      <th>10</th>\n",
       "      <td>hotspot_targeting</td>\n",
       "      <td>Predisposing</td>\n",
       "      <td>63</td>\n",
       "    </tr>\n",
       "    <tr>\n",
       "      <th>11</th>\n",
       "      <td>sparse_tiling</td>\n",
       "      <td>Predisposing</td>\n",
       "      <td>1</td>\n",
       "    </tr>\n",
       "  </tbody>\n",
       "</table>\n",
       "</div>"
      ],
      "text/plain": [
       "               bucket      variable  value\n",
       "0         full_tiling    Predictive    117\n",
       "1   hotspot_targeting    Predictive    552\n",
       "2       sparse_tiling    Predictive    151\n",
       "3         full_tiling    Prognostic     67\n",
       "4   hotspot_targeting    Prognostic    149\n",
       "5       sparse_tiling    Prognostic     16\n",
       "6         full_tiling    Diagnostic      4\n",
       "7   hotspot_targeting    Diagnostic     48\n",
       "8       sparse_tiling    Diagnostic      0\n",
       "9         full_tiling  Predisposing      0\n",
       "10  hotspot_targeting  Predisposing     63\n",
       "11      sparse_tiling  Predisposing      1"
      ]
     },
     "execution_count": 18,
     "metadata": {},
     "output_type": "execute_result"
    }
   ],
   "source": [
    "bucket.melt(id_vars='bucket')"
   ]
  },
  {
   "cell_type": "code",
   "execution_count": 19,
   "metadata": {},
   "outputs": [
    {
     "data": {
      "image/png": "[encoded data removed]",
      "text/plain": [
       "<matplotlib.figure.Figure at 0x1186f6a58>"
      ]
     },
     "metadata": {},
     "output_type": "display_data"
    }
   ],
   "source": [
    "#Create Figure 1\n",
    "palette ={\"Predictive\":\"#1C3334\",\"Prognostic\":\"#376E6F\",\"Diagnostic\":\"#182C61\",\"Predisposing\":\"#7395AE\"}\n",
    "\n",
    "plt.figure(figsize=(10,10))\n",
    "sns.barplot(data=bucket.melt(id_vars='bucket'), x='bucket',y='value', \n",
    "            hue='variable', \n",
    "            order=('hotspot_targeting', 'sparse_tiling', 'full_tiling'),\n",
    "            palette=palette).set(\n",
    "    xlabel='', \n",
    "    ylabel='Number of Evidence Items', \n",
    "    xticklabels=['Hotspot Target', 'Sparse Tiling', 'Full Tiling'])\n",
    "\n",
    "plt.legend(bbox_to_anchor=(1.05, 1), loc=2, borderaxespad=0.)\n",
    "\n",
    "plt.savefig('../data/Figures/smMIPs_Distribution.pdf', bbox_inches='tight', dpi=400)\n",
    "plt.show()\n",
    "plt.close()"
   ]
  },
  {
   "cell_type": "markdown",
   "metadata": {},
   "source": [
    "# Evaluate Total CIViC Variants Covered by CIViC Panel"
   ]
  },
  {
   "cell_type": "code",
   "execution_count": 20,
   "metadata": {
    "collapsed": true
   },
   "outputs": [],
   "source": [
    "bed_smmips = pd.read_csv('../data/smmips_panel/smmips_coordinates_sorted_merged.bed.txt', sep='\\t', header=None)\n",
    "bed_smmips.columns = ['chr', 'start', 'stop']\n",
    "bed_smmips['start'] = pd.to_numeric(bed_smmips['start'])\n",
    "bed_smmips['stop'] = pd.to_numeric(bed_smmips['stop'])\n",
    "bed_smmips['chr'] = bed_smmips['chr'].astype(str)"
   ]
  },
  {
   "cell_type": "code",
   "execution_count": 21,
   "metadata": {},
   "outputs": [
    {
     "name": "stdout",
     "output_type": "stream",
     "text": [
      "Length of panel:  61.544 kb\n"
     ]
    }
   ],
   "source": [
    "length_bed = 0\n",
    "for i,row in bed_smmips.iterrows():\n",
    "    if row['stop'] - row['start'] < 200:\n",
    "        length_bed += row['stop'] - row['start']\n",
    "    else:\n",
    "        length_bed += 110\n",
    "print('Length of panel: ', length_bed/1000, 'kb')"
   ]
  },
  {
   "cell_type": "code",
   "execution_count": 22,
   "metadata": {
    "collapsed": true
   },
   "outputs": [],
   "source": [
    "genes_all = []\n",
    "variants_all = []\n",
    "for item in variants_DNA:\n",
    "    chrom = str(item['coordinates']['chromosome'])\n",
    "    start = int(item['coordinates']['start'])\n",
    "    stop = int(item['coordinates']['stop'])\n",
    "    for i,row in bed_smmips.iterrows():\n",
    "        if chrom == row[0] and start > row[1] and stop < row[2]:\n",
    "            gene = item['entrez_name']\n",
    "            variant = item['entrez_name'] + '_' + item['name']\n",
    "            if gene not in genes_all:\n",
    "                genes_all.append(gene)\n",
    "            if variant not in variants_all:\n",
    "                variants_all.append(variant)"
   ]
  },
  {
   "cell_type": "code",
   "execution_count": 23,
   "metadata": {},
   "outputs": [
    {
     "name": "stdout",
     "output_type": "stream",
     "text": [
      "Variants Regardless of Actionability Score:\t\n",
      "\n",
      "Total Number of Genes in Panel:  49\n",
      "Total Number of Variants in Panel:  408\n"
     ]
    }
   ],
   "source": [
    "print('Variants Regardless of Actionability Score:' + '\\t' + '\\n')\n",
    "print('Total Number of Genes in Panel: ', len(genes_all))\n",
    "print('Total Number of Variants in Panel: ', len(pd.DataFrame(variants_all).drop_duplicates()))"
   ]
  },
  {
   "cell_type": "code",
   "execution_count": 24,
   "metadata": {
    "collapsed": true
   },
   "outputs": [],
   "source": [
    "variants_all_df = pd.DataFrame(variants_all)\n",
    "variants_all = []\n",
    "for i,item in variants_all_df.iterrows():\n",
    "    gene = item[0].split('_')[0]\n",
    "    variant = item[0].split('_')[1:]\n",
    "    variants_all.append([gene, variant])"
   ]
  },
  {
   "cell_type": "code",
   "execution_count": 25,
   "metadata": {
    "collapsed": true
   },
   "outputs": [],
   "source": [
    "variants_all_df = pd.DataFrame(variants_all)\n",
    "variants_all_df.columns = ['gene', 'variant']"
   ]
  },
  {
   "cell_type": "code",
   "execution_count": 26,
   "metadata": {},
   "outputs": [
    {
     "data": {
      "text/plain": [
       "gene\n",
       "ABCB1       1\n",
       "ABL1        7\n",
       "AKT1        1\n",
       "ALK        14\n",
       "ASXL1       1\n",
       "ATM         2\n",
       "BRAF       24\n",
       "BRCA1       1\n",
       "BRCA2       1\n",
       "BTK         1\n",
       "CALR        1\n",
       "CDK4        1\n",
       "CTNNB1      3\n",
       "DNMT3A      1\n",
       "DPYD        2\n",
       "EGFR       23\n",
       "ERBB2       7\n",
       "ERCC2       1\n",
       "EZH2        1\n",
       "FCGR2A      1\n",
       "FCGR3A      1\n",
       "FGFR2       1\n",
       "FLT3        7\n",
       "GNAS        1\n",
       "HOXB13      1\n",
       "IDH1        5\n",
       "IDH2        3\n",
       "JAK2        1\n",
       "KIT        15\n",
       "KRAS       18\n",
       "MAP2K7      1\n",
       "MET         1\n",
       "MTHFR       1\n",
       "MYD88       1\n",
       "NOTCH1      5\n",
       "NPM1        2\n",
       "NRAS        7\n",
       "NT5C2       2\n",
       "PDGFRA      8\n",
       "PIK3CA      7\n",
       "PTEN        4\n",
       "RET         1\n",
       "ROS1        3\n",
       "TP53       10\n",
       "U2AF1       2\n",
       "UGT1A1      1\n",
       "VHL       203\n",
       "WT1         1\n",
       "XRCC1       1\n",
       "dtype: int64"
      ]
     },
     "execution_count": 26,
     "metadata": {},
     "output_type": "execute_result"
    }
   ],
   "source": [
    "variants_all_df.groupby('gene').size()"
   ]
  },
  {
   "cell_type": "code",
   "execution_count": null,
   "metadata": {
    "collapsed": true
   },
   "outputs": [],
   "source": []
  }
 ],
 "metadata": {
  "kernelspec": {
   "display_name": "Python 3",
   "language": "python",
   "name": "python3"
  },
  "language_info": {
   "codemirror_mode": {
    "name": "ipython",
    "version": 3
   },
   "file_extension": ".py",
   "mimetype": "text/x-python",
   "name": "python",
   "nbconvert_exporter": "python",
   "pygments_lexer": "ipython3",
   "version": "3.6.1"
  }
 },
 "nbformat": 4,
 "nbformat_minor": 2
}
