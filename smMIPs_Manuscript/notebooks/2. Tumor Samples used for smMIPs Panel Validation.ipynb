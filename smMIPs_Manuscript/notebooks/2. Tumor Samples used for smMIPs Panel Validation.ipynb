{
 "cells": [
  {
   "cell_type": "markdown",
   "metadata": {},
   "source": [
    "# Results - Tumor Samples used for smMIPs Panel Validation"
   ]
  },
  {
   "cell_type": "markdown",
   "metadata": {},
   "source": [
    "## Tools "
   ]
  },
  {
   "cell_type": "code",
   "execution_count": 1,
   "metadata": {
    "collapsed": true
   },
   "outputs": [],
   "source": [
    "#!/usr/bin/env python3\n",
    "import json\n",
    "import numpy as np\n",
    "import requests\n",
    "import sys\n",
    "import pandas as pd\n",
    "import seaborn as sns\n",
    "sns.set(style='white')\n",
    "sns.set_context(\"talk\")\n",
    "import matplotlib.pyplot as plt\n",
    "from pyliftover import LiftOver\n",
    "import pybedtools\n",
    "from pybedtools import BedTool"
   ]
  },
  {
   "cell_type": "code",
   "execution_count": 2,
   "metadata": {
    "collapsed": true
   },
   "outputs": [],
   "source": [
    "lo = LiftOver('hg19', 'hg38')\n",
    "li = LiftOver('hg38', 'hg19')"
   ]
  },
  {
   "cell_type": "markdown",
   "metadata": {},
   "source": [
    "## Pull in Input Files"
   ]
  },
  {
   "cell_type": "code",
   "execution_count": 3,
   "metadata": {
    "collapsed": true
   },
   "outputs": [],
   "source": [
    "WEX_variants = pd.read_csv('../data/original_sequencing/VCF_exome.txt', sep='\\t')"
   ]
  },
  {
   "cell_type": "code",
   "execution_count": 4,
   "metadata": {
    "collapsed": true
   },
   "outputs": [],
   "source": [
    "samples = pd.read_csv('../data/validation_samples/sample_dataframe.txt', sep='\\t')"
   ]
  },
  {
   "cell_type": "code",
   "execution_count": 5,
   "metadata": {
    "collapsed": true
   },
   "outputs": [],
   "source": [
    "smMIPs_coverage = pd.read_csv('../data/smmips_panel/smmips_coordinates_sorted_merged.bed.txt', sep='\\t', header=None)\n",
    "smMIPs_coverage.columns = ['chromosome_name', 'start', 'stop']\n",
    "smMIPs_coverage['chromosome_name'] = 'chr' + smMIPs_coverage['chromosome_name'].astype(str)"
   ]
  },
  {
   "cell_type": "markdown",
   "metadata": {},
   "source": [
    "## Evaluate sample types"
   ]
  },
  {
   "cell_type": "code",
   "execution_count": 6,
   "metadata": {},
   "outputs": [
    {
     "name": "stdout",
     "output_type": "stream",
     "text": [
      "Total number of cancer genomic studies:  5\n"
     ]
    }
   ],
   "source": [
    "print('Total number of cancer genomic studies: ', len(list(samples['Tumor Type'].drop_duplicates())))"
   ]
  },
  {
   "cell_type": "code",
   "execution_count": 7,
   "metadata": {
    "collapsed": true
   },
   "outputs": [],
   "source": [
    "#Determine which samples have matched normal\n",
    "samples_normal = samples[samples['Matched Normal'] == 'yes']\n",
    "samples_no_normal = samples[samples['Matched Normal'] == 'no']"
   ]
  },
  {
   "cell_type": "code",
   "execution_count": 8,
   "metadata": {},
   "outputs": [
    {
     "name": "stdout",
     "output_type": "stream",
     "text": [
      "Total number of tumor/normal samples: \n"
     ]
    },
    {
     "data": {
      "text/html": [
       "<div>\n",
       "<style>\n",
       "    .dataframe thead tr:only-child th {\n",
       "        text-align: right;\n",
       "    }\n",
       "\n",
       "    .dataframe thead th {\n",
       "        text-align: left;\n",
       "    }\n",
       "\n",
       "    .dataframe tbody tr th {\n",
       "        vertical-align: top;\n",
       "    }\n",
       "</style>\n",
       "<table border=\"1\" class=\"dataframe\">\n",
       "  <thead>\n",
       "    <tr style=\"text-align: right;\">\n",
       "      <th></th>\n",
       "      <th>Sample</th>\n",
       "    </tr>\n",
       "    <tr>\n",
       "      <th>Tumor Type</th>\n",
       "      <th></th>\n",
       "    </tr>\n",
       "  </thead>\n",
       "  <tbody>\n",
       "    <tr>\n",
       "      <th>HL</th>\n",
       "      <td>1</td>\n",
       "    </tr>\n",
       "    <tr>\n",
       "      <th>OSCC</th>\n",
       "      <td>5</td>\n",
       "    </tr>\n",
       "    <tr>\n",
       "      <th>SCLC</th>\n",
       "      <td>9</td>\n",
       "    </tr>\n",
       "  </tbody>\n",
       "</table>\n",
       "</div>"
      ],
      "text/plain": [
       "            Sample\n",
       "Tumor Type        \n",
       "HL               1\n",
       "OSCC             5\n",
       "SCLC             9"
      ]
     },
     "execution_count": 8,
     "metadata": {},
     "output_type": "execute_result"
    }
   ],
   "source": [
    "print('Total number of tumor/normal samples: ')\n",
    "samples_normal[['Sample', 'Tumor Type']].drop_duplicates().groupby(['Tumor Type']).count()"
   ]
  },
  {
   "cell_type": "code",
   "execution_count": 9,
   "metadata": {},
   "outputs": [
    {
     "name": "stdout",
     "output_type": "stream",
     "text": [
      "Total number of tumor only samples: \n"
     ]
    },
    {
     "data": {
      "text/html": [
       "<div>\n",
       "<style>\n",
       "    .dataframe thead tr:only-child th {\n",
       "        text-align: right;\n",
       "    }\n",
       "\n",
       "    .dataframe thead th {\n",
       "        text-align: left;\n",
       "    }\n",
       "\n",
       "    .dataframe tbody tr th {\n",
       "        vertical-align: top;\n",
       "    }\n",
       "</style>\n",
       "<table border=\"1\" class=\"dataframe\">\n",
       "  <thead>\n",
       "    <tr style=\"text-align: right;\">\n",
       "      <th></th>\n",
       "      <th>Sample</th>\n",
       "    </tr>\n",
       "    <tr>\n",
       "      <th>Tumor Type</th>\n",
       "      <th></th>\n",
       "    </tr>\n",
       "  </thead>\n",
       "  <tbody>\n",
       "    <tr>\n",
       "      <th>AML</th>\n",
       "      <td>1</td>\n",
       "    </tr>\n",
       "    <tr>\n",
       "      <th>CRC</th>\n",
       "      <td>5</td>\n",
       "    </tr>\n",
       "    <tr>\n",
       "      <th>HL</th>\n",
       "      <td>1</td>\n",
       "    </tr>\n",
       "  </tbody>\n",
       "</table>\n",
       "</div>"
      ],
      "text/plain": [
       "            Sample\n",
       "Tumor Type        \n",
       "AML              1\n",
       "CRC              5\n",
       "HL               1"
      ]
     },
     "execution_count": 9,
     "metadata": {},
     "output_type": "execute_result"
    }
   ],
   "source": [
    "print('Total number of tumor only samples: ')\n",
    "samples_no_normal[['Sample', 'Tumor Type']].drop_duplicates().groupby(['Tumor Type']).count()"
   ]
  },
  {
   "cell_type": "markdown",
   "metadata": {},
   "source": [
    "## Evaluate Existing Exome Data"
   ]
  },
  {
   "cell_type": "code",
   "execution_count": 10,
   "metadata": {},
   "outputs": [
    {
     "name": "stdout",
     "output_type": "stream",
     "text": [
      "Number of Individual:  22\n"
     ]
    }
   ],
   "source": [
    "total_individuals = len(WEX_variants['sample'].drop_duplicates())\n",
    "print('Number of Individual: ',total_individuals)"
   ]
  },
  {
   "cell_type": "code",
   "execution_count": 11,
   "metadata": {},
   "outputs": [
    {
     "name": "stdout",
     "output_type": "stream",
     "text": [
      "Total number of variants called via WEX:  13724\n",
      "Average number of variants per individual called via WEX:  623.8181818181819\n"
     ]
    }
   ],
   "source": [
    "print('Total number of variants called via WEX: ', len(WEX_variants))\n",
    "print('Average number of variants per individual called via WEX: ', len(WEX_variants)/total_individuals)"
   ]
  },
  {
   "cell_type": "code",
   "execution_count": 12,
   "metadata": {},
   "outputs": [
    {
     "name": "stdout",
     "output_type": "stream",
     "text": [
      "Range of variant burden:  2 to 3900\n"
     ]
    }
   ],
   "source": [
    "print('Range of variant burden: ', WEX_variants.groupby('sample').size().min(), 'to', WEX_variants.groupby('sample').size().max())"
   ]
  },
  {
   "cell_type": "markdown",
   "metadata": {},
   "source": [
    "## Overlap with CIViC "
   ]
  },
  {
   "cell_type": "code",
   "execution_count": 13,
   "metadata": {
    "collapsed": true
   },
   "outputs": [],
   "source": [
    "#Change all of the coordinates to GRCh37 to match CIViC Coordinates\n",
    "for i,row in WEX_variants.iterrows():\n",
    "    chrom = str('chr' + row['chromosome_name'])\n",
    "    start = row['start']\n",
    "    stop = row['stop']\n",
    "    if row['genome'] == 38:\n",
    "        if li.convert_coordinate(chrom, start):\n",
    "            start_new = li.convert_coordinate(chrom, start)\n",
    "            stop_new = li.convert_coordinate(chrom, stop)\n",
    "            WEX_variants.loc[i, 'start'] = start_new[0][1]\n",
    "            WEX_variants.loc[i, 'stop'] = stop_new[0][1]\n",
    "            WEX_variants.loc[i, 'genome'] = 37"
   ]
  },
  {
   "cell_type": "code",
   "execution_count": 14,
   "metadata": {
    "collapsed": true
   },
   "outputs": [],
   "source": [
    "#Eliminate any variants that were not transferable to GRCh37\n",
    "WEX_variants = WEX_variants[WEX_variants['genome'] == 37]"
   ]
  },
  {
   "cell_type": "code",
   "execution_count": 15,
   "metadata": {
    "collapsed": true
   },
   "outputs": [],
   "source": [
    "#Add 'chr' to chromosome number to make it compatable with BedTool\n",
    "WEX_variants['chromosome_name'] = 'chr' + WEX_variants['chromosome_name'].astype(str)"
   ]
  },
  {
   "cell_type": "code",
   "execution_count": 16,
   "metadata": {
    "collapsed": true
   },
   "outputs": [],
   "source": [
    "#Make sure that the coordinates are in the correct order for BedTool\n",
    "for i,row in WEX_variants.iterrows():\n",
    "    if row['start'] > row['stop']:\n",
    "        WEX_variants.loc[i, 'start'] = row['stop']\n",
    "        WEX_variants.loc[i, 'stop'] = row['start']"
   ]
  },
  {
   "cell_type": "code",
   "execution_count": 17,
   "metadata": {
    "collapsed": true
   },
   "outputs": [],
   "source": [
    "#Make bedtool objects from WEX variants and smmips coverage\n",
    "a = pybedtools.BedTool.from_dataframe(WEX_variants[WEX_variants.columns[0:3]])\n",
    "b = pybedtools.BedTool.from_dataframe(smMIPs_coverage[smMIPs_coverage.columns[0:3]])"
   ]
  },
  {
   "cell_type": "code",
   "execution_count": 18,
   "metadata": {
    "collapsed": true
   },
   "outputs": [],
   "source": [
    "#Find the intersection of WEX variants and smMIPs coverage\n",
    "c = a.intersect(b, u=True)"
   ]
  },
  {
   "cell_type": "code",
   "execution_count": 19,
   "metadata": {
    "collapsed": true
   },
   "outputs": [],
   "source": [
    "#Create a dataframe with overlapping variants\n",
    "overlap = pd.read_table(c.fn, names=['chrom', 'start', 'stop'])"
   ]
  },
  {
   "cell_type": "code",
   "execution_count": 20,
   "metadata": {
    "collapsed": true
   },
   "outputs": [],
   "source": [
    "#Annotate the overlapping variants using the WEX variants df\n",
    "overlap_annotated = overlap.merge(WEX_variants, how='left', left_on=['chrom', 'start', 'stop'], right_on=['chromosome_name', 'start', 'stop']).drop_duplicates()"
   ]
  },
  {
   "cell_type": "code",
   "execution_count": 21,
   "metadata": {
    "collapsed": true
   },
   "outputs": [],
   "source": [
    "#drop remaining variants\n",
    "overlap_annotated = overlap_annotated.drop('chromosome_name', axis=1)"
   ]
  },
  {
   "cell_type": "code",
   "execution_count": 22,
   "metadata": {},
   "outputs": [
    {
     "name": "stdout",
     "output_type": "stream",
     "text": [
      "Total number of overlapping variants from original sequencing with CIViC panel:  89\n"
     ]
    }
   ],
   "source": [
    "print('Total number of overlapping variants from original sequencing with CIViC panel: ', len(overlap_annotated))"
   ]
  },
  {
   "cell_type": "code",
   "execution_count": 23,
   "metadata": {
    "collapsed": true
   },
   "outputs": [],
   "source": [
    "# Make TSV for overlapping variants for Supplementary Table\n",
    "overlap_annotated.to_csv('../output/supplementary_table_3-variant_overlap.tsv', sep='\\t')"
   ]
  }
 ],
 "metadata": {
  "kernelspec": {
   "display_name": "Python 3",
   "language": "python",
   "name": "python3"
  },
  "language_info": {
   "codemirror_mode": {
    "name": "ipython",
    "version": 3
   },
   "file_extension": ".py",
   "mimetype": "text/x-python",
   "name": "python",
   "nbconvert_exporter": "python",
   "pygments_lexer": "ipython3",
   "version": "3.6.1"
  }
 },
 "nbformat": 4,
 "nbformat_minor": 2
}
