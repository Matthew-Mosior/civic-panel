{
 "cells": [
  {
   "cell_type": "markdown",
   "metadata": {},
   "source": [
    "# Results - smMIPs Sequencing and Data Analysis"
   ]
  },
  {
   "cell_type": "markdown",
   "metadata": {},
   "source": [
    "## Tools"
   ]
  },
  {
   "cell_type": "code",
   "execution_count": 1,
   "metadata": {
    "collapsed": true
   },
   "outputs": [],
   "source": [
    "#!/usr/bin/env python3\n",
    "import numpy as np\n",
    "import pandas as pd\n",
    "import seaborn as sns\n",
    "sns.set(style='white')\n",
    "sns.set_context(\"talk\")\n",
    "import matplotlib.pyplot as plt\n",
    "import glob"
   ]
  },
  {
   "cell_type": "code",
   "execution_count": 2,
   "metadata": {
    "collapsed": true
   },
   "outputs": [],
   "source": [
    "from pyliftover import LiftOver\n",
    "lo = LiftOver('hg19', 'hg38')\n",
    "li = LiftOver('hg38', 'hg19')"
   ]
  },
  {
   "cell_type": "markdown",
   "metadata": {},
   "source": [
    "## Pull in Input Files"
   ]
  },
  {
   "cell_type": "code",
   "execution_count": 3,
   "metadata": {
    "collapsed": true
   },
   "outputs": [],
   "source": [
    "samples = pd.read_csv('../data/validation_samples/sample_dataframe.txt', sep='\\t')"
   ]
  },
  {
   "cell_type": "code",
   "execution_count": 4,
   "metadata": {
    "collapsed": true
   },
   "outputs": [],
   "source": [
    "samples_QC = pd.read_csv('../data/validation_samples/sequencing_quality_check.txt', sep='\\t')"
   ]
  },
  {
   "cell_type": "code",
   "execution_count": 5,
   "metadata": {
    "collapsed": true
   },
   "outputs": [],
   "source": [
    "overlap_with_smmips = pd.read_csv('../output/supplementary_table_3-variant_overlap.tsv', sep='\\t')"
   ]
  },
  {
   "cell_type": "markdown",
   "metadata": {},
   "source": [
    "## Initial Quality Check"
   ]
  },
  {
   "cell_type": "code",
   "execution_count": 6,
   "metadata": {},
   "outputs": [
    {
     "name": "stdout",
     "output_type": "stream",
     "text": [
      "Mean:  5369817.166666667\n",
      "Standard Deviation:  3334506.223398502\n"
     ]
    }
   ],
   "source": [
    "print('Mean: ', samples_QC['total tags weighted'].mean())\n",
    "mean = samples_QC['total tags weighted'].mean()\n",
    "print('Standard Deviation: ', samples_QC['total tags weighted'].std())\n",
    "std = samples_QC['total tags weighted'].std()"
   ]
  },
  {
   "cell_type": "code",
   "execution_count": 7,
   "metadata": {},
   "outputs": [
    {
     "name": "stdout",
     "output_type": "stream",
     "text": [
      "H_ML-08-0075-248_normal\n",
      "Merck016_tumor\n",
      "Merck012_tumor\n",
      "HOC71_normal\n",
      "SCLC19_normal\n",
      "SCLC31_normal\n"
     ]
    }
   ],
   "source": [
    "ineligible_samples = []\n",
    "for i,row in samples_QC.iterrows():\n",
    "    if row['total tags weighted'] < mean - 1*std:\n",
    "        print(row['count'] + '_' +  row['Type'])\n",
    "        ineligible_samples.append(row['count'] + '_' +  row['Type'])\n",
    "    "
   ]
  },
  {
   "cell_type": "code",
   "execution_count": 8,
   "metadata": {},
   "outputs": [
    {
     "name": "stdout",
     "output_type": "stream",
     "text": [
      "Number of elgible Samples:  30\n"
     ]
    }
   ],
   "source": [
    "print('Number of elgible Samples: ', len(samples_QC) - len(ineligible_samples))"
   ]
  },
  {
   "cell_type": "code",
   "execution_count": 9,
   "metadata": {},
   "outputs": [],
   "source": [
    "# If tumor is ineligible, eliminate variants for subsequent analysis\n",
    "overlap_with_smmips['Passed QC'] = ''\n",
    "for i,row in overlap_with_smmips.iterrows():\n",
    "    if row['sample'] + '_' +  'tumor' in ineligible_samples:\n",
    "        overlap_with_smmips.loc[[i], 'Passed QC'] = 'no'\n",
    "    else:\n",
    "        overlap_with_smmips.loc[[i], 'Passed QC'] = 'yes'"
   ]
  },
  {
   "cell_type": "code",
   "execution_count": 10,
   "metadata": {},
   "outputs": [
    {
     "name": "stdout",
     "output_type": "stream",
     "text": [
      "Number of Eligible Individuals:  20\n"
     ]
    }
   ],
   "source": [
    "print('Number of Eligible Individuals: ', len(overlap_with_smmips[overlap_with_smmips['Passed QC'] == 'yes'][['sample']].drop_duplicates()))"
   ]
  },
  {
   "cell_type": "code",
   "execution_count": 11,
   "metadata": {},
   "outputs": [
    {
     "name": "stdout",
     "output_type": "stream",
     "text": [
      "Number of Eligible Variants:  81\n"
     ]
    }
   ],
   "source": [
    "print('Number of Eligible Variants: ',overlap_with_smmips[overlap_with_smmips['Passed QC'] == 'yes'].groupby('sample').size().sum())"
   ]
  },
  {
   "cell_type": "markdown",
   "metadata": {},
   "source": [
    "## Accuracy profile of smMIPs CIViC panel when compared to WEX"
   ]
  },
  {
   "cell_type": "markdown",
   "metadata": {},
   "source": [
    " ### Pull in VCF Files"
   ]
  },
  {
   "cell_type": "code",
   "execution_count": 12,
   "metadata": {
    "collapsed": true
   },
   "outputs": [],
   "source": [
    "smmips_variants = pd.DataFrame()"
   ]
  },
  {
   "cell_type": "code",
   "execution_count": 13,
   "metadata": {},
   "outputs": [],
   "source": [
    "smmips_variants = pd.DataFrame()\n",
    "for item in glob.glob('../data/smmips_sequencing/*T*.snp.vcf'):\n",
    "    if item.split('/')[3].startswith('H_') or item.split('/')[3].startswith('c'):\n",
    "        name = item.split('/')[3].split('_')[0] +  '_' +item.split('/')[3].split('_')[1]\n",
    "    else:\n",
    "        name = item.split('/')[3].split('_')[0]\n",
    "    current = pd.read_csv(item, sep='\\t', comment='#', header=None).filter(items=[0,1,1,3,4,9])\n",
    "    current['sample'] = name\n",
    "    smmips_variants = smmips_variants.append(current)"
   ]
  },
  {
   "cell_type": "code",
   "execution_count": 14,
   "metadata": {},
   "outputs": [],
   "source": [
    "for item in glob.glob('../data/smmips_sequencing/*T*.indel.vcf'):\n",
    "    if item.split('/')[3].startswith('H_') or item.split('/')[3].startswith('c'):\n",
    "        name = item.split('/')[3].split('_')[0] +  '_' +item.split('/')[3].split('_')[1]\n",
    "    else:\n",
    "        name = item.split('/')[3].split('_')[0]\n",
    "    current = pd.read_csv(item, sep='\\t', comment='#', header=None).filter(items=[0,1,1,3,4,9])\n",
    "    current['sample'] = name\n",
    "    current[1] = current[1] + 1\n",
    "    current[3] = current[3].str[1:].replace('', '-')\n",
    "    current[4] = current[4].str[1:].replace('', '-')\n",
    "    smmips_variants = smmips_variants.append(current)"
   ]
  },
  {
   "cell_type": "code",
   "execution_count": 15,
   "metadata": {},
   "outputs": [],
   "source": [
    "smmips_variants.columns = ['chrom', 'start', 'stop', 'reference', 'variant', 'CIViC Panel VAF', 'sample']\n",
    "smmips_variants = smmips_variants.reset_index()"
   ]
  },
  {
   "cell_type": "code",
   "execution_count": 16,
   "metadata": {},
   "outputs": [],
   "source": [
    "for i,row in smmips_variants.iterrows():\n",
    "    VAF = float(row['CIViC Panel VAF'].split(':')[-1])*100\n",
    "    smmips_variants.loc[[i], 'CIViC Panel VAF'] = VAF"
   ]
  },
  {
   "cell_type": "code",
   "execution_count": 17,
   "metadata": {},
   "outputs": [],
   "source": [
    "overlap_with_smmips = overlap_with_smmips.merge(smmips_variants, on=['chrom', 'start','sample'], how='left')"
   ]
  },
  {
   "cell_type": "code",
   "execution_count": 18,
   "metadata": {},
   "outputs": [],
   "source": [
    "overlap_with_smmips['CIViC Panel VAF'] = overlap_with_smmips['CIViC Panel VAF'].replace(np.nan, 0)\n",
    "overlap_with_smmips['CIViC Panel VAF'] = overlap_with_smmips['CIViC Panel VAF'].astype('float')"
   ]
  },
  {
   "cell_type": "code",
   "execution_count": 19,
   "metadata": {},
   "outputs": [],
   "source": [
    "overlap_with_smmips = overlap_with_smmips.drop(['Unnamed: 0', 'reference_y', 'stop_x', 'stop_y', 'variant_y', 'index'], axis=1)"
   ]
  },
  {
   "cell_type": "code",
   "execution_count": 20,
   "metadata": {},
   "outputs": [
    {
     "name": "stdout",
     "output_type": "stream",
     "text": [
      "Total eligible variants:  81\n",
      "Total eligible overlap with smMIPs:  71\n"
     ]
    }
   ],
   "source": [
    "print('Total eligible variants: ', len(overlap_with_smmips[overlap_with_smmips['Passed QC'] == 'yes']))\n",
    "print('Total eligible overlap with smMIPs: ', len(overlap_with_smmips[(overlap_with_smmips['CIViC Panel VAF'] > 0) & (overlap_with_smmips['Passed QC'] == 'yes')]))"
   ]
  },
  {
   "cell_type": "code",
   "execution_count": 35,
   "metadata": {
    "collapsed": true
   },
   "outputs": [],
   "source": [
    "overlap_with_smmips.to_csv('/Users/ebarnell/Desktop/overlap.tsv', sep='\\t')"
   ]
  },
  {
   "cell_type": "markdown",
   "metadata": {},
   "source": [
    "### Build Waterfall Dataframe "
   ]
  },
  {
   "cell_type": "code",
   "execution_count": 21,
   "metadata": {
    "collapsed": true
   },
   "outputs": [],
   "source": [
    "samples_waterfall = overlap_with_smmips[overlap_with_smmips['Passed QC'] == 'yes']"
   ]
  },
  {
   "cell_type": "code",
   "execution_count": 22,
   "metadata": {
    "collapsed": true
   },
   "outputs": [],
   "source": [
    "# Make dataframe for WaterFall plot (Figure 1)\n",
    "samples_waterfall = samples_waterfall.filter(items=['sample', 'gene_name', 'amino_acid', 'VAF', 'CIViC Panel VAF'])\n",
    "samples_waterfall['Validated'] = (samples_waterfall['CIViC Panel VAF'] > 0).astype('int')\n",
    "\n",
    "samples_waterfall.to_csv('../data/validation_samples/waterfall_dataframe.tsv', sep='\\t')"
   ]
  },
  {
   "cell_type": "markdown",
   "metadata": {},
   "source": [
    "## Variant allele frequency correlation between  smMIPs CIViC panel and exome/genome sequencing"
   ]
  },
  {
   "cell_type": "code",
   "execution_count": 23,
   "metadata": {
    "collapsed": true
   },
   "outputs": [],
   "source": [
    "sample_info = pd.read_csv('../data/validation_samples/sample_dataframe.txt', sep='\\t')"
   ]
  },
  {
   "cell_type": "code",
   "execution_count": 24,
   "metadata": {
    "collapsed": true
   },
   "outputs": [],
   "source": [
    "correlation = overlap_with_smmips[(overlap_with_smmips['CIViC Panel VAF'] != 0) & (overlap_with_smmips['VAF'] != 0)]"
   ]
  },
  {
   "cell_type": "code",
   "execution_count": 25,
   "metadata": {},
   "outputs": [
    {
     "data": {
      "text/html": [
       "<div>\n",
       "<style>\n",
       "    .dataframe thead tr:only-child th {\n",
       "        text-align: right;\n",
       "    }\n",
       "\n",
       "    .dataframe thead th {\n",
       "        text-align: left;\n",
       "    }\n",
       "\n",
       "    .dataframe tbody tr th {\n",
       "        vertical-align: top;\n",
       "    }\n",
       "</style>\n",
       "<table border=\"1\" class=\"dataframe\">\n",
       "  <thead>\n",
       "    <tr style=\"text-align: right;\">\n",
       "      <th></th>\n",
       "      <th>CIViC Panel VAF</th>\n",
       "      <th>VAF</th>\n",
       "    </tr>\n",
       "  </thead>\n",
       "  <tbody>\n",
       "    <tr>\n",
       "      <th>CIViC Panel VAF</th>\n",
       "      <td>1.000000</td>\n",
       "      <td>0.829144</td>\n",
       "    </tr>\n",
       "    <tr>\n",
       "      <th>VAF</th>\n",
       "      <td>0.829144</td>\n",
       "      <td>1.000000</td>\n",
       "    </tr>\n",
       "  </tbody>\n",
       "</table>\n",
       "</div>"
      ],
      "text/plain": [
       "                 CIViC Panel VAF       VAF\n",
       "CIViC Panel VAF         1.000000  0.829144\n",
       "VAF                     0.829144  1.000000"
      ]
     },
     "execution_count": 25,
     "metadata": {},
     "output_type": "execute_result"
    }
   ],
   "source": [
    "pd.DataFrame.corr(correlation.filter(items=['CIViC Panel VAF', 'VAF']),method='pearson')"
   ]
  },
  {
   "cell_type": "code",
   "execution_count": 26,
   "metadata": {},
   "outputs": [],
   "source": [
    "correlation = correlation.merge(sample_info, left_on='sample', right_on='Sample')"
   ]
  },
  {
   "cell_type": "code",
   "execution_count": 27,
   "metadata": {},
   "outputs": [],
   "source": [
    "plt.figure(figsize=(5,5))\n",
    "sns.scatterplot(x=\"VAF\", y=\"CIViC Panel VAF\", data=correlation, alpha=0.8, hue='Sample', palette=\"deep\")\n",
    "plt.legend(bbox_to_anchor=(1.05, 1), loc=2, borderaxespad=0.)\n",
    "plt.savefig('../data/Figures/VAF_correlation_Sample.png', bbox_inches='tight', dpi=400)\n",
    "plt.close()"
   ]
  },
  {
   "cell_type": "code",
   "execution_count": 28,
   "metadata": {
    "collapsed": true
   },
   "outputs": [],
   "source": [
    "plt.figure(figsize=(5,5))\n",
    "sns.scatterplot(x=\"VAF\", y=\"CIViC Panel VAF\", data=correlation, alpha=0.8, hue='Matched Normal', palette=\"deep\")\n",
    "plt.legend(bbox_to_anchor=(1.05, 1), loc=2, borderaxespad=0.)\n",
    "plt.savefig('../data/Figures/VAF_correlation_MatchedNormal.png', bbox_inches='tight', dpi=400)\n",
    "plt.close()"
   ]
  },
  {
   "cell_type": "code",
   "execution_count": 29,
   "metadata": {
    "collapsed": true
   },
   "outputs": [],
   "source": [
    "plt.figure(figsize=(5,5))\n",
    "sns.scatterplot(x=\"VAF\", y=\"CIViC Panel VAF\", data=correlation, alpha=0.8, hue='Passed QC', palette=\"deep\")\n",
    "plt.legend(bbox_to_anchor=(1.05, 1), loc=2, borderaxespad=0.)\n",
    "plt.savefig('../data/Figures/VAF_correlation_PassedQC.png', bbox_inches='tight', dpi=400)\n",
    "plt.close()"
   ]
  },
  {
   "cell_type": "code",
   "execution_count": 30,
   "metadata": {
    "collapsed": true
   },
   "outputs": [],
   "source": [
    "plt.figure(figsize=(5,5))\n",
    "sns.scatterplot(x=\"VAF\", y=\"CIViC Panel VAF\", data=correlation, alpha=0.8, hue='Mass', palette=\"deep\")\n",
    "plt.legend(bbox_to_anchor=(1.05, 1), loc=2, borderaxespad=0.)\n",
    "plt.savefig('../data/Figures/VAF_correlation_Mass.png', bbox_inches='tight', dpi=400)\n",
    "plt.close()"
   ]
  },
  {
   "cell_type": "code",
   "execution_count": 31,
   "metadata": {},
   "outputs": [],
   "source": [
    "plt.figure(figsize=(5,5))\n",
    "sns.scatterplot(x=\"VAF\", y=\"CIViC Panel VAF\", data=correlation, alpha=0.8, hue='Coverage')\n",
    "plt.legend(bbox_to_anchor=(1.05, 1), loc=2, borderaxespad=0.)\n",
    "plt.savefig('../data/Figures/VAF_correlation_Coverage.png', bbox_inches='tight', dpi=400)\n",
    "plt.close()"
   ]
  },
  {
   "cell_type": "code",
   "execution_count": 32,
   "metadata": {
    "collapsed": true
   },
   "outputs": [],
   "source": [
    "plt.figure(figsize=(5,5))\n",
    "sns.scatterplot(x=\"VAF\", y=\"CIViC Panel VAF\", data=correlation, alpha=0.8, hue='Tumor Type', palette=\"deep\")\n",
    "plt.legend(bbox_to_anchor=(1.05, 1), loc=2, borderaxespad=0.)\n",
    "plt.savefig('../data/Figures/VAF_correlation_TumorType.png', bbox_inches='tight', dpi=400)\n",
    "plt.close()"
   ]
  },
  {
   "cell_type": "code",
   "execution_count": 33,
   "metadata": {},
   "outputs": [],
   "source": [
    "overlap_with_smmips['status'] = overlap_with_smmips['CIViC Panel VAF'] > 0"
   ]
  },
  {
   "cell_type": "code",
   "execution_count": 34,
   "metadata": {},
   "outputs": [],
   "source": [
    "plt.figure(figsize=(5,5))\n",
    "sns.scatterplot(x=\"VAF\", y=\"CIViC Panel VAF\", data=overlap_with_smmips, alpha=0.8, hue='status', palette=\"deep\")\n",
    "plt.legend(bbox_to_anchor=(1.05, 1), loc=2, borderaxespad=0.)\n",
    "plt.savefig('../data/Figures/VAF_correlation_Status.png', bbox_inches='tight', dpi=400)\n",
    "plt.close()"
   ]
  },
  {
   "cell_type": "markdown",
   "metadata": {
    "collapsed": true
   },
   "source": [
    "## Retrospective capture of clinically variants eliminated in original sequencing"
   ]
  },
  {
   "cell_type": "code",
   "execution_count": null,
   "metadata": {
    "collapsed": true
   },
   "outputs": [],
   "source": []
  }
 ],
 "metadata": {
  "kernelspec": {
   "display_name": "Python 3",
   "language": "python",
   "name": "python3"
  },
  "language_info": {
   "codemirror_mode": {
    "name": "ipython",
    "version": 3
   },
   "file_extension": ".py",
   "mimetype": "text/x-python",
   "name": "python",
   "nbconvert_exporter": "python",
   "pygments_lexer": "ipython3",
   "version": "3.6.3"
  }
 },
 "nbformat": 4,
 "nbformat_minor": 2
}
