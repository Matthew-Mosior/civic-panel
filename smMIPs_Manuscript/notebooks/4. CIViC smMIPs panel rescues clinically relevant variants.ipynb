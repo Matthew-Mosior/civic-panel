{
 "cells": [
  {
   "cell_type": "markdown",
   "metadata": {},
   "source": [
    "# Results - CIViC smMIPs panel rescues clinically relevant variants"
   ]
  },
  {
   "cell_type": "markdown",
   "metadata": {},
   "source": [
    "## Tools"
   ]
  },
  {
   "cell_type": "code",
   "execution_count": 1,
   "metadata": {
    "collapsed": true
   },
   "outputs": [],
   "source": [
    "#!/usr/bin/env python3\n",
    "import numpy as np\n",
    "import pandas as pd\n",
    "import matplotlib.pyplot as plt\n",
    "import glob\n",
    "\n",
    "import seaborn as sns\n",
    "sns.set(style='white')\n",
    "sns.set_context(\"talk\")"
   ]
  },
  {
   "cell_type": "code",
   "execution_count": 2,
   "metadata": {
    "collapsed": true
   },
   "outputs": [],
   "source": [
    "from pyliftover import LiftOver\n",
    "lo = LiftOver('hg19', 'hg38')\n",
    "li = LiftOver('hg38', 'hg19')"
   ]
  },
  {
   "cell_type": "markdown",
   "metadata": {},
   "source": [
    "## Pull in Input Files"
   ]
  },
  {
   "cell_type": "code",
   "execution_count": 3,
   "metadata": {
    "collapsed": true
   },
   "outputs": [],
   "source": [
    "overlap_with_smmips = pd.read_csv('../output/variant_overlap.tsv', sep='\\t')"
   ]
  },
  {
   "cell_type": "code",
   "execution_count": 4,
   "metadata": {
    "collapsed": true
   },
   "outputs": [],
   "source": [
    "samples_QC = pd.read_csv('../data/validation_samples/sequencing_quality_check.txt', sep='\\t')"
   ]
  },
  {
   "cell_type": "code",
   "execution_count": 5,
   "metadata": {
    "collapsed": true
   },
   "outputs": [],
   "source": [
    "sample_info = pd.read_csv('../data/validation_samples/sample_dataframe.txt', sep='\\t')"
   ]
  },
  {
   "cell_type": "markdown",
   "metadata": {},
   "source": [
    "## smMIPs variant rescue for samples with both tumor and matched normal"
   ]
  },
  {
   "cell_type": "code",
   "execution_count": 6,
   "metadata": {
    "collapsed": true
   },
   "outputs": [],
   "source": [
    "overlap_with_smmips_data = overlap_with_smmips.merge(sample_info, right_on='Sample', left_on='sample')"
   ]
  },
  {
   "cell_type": "code",
   "execution_count": 7,
   "metadata": {
    "collapsed": true
   },
   "outputs": [],
   "source": [
    "tumor_normal_samples = []\n",
    "for item in overlap_with_smmips_data[(overlap_with_smmips_data['Passed QC'] == 'yes') & (overlap_with_smmips_data['Matched Normal'] == 'yes')]['sample'].drop_duplicates():\n",
    "    tumor_normal_samples.append(item)"
   ]
  },
  {
   "cell_type": "code",
   "execution_count": 8,
   "metadata": {
    "collapsed": true
   },
   "outputs": [],
   "source": [
    "def find_somatic_variants(name):\n",
    "    print(name)\n",
    "    \n",
    "    to_iterate = []\n",
    "    for item in glob.glob('../data/smmips_sequencing/*.vcf'):\n",
    "        file_name = item.split('/')[-1].split('_')[0] +'_' + item.split('/')[-1].split('_')[1]\n",
    "        if name == file_name:\n",
    "            to_iterate.append(item)\n",
    "    if len(to_iterate) != 4:\n",
    "        print(\"Normal sequencing Failed for \" + name + \" ... skiping this sample\")\n",
    "        print()\n",
    "        return 0,0\n",
    "    else:\n",
    "        tumor_variants = pd.DataFrame()\n",
    "        normal_variants = pd.DataFrame()\n",
    "        for item in to_iterate:\n",
    "            current = pd.read_csv(item, sep='\\t', comment='#', header=None).filter(items=[0,1,1,3,4])\n",
    "            if len(current) > 1:\n",
    "                if item.split('_')[3].split('.')[0] == 'T':\n",
    "                    tumor_variants = tumor_variants.append(current)\n",
    "                if item.split('_')[3].split('.')[0] == 'N':  \n",
    "                    normal_variants = normal_variants.append(current)\n",
    "        tumor_variants.columns = ['chrom', 'start', 'stop', 'reference', 'variant']\n",
    "        normal_variants.columns = ['chrom', 'start', 'stop', 'reference', 'variant']\n",
    "        \n",
    "        print('Total tumor varinats: ', len(tumor_variants))\n",
    "        \n",
    "        somatic = tumor_variants.merge(normal_variants, how='outer', indicator=True)\n",
    "        somatic = somatic[somatic['_merge'] == 'left_only']\n",
    "\n",
    "        somatic.drop('_merge', axis=1).to_csv('../data/manual_review/' + name +'.bed.txt',sep='\\t',index=False)\n",
    "        print('Total somatic varinats: ', len(somatic))\n",
    "        print()\n",
    "        return 1, int(len(somatic))\n",
    "    print()\n",
    "    \n",
    "    "
   ]
  },
  {
   "cell_type": "code",
   "execution_count": 9,
   "metadata": {},
   "outputs": [
    {
     "name": "stdout",
     "output_type": "stream",
     "text": [
      "SCLC_5\n",
      "Total tumor varinats:  77\n",
      "Total somatic varinats:  28\n",
      "\n",
      "SCLC_8\n",
      "Total tumor varinats:  66\n",
      "Total somatic varinats:  11\n",
      "\n",
      "SCLC_4\n",
      "Total tumor varinats:  56\n",
      "Total somatic varinats:  14\n",
      "\n",
      "SCLC_3\n",
      "Total tumor varinats:  64\n",
      "Total somatic varinats:  16\n",
      "\n",
      "SCLC_1\n",
      "Total tumor varinats:  75\n",
      "Total somatic varinats:  40\n",
      "\n",
      "SCLC_2\n",
      "Total tumor varinats:  62\n",
      "Total somatic varinats:  17\n",
      "\n",
      "SCLC_9\n",
      "Total tumor varinats:  62\n",
      "Total somatic varinats:  18\n",
      "\n",
      "OSCC_5\n",
      "Total tumor varinats:  56\n",
      "Total somatic varinats:  4\n",
      "\n",
      "SCLC_6\n",
      "Total tumor varinats:  79\n",
      "Total somatic varinats:  27\n",
      "\n",
      "OSCC_1\n",
      "Normal sequencing Failed for OSCC_1 ... skiping this sample\n",
      "\n",
      "SCLC_7\n",
      "Total tumor varinats:  161\n",
      "Total somatic varinats:  88\n",
      "\n",
      "OSCC_4\n",
      "Total tumor varinats:  62\n",
      "Total somatic varinats:  18\n",
      "\n",
      "HL_1\n",
      "Total tumor varinats:  59\n",
      "Total somatic varinats:  29\n",
      "\n"
     ]
    }
   ],
   "source": [
    "eligible_samples = 0\n",
    "total_variants = 0\n",
    "for item in tumor_normal_samples:\n",
    "    sample, somatic_variants = find_somatic_variants(item)\n",
    "    eligible_samples += sample\n",
    "    total_variants +=somatic_variants"
   ]
  },
  {
   "cell_type": "code",
   "execution_count": 10,
   "metadata": {},
   "outputs": [
    {
     "name": "stdout",
     "output_type": "stream",
     "text": [
      "Total samples with paired tumor/normal sequencing:  12\n",
      "Total stomatic variants identified exclusively on smMIPs:  310\n"
     ]
    }
   ],
   "source": [
    "print('Total samples with paired tumor/normal sequencing: ', eligible_samples)\n",
    "print('Total stomatic variants identified exclusively on smMIPs: ', total_variants)"
   ]
  },
  {
   "cell_type": "markdown",
   "metadata": {},
   "source": [
    "# Determine Cause of Missed Variants"
   ]
  },
  {
   "cell_type": "code",
   "execution_count": 11,
   "metadata": {
    "collapsed": true
   },
   "outputs": [],
   "source": [
    "manual_review_dataframe = pd.DataFrame()\n",
    "for item in glob.glob('../data/manual_review/*_postMR.bed.txt'):\n",
    "    name = item.split('/')[3].split('.')[0].strip('_postMR')\n",
    "    current_df = pd.read_csv(item,sep='\\t')\n",
    "    current_df['Sample'] = name\n",
    "    manual_review_dataframe = manual_review_dataframe.append(current_df)"
   ]
  },
  {
   "cell_type": "code",
   "execution_count": 12,
   "metadata": {
    "collapsed": true
   },
   "outputs": [],
   "source": [
    "smMIPs_somatic = pd.DataFrame()\n",
    "for name in tumor_normal_samples:\n",
    "    to_iterate = []\n",
    "    for item in glob.glob('../data/smmips_sequencing/*.vcf'):\n",
    "\n",
    "        \n",
    "        file_name = item.split('/')[-1].split('_')[0] +'_' + item.split('/')[-1].split('_')[1]\n",
    "\n",
    "        if name == file_name:\n",
    "            to_iterate.append(item)\n",
    "\n",
    "    if len(to_iterate) != 4:\n",
    "        continue\n",
    "\n",
    "    else:\n",
    "        tumor_variants = pd.DataFrame()\n",
    "        normal_variants = pd.DataFrame()\n",
    "        for item in to_iterate:\n",
    "            current = pd.read_csv(item, sep='\\t', comment='#', header=None).filter(items=[0,1,1,3,4,9])\n",
    "            if len(current) > 1:\n",
    "                if item.split('_')[3].split('.')[0] == 'T':\n",
    "                    tumor_variants = tumor_variants.append(current)\n",
    "                if item.split('_')[3].split('.')[0] == 'N':  \n",
    "                    normal_variants = normal_variants.append(current)\n",
    "        tumor_variants.columns = ['chrom', 'start', 'stop', 'reference', 'variant','GT:FALT:FTOT:RALT:RTOT:ALT:TOT:FRAC']\n",
    "        normal_variants.columns = ['chrom', 'start', 'stop', 'reference', 'variant','GT:FALT:FTOT:RALT:RTOT:ALT:TOT:FRAC']\n",
    "\n",
    "        somatic = tumor_variants.merge(normal_variants, how='outer', indicator=True)\n",
    "        somatic = somatic[somatic['_merge'] == 'left_only']\n",
    "\n",
    "        somatic['Sample'] = name\n",
    "\n",
    "        smMIPs_somatic = smMIPs_somatic.append(somatic)"
   ]
  },
  {
   "cell_type": "code",
   "execution_count": 13,
   "metadata": {
    "collapsed": true
   },
   "outputs": [],
   "source": [
    "smMIPs_somatic['GT'], smMIPs_somatic['FALT'], smMIPs_somatic['FTOT'], smMIPs_somatic['RALT'], smMIPs_somatic['RTOT'], smMIPs_somatic['ALT'],smMIPs_somatic['TOT'],smMIPs_somatic['FRAC']  = smMIPs_somatic['GT:FALT:FTOT:RALT:RTOT:ALT:TOT:FRAC'].str.split(':', 8).str"
   ]
  },
  {
   "cell_type": "code",
   "execution_count": 14,
   "metadata": {
    "collapsed": true
   },
   "outputs": [],
   "source": [
    "smMIPs_somatic = smMIPs_somatic.drop(['GT:FALT:FTOT:RALT:RTOT:ALT:TOT:FRAC', '_merge'], axis=1)"
   ]
  },
  {
   "cell_type": "code",
   "execution_count": 15,
   "metadata": {
    "collapsed": true
   },
   "outputs": [],
   "source": [
    "manual_review_dataframe_merge = manual_review_dataframe.merge(smMIPs_somatic, how='outer', left_on=['Chromosome', 'Start', 'Stop', 'Reference', 'Variant', 'Sample'], right_on=['chrom', 'start', 'stop', 'reference', 'variant', 'Sample'],indicator=True)\n",
    "manual_review_dataframe_merge = manual_review_dataframe_merge[manual_review_dataframe_merge['_merge'] == 'both']"
   ]
  },
  {
   "cell_type": "code",
   "execution_count": 16,
   "metadata": {
    "collapsed": true
   },
   "outputs": [],
   "source": [
    "manual_review_dataframe_merge.to_csv('../data/manual_review/manual_review_matrix.txt', sep='\\t', index=False)"
   ]
  },
  {
   "cell_type": "code",
   "execution_count": 17,
   "metadata": {},
   "outputs": [
    {
     "data": {
      "text/plain": [
       "310"
      ]
     },
     "execution_count": 17,
     "metadata": {},
     "output_type": "execute_result"
    }
   ],
   "source": [
    "len(manual_review_dataframe_merge)"
   ]
  },
  {
   "cell_type": "markdown",
   "metadata": {},
   "source": [
    "## Analysis of germline variants"
   ]
  },
  {
   "cell_type": "code",
   "execution_count": 18,
   "metadata": {},
   "outputs": [
    {
     "name": "stdout",
     "output_type": "stream",
     "text": [
      "Total Germline Variants:  55\n",
      "17.741935483870968 %\n"
     ]
    }
   ],
   "source": [
    "#GERMLINE VARIANTS\n",
    "\n",
    "print('Total Germline Variants: ',len(manual_review_dataframe_merge[manual_review_dataframe_merge['Notes'] == 'Germline']))\n",
    "\n",
    "print(len(manual_review_dataframe_merge[manual_review_dataframe_merge['Notes'] == 'Germline'])/len(manual_review_dataframe_merge)*100,'%')"
   ]
  },
  {
   "cell_type": "code",
   "execution_count": 19,
   "metadata": {
    "collapsed": true
   },
   "outputs": [],
   "source": [
    "germline_variants = manual_review_dataframe_merge[manual_review_dataframe_merge['Notes'] == 'Germline']"
   ]
  },
  {
   "cell_type": "code",
   "execution_count": 20,
   "metadata": {},
   "outputs": [
    {
     "data": {
      "image/png": "[encoded data removed]",
      "text/plain": [
       "<matplotlib.figure.Figure at 0x1a1d0f7e80>"
      ]
     },
     "metadata": {},
     "output_type": "display_data"
    }
   ],
   "source": [
    "plt.figure(figsize=(5,5))\n",
    "ax = sns.distplot(pd.to_numeric(germline_variants['FRAC'])*100, bins=15, color='#376E6F')\n",
    "ax.set_xlim([0, 100])\n",
    "plt.xlabel('Original VAF')\n",
    "plt.ylabel('Frequency')\n",
    "plt.savefig('../data/Figures/Recovery_germline.pdf', bbox_inches='tight', dpi=400)\n",
    "plt.show()\n",
    "plt.close()"
   ]
  },
  {
   "cell_type": "markdown",
   "metadata": {},
   "source": [
    "## Analysis of variants with sequencing artifacts "
   ]
  },
  {
   "cell_type": "code",
   "execution_count": 21,
   "metadata": {},
   "outputs": [
    {
     "name": "stdout",
     "output_type": "stream",
     "text": [
      "Total Sequencing Artifact Variants:  36\n",
      "11.612903225806452 %\n"
     ]
    }
   ],
   "source": [
    "#SEQUENCING ARTIFACTS\n",
    "\n",
    "artifacts = manual_review_dataframe_merge[manual_review_dataframe_merge['Notes'] == 'Sequencing artifact']\n",
    "\n",
    "\n",
    "print('Total Sequencing Artifact Variants: ',len(artifacts))\n",
    "\n",
    "print(len(artifacts)/len(manual_review_dataframe)*100,'%')"
   ]
  },
  {
   "cell_type": "code",
   "execution_count": 22,
   "metadata": {
    "collapsed": true
   },
   "outputs": [],
   "source": [
    "tags_list = {'MN':'#0E1A1A', 'MM':'#152627', 'DN':'#1C3334', 'D':'#495C5D', 'MV':'#778585', 'TR':'#A4ADAE', }"
   ]
  },
  {
   "cell_type": "code",
   "execution_count": 23,
   "metadata": {
    "collapsed": true
   },
   "outputs": [],
   "source": [
    "tags = []\n",
    "for item in artifacts['Tags'].values:\n",
    "    for item in item.split(','):\n",
    "        tags.append(item)\n"
   ]
  },
  {
   "cell_type": "code",
   "execution_count": 24,
   "metadata": {},
   "outputs": [
    {
     "data": {
      "image/png": "[encoded data removed]",
      "text/plain": [
       "<matplotlib.figure.Figure at 0x1a1d1bc978>"
      ]
     },
     "metadata": {},
     "output_type": "display_data"
    }
   ],
   "source": [
    "plt.figure(figsize=(5,5))\n",
    "ax = sns.countplot(x=tags, palette=tags_list, order=['MN', 'MM', 'DN', 'MV', 'TR'])\n",
    "# ax.set_xticklabels(['Mononucleotide', 'Multiple Mismatches', 'Dinucleotide', 'Multiple Variants', 'Tandem Repeat'])\n",
    "plt.xlabel('Artifact Tag')\n",
    "plt.ylabel('Count')\n",
    "plt.savefig('../data/Figures/Recovery_artifact.pdf', bbox_inches='tight', dpi=400)\n",
    "plt.show()\n",
    "plt.close()"
   ]
  },
  {
   "cell_type": "markdown",
   "metadata": {},
   "source": [
    "## Analysis of variants not called as somatic on original sequencing"
   ]
  },
  {
   "cell_type": "code",
   "execution_count": 25,
   "metadata": {},
   "outputs": [
    {
     "name": "stdout",
     "output_type": "stream",
     "text": [
      "Total Variants not called as somatic by original sequencing:  219\n",
      "70.64516129032258 %\n"
     ]
    }
   ],
   "source": [
    "other = len(manual_review_dataframe) - (len(germline_variants) + len(artifacts))\n",
    "print('Total Variants not called as somatic by original sequencing: ',other)\n",
    "print(other/len(manual_review_dataframe)*100,'%')"
   ]
  },
  {
   "cell_type": "markdown",
   "metadata": {},
   "source": [
    "###  Analysis of variants with no support on original sequencing"
   ]
  },
  {
   "cell_type": "code",
   "execution_count": 26,
   "metadata": {},
   "outputs": [
    {
     "name": "stdout",
     "output_type": "stream",
     "text": [
      "Total Variants not observed on original sequencing:  175\n",
      "56.451612903225815 %\n"
     ]
    }
   ],
   "source": [
    "not_observed = manual_review_dataframe_merge[manual_review_dataframe_merge['Notes'] == 'No support']\n",
    "print('Total Variants not observed on original sequencing: ',len(not_observed))\n",
    "print(len(not_observed)/len(manual_review_dataframe)*100,'%')"
   ]
  },
  {
   "cell_type": "code",
   "execution_count": 27,
   "metadata": {},
   "outputs": [
    {
     "data": {
      "text/plain": [
       "0.082690187431091494"
      ]
     },
     "execution_count": 27,
     "metadata": {},
     "output_type": "execute_result"
    }
   ],
   "source": [
    "np.median((pd.to_numeric(not_observed['FRAC']))*100)"
   ]
  },
  {
   "cell_type": "code",
   "execution_count": 28,
   "metadata": {},
   "outputs": [
    {
     "name": "stdout",
     "output_type": "stream",
     "text": [
      "175\n"
     ]
    }
   ],
   "source": [
    "count = 0\n",
    "insufficient_coverage = 0\n",
    "total = 0\n",
    "for i,row in not_observed.iterrows():\n",
    "    if float(row['ALT']) > 2:\n",
    "        count += 1\n",
    "    total +=1\n",
    "    smMIPs_VAF = float(row['FRAC'])\n",
    "    original_tumor_coverage = float(row['tumor coverage'])\n",
    "    if original_tumor_coverage == 0:\n",
    "        insufficient_coverage +=1\n",
    "    else:\n",
    "        if 1/original_tumor_coverage > smMIPs_VAF:\n",
    "            insufficient_coverage +=1\n",
    "\n",
    "print(count)"
   ]
  },
  {
   "cell_type": "code",
   "execution_count": 29,
   "metadata": {},
   "outputs": [
    {
     "name": "stdout",
     "output_type": "stream",
     "text": [
      "Variants with insufficient coverage: 0.9257142857142857\n"
     ]
    }
   ],
   "source": [
    "print('Variants with insufficient coverage: ' + str(insufficient_coverage/total))"
   ]
  },
  {
   "cell_type": "code",
   "execution_count": 30,
   "metadata": {},
   "outputs": [
    {
     "data": {
      "image/png": "[encoded data removed]",
      "text/plain": [
       "<matplotlib.figure.Figure at 0x1a1d121da0>"
      ]
     },
     "metadata": {},
     "output_type": "display_data"
    }
   ],
   "source": [
    "plt.figure(figsize=(5,5))\n",
    "ax = sns.scatterplot(x=\"tumor coverage\", y=pd.to_numeric(not_observed[\"FRAC\"])*100, data=not_observed, alpha=0.8, color='#1C3334')\n",
    "ax.set_ylim([0, 1])\n",
    "plt.xlabel('Original Coverage')\n",
    "plt.ylabel('smMIPs VAF (%)')\n",
    "plt.savefig('../data/Figures/Recovery_no-support.pdf', bbox_inches='tight', dpi=400)\n",
    "plt.show()\n",
    "plt.close()"
   ]
  },
  {
   "cell_type": "markdown",
   "metadata": {},
   "source": [
    "###  Analysis of variants with support on original sequencing"
   ]
  },
  {
   "cell_type": "code",
   "execution_count": 31,
   "metadata": {
    "collapsed": true
   },
   "outputs": [],
   "source": [
    "original_support = manual_review_dataframe_merge[manual_review_dataframe_merge['Notes'] == 'Support']"
   ]
  },
  {
   "cell_type": "code",
   "execution_count": 32,
   "metadata": {},
   "outputs": [
    {
     "name": "stdout",
     "output_type": "stream",
     "text": [
      "Total Variants not observed on original sequencing:  43\n",
      "13.870967741935484 %\n"
     ]
    }
   ],
   "source": [
    "print('Total Variants not observed on original sequencing: ',len(original_support))\n",
    "print(len(original_support)/len(manual_review_dataframe)*100,'%')"
   ]
  },
  {
   "cell_type": "code",
   "execution_count": 33,
   "metadata": {},
   "outputs": [
    {
     "name": "stderr",
     "output_type": "stream",
     "text": [
      "/Users/ebarnell/anaconda3/lib/python3.6/site-packages/ipykernel_launcher.py:5: SettingWithCopyWarning: \n",
      "A value is trying to be set on a copy of a slice from a DataFrame.\n",
      "Try using .loc[row_indexer,col_indexer] = value instead\n",
      "\n",
      "See the caveats in the documentation: http://pandas.pydata.org/pandas-docs/stable/indexing.html#indexing-view-versus-copy\n",
      "  \"\"\"\n"
     ]
    }
   ],
   "source": [
    "smmips_fraction = []\n",
    "for item in original_support['FRAC']:\n",
    "    smmips_fraction.append(float(item) * 100)\n",
    "\n",
    "original_support['smMIPs VAF'] = smmips_fraction"
   ]
  },
  {
   "cell_type": "code",
   "execution_count": 34,
   "metadata": {},
   "outputs": [
    {
     "data": {
      "text/html": [
       "<div>\n",
       "<style>\n",
       "    .dataframe thead tr:only-child th {\n",
       "        text-align: right;\n",
       "    }\n",
       "\n",
       "    .dataframe thead th {\n",
       "        text-align: left;\n",
       "    }\n",
       "\n",
       "    .dataframe tbody tr th {\n",
       "        vertical-align: top;\n",
       "    }\n",
       "</style>\n",
       "<table border=\"1\" class=\"dataframe\">\n",
       "  <thead>\n",
       "    <tr style=\"text-align: right;\">\n",
       "      <th></th>\n",
       "      <th>original_VAF</th>\n",
       "      <th>smMIPs VAF</th>\n",
       "    </tr>\n",
       "  </thead>\n",
       "  <tbody>\n",
       "    <tr>\n",
       "      <th>original_VAF</th>\n",
       "      <td>1.000000</td>\n",
       "      <td>0.928133</td>\n",
       "    </tr>\n",
       "    <tr>\n",
       "      <th>smMIPs VAF</th>\n",
       "      <td>0.928133</td>\n",
       "      <td>1.000000</td>\n",
       "    </tr>\n",
       "  </tbody>\n",
       "</table>\n",
       "</div>"
      ],
      "text/plain": [
       "              original_VAF  smMIPs VAF\n",
       "original_VAF      1.000000    0.928133\n",
       "smMIPs VAF        0.928133    1.000000"
      ]
     },
     "execution_count": 34,
     "metadata": {},
     "output_type": "execute_result"
    }
   ],
   "source": [
    "correlation_original = original_support.filter(items=['original_VAF', 'smMIPs VAF'])\n",
    "pd.DataFrame.corr(correlation_original,method='pearson')"
   ]
  },
  {
   "cell_type": "code",
   "execution_count": 35,
   "metadata": {},
   "outputs": [
    {
     "data": {
      "image/png": "[encoded data removed]",
      "text/plain": [
       "<matplotlib.figure.Figure at 0x1071d9198>"
      ]
     },
     "metadata": {},
     "output_type": "display_data"
    }
   ],
   "source": [
    "plt.figure(figsize=(5,5))\n",
    "sns.scatterplot(x=\"original_VAF\", y=\"smMIPs VAF\", data=original_support, alpha=0.8, color='#295353')\n",
    "plt.xlabel('Original VAF (%)')\n",
    "plt.ylabel('smMIPs VAF (%)')\n",
    "plt.savefig('../data/Figures/Recovery_support.pdf', bbox_inches='tight', dpi=400)\n",
    "plt.show()\n",
    "plt.close()"
   ]
  },
  {
   "cell_type": "code",
   "execution_count": 36,
   "metadata": {
    "collapsed": true
   },
   "outputs": [],
   "source": [
    "original_support.to_csv('../output/recovered_supported_variants.tsv', sep='\\t', index=False)"
   ]
  },
  {
   "cell_type": "markdown",
   "metadata": {},
   "source": [
    "#### Evaluate manual review of supported variants"
   ]
  },
  {
   "cell_type": "code",
   "execution_count": 37,
   "metadata": {},
   "outputs": [],
   "source": [
    "analysis = pd.read_csv('../output/analysis_of_original_MR.txt', sep='\\t')"
   ]
  },
  {
   "cell_type": "code",
   "execution_count": 38,
   "metadata": {},
   "outputs": [
    {
     "data": {
      "text/plain": [
       "Notes\n",
       "failed MR      2\n",
       "filtered       9\n",
       "not called     4\n",
       "somatic       28\n",
       "dtype: int64"
      ]
     },
     "execution_count": 38,
     "metadata": {},
     "output_type": "execute_result"
    }
   ],
   "source": [
    "analysis.groupby('Notes').size()"
   ]
  },
  {
   "cell_type": "code",
   "execution_count": null,
   "metadata": {
    "collapsed": true
   },
   "outputs": [],
   "source": []
  }
 ],
 "metadata": {
  "kernelspec": {
   "display_name": "Python 3",
   "language": "python",
   "name": "python3"
  },
  "language_info": {
   "codemirror_mode": {
    "name": "ipython",
    "version": 3
   },
   "file_extension": ".py",
   "mimetype": "text/x-python",
   "name": "python",
   "nbconvert_exporter": "python",
   "pygments_lexer": "ipython3",
   "version": "3.6.1"
  }
 },
 "nbformat": 4,
 "nbformat_minor": 2
}
