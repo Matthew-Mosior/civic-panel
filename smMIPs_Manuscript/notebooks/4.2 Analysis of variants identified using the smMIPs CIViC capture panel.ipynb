{
 "cells": [
  {
   "cell_type": "markdown",
   "metadata": {
    "collapsed": true
   },
   "source": [
    "# Results - Analysis of variants not called as somatic on original sequencing"
   ]
  },
  {
   "cell_type": "markdown",
   "metadata": {},
   "source": [
    "## Tools"
   ]
  },
  {
   "cell_type": "code",
   "execution_count": 1,
   "metadata": {
    "collapsed": true
   },
   "outputs": [],
   "source": [
    "import pandas as pd\n",
    "import requests\n",
    "import sys"
   ]
  },
  {
   "cell_type": "markdown",
   "metadata": {},
   "source": [
    "## Pull in input files"
   ]
  },
  {
   "cell_type": "code",
   "execution_count": 2,
   "metadata": {
    "collapsed": true
   },
   "outputs": [],
   "source": [
    "missed_variants = pd.read_csv('../data/manual_review/manual_review_matrix.txt', sep='\\t')"
   ]
  },
  {
   "cell_type": "code",
   "execution_count": 3,
   "metadata": {
    "collapsed": true
   },
   "outputs": [],
   "source": [
    "variants_DNA = requests.get('https://civic.genome.wustl.edu/api/panels/DNA-based/qualifying_variants?minimum_score=0').json()['records'] #Call eligible variants"
   ]
  },
  {
   "cell_type": "code",
   "execution_count": 4,
   "metadata": {
    "collapsed": true
   },
   "outputs": [],
   "source": [
    "variants_DNA_df = pd.DataFrame(variants_DNA)"
   ]
  },
  {
   "cell_type": "code",
   "execution_count": 5,
   "metadata": {
    "collapsed": true
   },
   "outputs": [],
   "source": [
    "overlap_with_smmips = pd.read_csv('../output/variant_overlap.tsv', sep='\\t')"
   ]
  },
  {
   "cell_type": "code",
   "execution_count": 6,
   "metadata": {
    "collapsed": true
   },
   "outputs": [],
   "source": [
    "sample_info = pd.read_csv('../data/validation_samples/sample_dataframe.txt', sep='\\t')"
   ]
  },
  {
   "cell_type": "code",
   "execution_count": 7,
   "metadata": {
    "collapsed": true
   },
   "outputs": [],
   "source": [
    "overlap_with_smmips_data = overlap_with_smmips.merge(sample_info, right_on='Sample', left_on='sample')"
   ]
  },
  {
   "cell_type": "markdown",
   "metadata": {},
   "source": [
    "## Annotate tumor/normal missed variants"
   ]
  },
  {
   "cell_type": "code",
   "execution_count": 8,
   "metadata": {
    "collapsed": true
   },
   "outputs": [],
   "source": [
    "variants_dictionary = {}\n",
    "for item in variants_DNA:\n",
    "    variants_dictionary[item['id']]= item['coordinates']"
   ]
  },
  {
   "cell_type": "code",
   "execution_count": 9,
   "metadata": {
    "collapsed": true
   },
   "outputs": [],
   "source": [
    "def get_ids(sample):\n",
    "    variant_ids = []\n",
    "    for i,row in missed_variants[missed_variants['Sample'] == sample].iterrows():\n",
    "        var_chrom = str(row['Chromosome'].strip('chr'))\n",
    "        var_start = int(row['Start'])\n",
    "        var_stop = int(row['Stop'])\n",
    "        for k,v in variants_dictionary.items():\n",
    "            chrom = str(v['chromosome'])\n",
    "            start = int(v['start'])\n",
    "            stop = int(v['stop'])\n",
    "            if var_chrom == chrom and var_start >= start and var_stop <= stop:\n",
    "                if k not in variant_ids:\n",
    "                    variant_ids.append(k)\n",
    "    return variant_ids"
   ]
  },
  {
   "cell_type": "code",
   "execution_count": 10,
   "metadata": {
    "collapsed": true
   },
   "outputs": [],
   "source": [
    "def get_evidence_statements(variant_ids, sample):\n",
    "    evidence_statements = []\n",
    "    \n",
    "    sample_evidence_count = {}\n",
    "    sample_evidence_count[sample] = [0,0,0,0]\n",
    "    \n",
    "    non_evaluated_variants = ['LOSS-OF-FUNCTION', 'DELETION', 'AMPLIFICATION', 'COPY NUMBER VARIATION', 'EXON 14 SKIPPING MUTATION', 'WILD TYPE']\n",
    "    for item in variant_ids:\n",
    "\n",
    "        if float(variants_DNA_df[variants_DNA_df['id'] == item]['civic_actionability_score']) > 20:\n",
    "            current_variant = variants_DNA_df[variants_DNA_df['id'] == item].reset_index()\n",
    "            gene = str(current_variant['entrez_name'][0])\n",
    "            variant = str(current_variant['name'][0])\n",
    "            if variant not in non_evaluated_variants:\n",
    "                for evidence in current_variant['evidence_items']:\n",
    "\n",
    "                    initial = str(gene) +  ' ' +str(variant) +  ' ' +evidence[0]['evidence_direction']+ ' ' + evidence[0]['clinical_significance']\n",
    "                    final =  '(CIViC ' + evidence[0]['name'] + '- PMID:' + evidence[0]['source']['pubmed_id'] + ')'\n",
    "\n",
    "                    if evidence[0]['evidence_level'] != 'D' and evidence[0]['evidence_level'] != 'E':\n",
    "\n",
    "                        #PREDICTIVE\n",
    "                        if evidence[0]['evidence_type'] == 'Predictive':\n",
    "                            if evidence[0]['drug_interaction_type'] == 'Combination':\n",
    "                                    drug_list = []\n",
    "                                    for drug in evidence[0]['drugs']:\n",
    "                                        drug_list.append(drug['name'])\n",
    "                                    evidence_statements.append(initial + ' to ' + 'combination of ' + ', '.join(drug_list[:-1]) + ' and ' + str(drug_list[-1]) + ' for patients with ' + evidence[0]['disease'][ 'name'] + final)\n",
    "\n",
    "                            elif not evidence[0]['drug_interaction_type']:\n",
    "                                evidence_statements.append(initial + ' to ' + evidence[0]['drugs'][0]['name'] + ' for patients with ' + evidence[0]['disease'][ 'name'] + final)\n",
    "\n",
    "                            elif evidence[0]['drug_interaction_type'] == 'Substitutes':\n",
    "                                    drug_list = []\n",
    "                                    for drug in evidence[0]['drugs']:\n",
    "                                        drug_list.append(drug['name'])\n",
    "                                    evidence_statements.append(initial + ' to ' + ', '.join(drug_list[:-1]) + ' or ' + str(drug_list[-1]) + ' for patients with ' + evidence[0]['disease'][ 'name'] + final)\n",
    "\n",
    "                            elif evidence[0]['drug_interaction_type'] == 'Substitutes':\n",
    "                                    drug_list = []\n",
    "                                    for drug in evidence[0]['drugs']:\n",
    "                                        drug_list.append(drug['name'])\n",
    "                                    evidence_statements.append(initial + ' to ' + ', '.join(drug_list[:-1]) + ' or ' + str(drug_list[-1]) + ' for patients with ' + evidence[0]['disease'][ 'name'] + final)\n",
    "\n",
    "                            elif evidence[0]['drug_interaction_type'] == 'Sequential':\n",
    "                                    drug_list = []\n",
    "                                    for drug in evidence[0]['drugs']:\n",
    "                                        drug_list.append(drug['name'])\n",
    "                                    evidence_statements.append(initial + ' to ' + 'sequence of ' + ', '.join(drug_list[:-1]) + ' and ' + str(drug_list[-1]) + ' for patients with ' + evidence[0]['disease'][ 'name'] + final)\n",
    "\n",
    "\n",
    "                        #CREATE PROGNOSTIC EVIDENCE STATEMENT\n",
    "                        if evidence[0]['evidence_type'] == 'Prognostic':\n",
    "                            evidence_statements.append(initial + ' for patients with ' + evidence[0]['disease']['name'] + final)\n",
    "\n",
    "\n",
    "                        #CREATE DIAGNOSTIC EVIDENCE STATEMENT\n",
    "                        if evidence[0]['evidence_type'] == 'Diagnostic':\n",
    "                            evidence_statements.append(initial + ' for patients with ' + evidence[0]['disease']['name'] + final)\n",
    "\n",
    "\n",
    "                        #CREATE PREDISPOSING EVIDENCE STATEMENT\n",
    "                        if evidence[0]['evidence_type'] == 'Predisposing':\n",
    "                            evidence_statements.append(initial  + ' Predisposition For Cancer ' + ' for patients with ' + evidence[0]['disease']['name'] + final)\n",
    "\n",
    "                        \n",
    "                        if evidence[0]['evidence_type'] == 'Predictive':\n",
    "                            sample_evidence_count[sample][0] += 1\n",
    "                        if evidence[0]['evidence_type'] == 'Prognostic':\n",
    "                            sample_evidence_count[sample][1] += 1\n",
    "                        if evidence[0]['evidence_type'] == 'Diagnostic':\n",
    "                            sample_evidence_count[sample][2] += 1\n",
    "                        if evidence[0]['evidence_type'] == 'Predisposing':\n",
    "                            sample_evidence_count[sample][3] += 1\n",
    "                        \n",
    "                        \n",
    "    return evidence_statements, sample_evidence_count"
   ]
  },
  {
   "cell_type": "code",
   "execution_count": 23,
   "metadata": {
    "collapsed": true
   },
   "outputs": [],
   "source": [
    "samples = []\n",
    "for item in overlap_with_smmips_data[(overlap_with_smmips_data['Passed QC'] == 'yes') & (overlap_with_smmips_data['Matched Normal'] == 'yes')]['sample'].drop_duplicates():\n",
    "    if item != 'OSCC_1':\n",
    "        samples.append(item)"
   ]
  },
  {
   "cell_type": "code",
   "execution_count": 24,
   "metadata": {},
   "outputs": [
    {
     "name": "stdout",
     "output_type": "stream",
     "text": [
      "Total number of samples: 12\n"
     ]
    }
   ],
   "source": [
    "print('Total number of samples:', len(samples))"
   ]
  },
  {
   "cell_type": "code",
   "execution_count": 12,
   "metadata": {
    "collapsed": true
   },
   "outputs": [],
   "source": [
    "evidence = {}\n",
    "evidence_counts_final = {}\n",
    "for item in samples:\n",
    "    statements, evidence_count = get_evidence_statements(get_ids(item), item)\n",
    "    evidence[item] = []\n",
    "    for thing in statements:\n",
    "        evidence[item].append(thing)\n",
    "    for k,v in evidence_count.items():\n",
    "        evidence_counts_final[k] = v"
   ]
  },
  {
   "cell_type": "code",
   "execution_count": 13,
   "metadata": {
    "collapsed": true
   },
   "outputs": [],
   "source": [
    "evidence_statements = pd.DataFrame(pd.DataFrame.from_dict(evidence, orient='index').stack())"
   ]
  },
  {
   "cell_type": "code",
   "execution_count": 14,
   "metadata": {},
   "outputs": [
    {
     "name": "stdout",
     "output_type": "stream",
     "text": [
      "Total evidence items observed for tumor/normal samples: 73\n"
     ]
    }
   ],
   "source": [
    "print('Total evidence items observed for tumor/normal samples:', len(evidence_statements))"
   ]
  },
  {
   "cell_type": "code",
   "execution_count": 15,
   "metadata": {
    "collapsed": true
   },
   "outputs": [],
   "source": [
    "evidence_statements.to_csv('/Users/ebarnell/Desktop/evidence_statements.txt')"
   ]
  },
  {
   "cell_type": "code",
   "execution_count": 16,
   "metadata": {
    "collapsed": true
   },
   "outputs": [],
   "source": [
    "evidence_counts_final_df = pd.DataFrame(evidence_counts_final).transpose()\n",
    "evidence_counts_final_df.columns=['Predictive', 'Prognostic', 'Diagnostic', 'Predisposing']"
   ]
  },
  {
   "cell_type": "code",
   "execution_count": 17,
   "metadata": {},
   "outputs": [
    {
     "data": {
      "text/plain": [
       "Predictive      33\n",
       "Prognostic      36\n",
       "Diagnostic       4\n",
       "Predisposing     0\n",
       "dtype: int64"
      ]
     },
     "execution_count": 17,
     "metadata": {},
     "output_type": "execute_result"
    }
   ],
   "source": [
    "evidence_counts_final_df.sum()"
   ]
  },
  {
   "cell_type": "code",
   "execution_count": null,
   "metadata": {
    "collapsed": true
   },
   "outputs": [],
   "source": []
  }
 ],
 "metadata": {
  "kernelspec": {
   "display_name": "Python 3",
   "language": "python",
   "name": "python3"
  },
  "language_info": {
   "codemirror_mode": {
    "name": "ipython",
    "version": 3
   },
   "file_extension": ".py",
   "mimetype": "text/x-python",
   "name": "python",
   "nbconvert_exporter": "python",
   "pygments_lexer": "ipython3",
   "version": "3.6.1"
  }
 },
 "nbformat": 4,
 "nbformat_minor": 2
}
