{
 "cells": [
  {
   "cell_type": "markdown",
   "metadata": {},
   "source": [
    "# Results - Annotation of CIViC smMIPs variants using tumor-only samples"
   ]
  },
  {
   "cell_type": "markdown",
   "metadata": {},
   "source": [
    "## Tools"
   ]
  },
  {
   "cell_type": "code",
   "execution_count": 13,
   "metadata": {
    "collapsed": true
   },
   "outputs": [],
   "source": [
    "import pandas as pd\n",
    "import requests\n",
    "import glob"
   ]
  },
  {
   "cell_type": "code",
   "execution_count": null,
   "metadata": {
    "collapsed": true
   },
   "outputs": [],
   "source": [
    "from pyliftover import LiftOver\n",
    "lo = LiftOver('hg19', 'hg38')\n",
    "li = LiftOver('hg38', 'hg19')"
   ]
  },
  {
   "cell_type": "markdown",
   "metadata": {},
   "source": [
    "##  Pull in input files"
   ]
  },
  {
   "cell_type": "code",
   "execution_count": 14,
   "metadata": {
    "collapsed": true
   },
   "outputs": [],
   "source": [
    "variants_DNA = requests.get('https://civic.genome.wustl.edu/api/panels/DNA-based/qualifying_variants?minimum_score=0').json()['records'] #Call eligible variants"
   ]
  },
  {
   "cell_type": "code",
   "execution_count": 68,
   "metadata": {
    "collapsed": true
   },
   "outputs": [],
   "source": [
    "variants_DNA_df = pd.DataFrame(variants_DNA)"
   ]
  },
  {
   "cell_type": "code",
   "execution_count": 15,
   "metadata": {},
   "outputs": [],
   "source": [
    "overlap_with_smmips = pd.read_csv('../output/variant_overlap.tsv', sep='\\t')"
   ]
  },
  {
   "cell_type": "code",
   "execution_count": 16,
   "metadata": {
    "collapsed": true
   },
   "outputs": [],
   "source": [
    "samples_QC = pd.read_csv('../data/validation_samples/sequencing_quality_check.txt', sep='\\t')"
   ]
  },
  {
   "cell_type": "code",
   "execution_count": 17,
   "metadata": {
    "collapsed": true
   },
   "outputs": [],
   "source": [
    "sample_info = pd.read_csv('../data/validation_samples/sample_dataframe.txt', sep='\\t')"
   ]
  },
  {
   "cell_type": "markdown",
   "metadata": {},
   "source": [
    "## Annotate tumor-only missed variants"
   ]
  },
  {
   "cell_type": "code",
   "execution_count": 18,
   "metadata": {
    "collapsed": true
   },
   "outputs": [],
   "source": [
    "overlap_with_smmips_data = overlap_with_smmips.merge(sample_info, right_on='Sample', left_on='sample')"
   ]
  },
  {
   "cell_type": "code",
   "execution_count": 19,
   "metadata": {
    "collapsed": true
   },
   "outputs": [],
   "source": [
    "tumor_only_samples = []\n",
    "for item in overlap_with_smmips_data[(overlap_with_smmips_data['Passed QC'] == 'yes') & (overlap_with_smmips_data['Matched Normal'] == 'no')]['sample'].drop_duplicates():\n",
    "    tumor_only_samples.append(item)"
   ]
  },
  {
   "cell_type": "code",
   "execution_count": 58,
   "metadata": {
    "collapsed": true
   },
   "outputs": [],
   "source": [
    "def find_somatic_variants(name):\n",
    "    print(name)\n",
    "    \n",
    "    to_iterate = []\n",
    "    for item in glob.glob('../data/smmips_sequencing/*.vcf'):\n",
    "        file_name = item.split('/')[-1].split('_')[0] +'_' + item.split('/')[-1].split('_')[1]\n",
    "        if name == file_name:\n",
    "            to_iterate.append(item)\n",
    "    if len(to_iterate) != 2:\n",
    "        print(\"Normal sequencing Failed for \" + name + \" ... skiping this sample\")\n",
    "        print()\n",
    "        return 0,0\n",
    "    else:\n",
    "        tumor_variants = pd.DataFrame()\n",
    "        for item in to_iterate:\n",
    "            current = pd.read_csv(item, sep='\\t', comment='#', header=None).filter(items=[0,1,1,3,4])\n",
    "            if len(current) > 1:\n",
    "                if item.split('_')[3].split('.')[0] == 'T':\n",
    "                    tumor_variants = tumor_variants.append(current)\n",
    "        tumor_variants.columns = ['chrom', 'start', 'stop', 'reference', 'variant']\n",
    "        \n",
    "        print('Total tumor varinats: ', len(tumor_variants))\n",
    "\n",
    "        return 1, int(len(tumor_variants))\n",
    "    print()\n",
    "    \n",
    "    "
   ]
  },
  {
   "cell_type": "code",
   "execution_count": 59,
   "metadata": {},
   "outputs": [
    {
     "name": "stdout",
     "output_type": "stream",
     "text": [
      "CRC_4\n",
      "Total tumor varinats:  71\n",
      "CRC_1\n",
      "Total tumor varinats:  60\n",
      "CRC_3\n",
      "Total tumor varinats:  72\n",
      "AML_31\n",
      "Total tumor varinats:  60\n",
      "CRC_5\n",
      "Total tumor varinats:  44\n",
      "CRC_2\n",
      "Total tumor varinats:  94\n"
     ]
    }
   ],
   "source": [
    "eligible_samples = 0\n",
    "total_variants = 0\n",
    "missed_variants = pd.DataFrame()\n",
    "for item in tumor_only_samples:\n",
    "    sample, somatic_variants = find_somatic_variants(item)"
   ]
  },
  {
   "cell_type": "code",
   "execution_count": 23,
   "metadata": {},
   "outputs": [],
   "source": [
    "smMIPs_somatic = pd.DataFrame()\n",
    "for name in tumor_only_samples:\n",
    "    to_iterate = []\n",
    "    for item in glob.glob('../data/smmips_sequencing/*.vcf'):\n",
    "\n",
    "        \n",
    "        file_name = item.split('/')[-1].split('_')[0] +'_' + item.split('/')[-1].split('_')[1]\n",
    "\n",
    "        if name == file_name:\n",
    "            to_iterate.append(item)\n",
    "\n",
    "    if len(to_iterate) != 2:\n",
    "        continue\n",
    "\n",
    "    else:\n",
    "        tumor_variants = pd.DataFrame()\n",
    "        for item in to_iterate:\n",
    "            current = pd.read_csv(item, sep='\\t', comment='#', header=None).filter(items=[0,1,1,3,4,9])\n",
    "            if len(current) > 1:\n",
    "                if item.split('_')[3].split('.')[0] == 'T':\n",
    "                    tumor_variants = tumor_variants.append(current)\n",
    "        tumor_variants.columns = ['chrom', 'start', 'stop', 'reference', 'variant','GT:FALT:FTOT:RALT:RTOT:ALT:TOT:FRAC']\n",
    "        tumor_variants['Sample'] = name\n",
    "\n",
    "        smMIPs_somatic = smMIPs_somatic.append(tumor_variants)"
   ]
  },
  {
   "cell_type": "code",
   "execution_count": 111,
   "metadata": {},
   "outputs": [
    {
     "name": "stderr",
     "output_type": "stream",
     "text": [
      "/Users/ebarnell/anaconda3/lib/python3.6/site-packages/IPython/core/interactiveshell.py:2698: DtypeWarning: Columns (0) have mixed types. Specify dtype option on import or set low_memory=False.\n",
      "  interactivity=interactivity, compiler=compiler, result=result)\n"
     ]
    }
   ],
   "source": [
    "gnomad = pd.read_csv('../../../../tools/gnomad_data/gnomad.exomes.r2.0.2.sites_cut.vcf', comment='#', sep='\\t', header=None)"
   ]
  },
  {
   "cell_type": "code",
   "execution_count": 112,
   "metadata": {
    "collapsed": true
   },
   "outputs": [],
   "source": [
    "gnomad.columns=['chromosome','start','name','ref','var']"
   ]
  },
  {
   "cell_type": "code",
   "execution_count": 113,
   "metadata": {},
   "outputs": [],
   "source": [
    "chroms = []\n",
    "for item in list(smMIPs_somatic['chrom'].drop_duplicates()):\n",
    "    chroms.append(int(item.strip('chr')))"
   ]
  },
  {
   "cell_type": "code",
   "execution_count": 114,
   "metadata": {},
   "outputs": [],
   "source": [
    "gnomad = gnomad[gnomad['chromosome'].isin(chroms)]"
   ]
  },
  {
   "cell_type": "code",
   "execution_count": 115,
   "metadata": {},
   "outputs": [],
   "source": [
    "for i,row in smMIPs_somatic.iterrows():\n",
    "    chromosome = int(row['chrom'].strip('chr'))\n",
    "    start = int(row['start'])\n",
    "    if len(gnomad[(gnomad['start'] == start) & (gnomad['chromosome'] == chromosome)]) > 1:\n",
    "        print(i)"
   ]
  },
  {
   "cell_type": "code",
   "execution_count": 64,
   "metadata": {
    "collapsed": true
   },
   "outputs": [],
   "source": [
    "def get_ids(sample):\n",
    "    variant_ids = []\n",
    "    for i,row in smMIPs_somatic[smMIPs_somatic['Sample'] == sample].iterrows():\n",
    "        var_chrom = str(row['chrom'].strip('chr'))\n",
    "        var_start = int(row['start'])\n",
    "        var_stop = int(row['stop'])\n",
    "        for k,v in variants_dictionary.items():\n",
    "            chrom = str(v['chromosome'])\n",
    "            start = int(v['start'])\n",
    "            stop = int(v['stop'])\n",
    "            if var_chrom == chrom and var_start >= start and var_stop <= stop:\n",
    "                if k not in variant_ids:\n",
    "                    variant_ids.append(k)\n",
    "    return variant_ids"
   ]
  },
  {
   "cell_type": "code",
   "execution_count": 61,
   "metadata": {
    "collapsed": true
   },
   "outputs": [],
   "source": [
    "def get_evidence_statements(variant_ids, sample):\n",
    "    evidence_statements = []\n",
    "    \n",
    "    sample_evidence_count = {}\n",
    "    sample_evidence_count[sample] = [0,0,0,0]\n",
    "    \n",
    "    non_evaluated_variants = ['LOSS-OF-FUNCTION', 'DELETION', 'AMPLIFICATION', 'COPY NUMBER VARIATION', 'EXON 14 SKIPPING MUTATION', 'WILD TYPE']\n",
    "    for item in variant_ids:\n",
    "\n",
    "        if float(variants_DNA_df[variants_DNA_df['id'] == item]['civic_actionability_score']) > 20:\n",
    "            current_variant = variants_DNA_df[variants_DNA_df['id'] == item].reset_index()\n",
    "            gene = str(current_variant['entrez_name'][0])\n",
    "            variant = str(current_variant['name'][0])\n",
    "            if variant not in non_evaluated_variants:\n",
    "                for evidence in current_variant['evidence_items']:\n",
    "\n",
    "                    initial = str(gene) +  ' ' +str(variant) +  ' ' +evidence[0]['evidence_direction']+ ' ' + evidence[0]['clinical_significance']\n",
    "                    final =  '(CIViC ' + evidence[0]['name'] + '- PMID:' + evidence[0]['source']['pubmed_id'] + ')'\n",
    "\n",
    "                    if evidence[0]['evidence_level'] != 'D' and evidence[0]['evidence_level'] != 'E':\n",
    "\n",
    "                        #PREDICTIVE\n",
    "                        if evidence[0]['evidence_type'] == 'Predictive':\n",
    "                            if evidence[0]['drug_interaction_type'] == 'Combination':\n",
    "                                    drug_list = []\n",
    "                                    for drug in evidence[0]['drugs']:\n",
    "                                        drug_list.append(drug['name'])\n",
    "                                    evidence_statements.append(initial + ' to ' + 'combination of ' + ', '.join(drug_list[:-1]) + ' and ' + str(drug_list[-1]) + ' for patients with ' + evidence[0]['disease'][ 'name'] + final)\n",
    "\n",
    "                            elif not evidence[0]['drug_interaction_type']:\n",
    "                                evidence_statements.append(initial + ' to ' + evidence[0]['drugs'][0]['name'] + ' for patients with ' + evidence[0]['disease'][ 'name'] + final)\n",
    "\n",
    "                            elif evidence[0]['drug_interaction_type'] == 'Substitutes':\n",
    "                                    drug_list = []\n",
    "                                    for drug in evidence[0]['drugs']:\n",
    "                                        drug_list.append(drug['name'])\n",
    "                                    evidence_statements.append(initial + ' to ' + ', '.join(drug_list[:-1]) + ' or ' + str(drug_list[-1]) + ' for patients with ' + evidence[0]['disease'][ 'name'] + final)\n",
    "\n",
    "                            elif evidence[0]['drug_interaction_type'] == 'Substitutes':\n",
    "                                    drug_list = []\n",
    "                                    for drug in evidence[0]['drugs']:\n",
    "                                        drug_list.append(drug['name'])\n",
    "                                    evidence_statements.append(initial + ' to ' + ', '.join(drug_list[:-1]) + ' or ' + str(drug_list[-1]) + ' for patients with ' + evidence[0]['disease'][ 'name'] + final)\n",
    "\n",
    "                            elif evidence[0]['drug_interaction_type'] == 'Sequential':\n",
    "                                    drug_list = []\n",
    "                                    for drug in evidence[0]['drugs']:\n",
    "                                        drug_list.append(drug['name'])\n",
    "                                    evidence_statements.append(initial + ' to ' + 'sequence of ' + ', '.join(drug_list[:-1]) + ' and ' + str(drug_list[-1]) + ' for patients with ' + evidence[0]['disease'][ 'name'] + final)\n",
    "\n",
    "\n",
    "                        #CREATE PROGNOSTIC EVIDENCE STATEMENT\n",
    "                        if evidence[0]['evidence_type'] == 'Prognostic':\n",
    "                            evidence_statements.append(initial + ' for patients with ' + evidence[0]['disease']['name'] + final)\n",
    "\n",
    "\n",
    "                        #CREATE DIAGNOSTIC EVIDENCE STATEMENT\n",
    "                        if evidence[0]['evidence_type'] == 'Diagnostic':\n",
    "                            evidence_statements.append(initial + ' for patients with ' + evidence[0]['disease']['name'] + final)\n",
    "\n",
    "\n",
    "                        #CREATE PREDISPOSING EVIDENCE STATEMENT\n",
    "                        if evidence[0]['evidence_type'] == 'Predisposing':\n",
    "                            evidence_statements.append(initial  + ' Predisposition For Cancer ' + ' for patients with ' + evidence[0]['disease']['name'] + final)\n",
    "\n",
    "                        \n",
    "                        if evidence[0]['evidence_type'] == 'Predictive':\n",
    "                            sample_evidence_count[sample][0] += 1\n",
    "                        if evidence[0]['evidence_type'] == 'Prognostic':\n",
    "                            sample_evidence_count[sample][1] += 1\n",
    "                        if evidence[0]['evidence_type'] == 'Diagnostic':\n",
    "                            sample_evidence_count[sample][2] += 1\n",
    "                        if evidence[0]['evidence_type'] == 'Predisposing':\n",
    "                            sample_evidence_count[sample][3] += 1\n",
    "                        \n",
    "                        \n",
    "    return evidence_statements, sample_evidence_count"
   ]
  },
  {
   "cell_type": "code",
   "execution_count": 69,
   "metadata": {},
   "outputs": [
    {
     "name": "stdout",
     "output_type": "stream",
     "text": [
      "CRC_4\n",
      "CRC_1\n",
      "CRC_3\n",
      "AML_31\n",
      "CRC_5\n",
      "CRC_2\n"
     ]
    }
   ],
   "source": [
    "evidence = {}\n",
    "evidence_counts_final = {}\n",
    "for item in tumor_only_samples:\n",
    "    print(item)\n",
    "    statements, evidence_count = get_evidence_statements(get_ids(item), item)\n",
    "    evidence[item] = []\n",
    "    for thing in statements:\n",
    "        evidence[item].append(thing)\n",
    "    for k,v in evidence_count.items():\n",
    "        evidence_counts_final[k] = v\n",
    "        "
   ]
  },
  {
   "cell_type": "code",
   "execution_count": 70,
   "metadata": {
    "collapsed": true
   },
   "outputs": [],
   "source": [
    "evidence_statements = pd.DataFrame(pd.DataFrame.from_dict(evidence, orient='index').stack())"
   ]
  },
  {
   "cell_type": "code",
   "execution_count": 75,
   "metadata": {},
   "outputs": [
    {
     "name": "stdout",
     "output_type": "stream",
     "text": [
      "Total variants observed for tumor-only samples: 401\n"
     ]
    }
   ],
   "source": [
    "print('Total variants observed for tumor-only samples:', len(smMIPs_somatic))"
   ]
  },
  {
   "cell_type": "code",
   "execution_count": 71,
   "metadata": {},
   "outputs": [
    {
     "name": "stdout",
     "output_type": "stream",
     "text": [
      "Total evidence items observed for tumor-only samples: 127\n"
     ]
    }
   ],
   "source": [
    "print('Total evidence items observed for tumor-only samples:', len(evidence_statements))"
   ]
  },
  {
   "cell_type": "code",
   "execution_count": null,
   "metadata": {
    "collapsed": true
   },
   "outputs": [],
   "source": []
  }
 ],
 "metadata": {
  "kernelspec": {
   "display_name": "Python 3",
   "language": "python",
   "name": "python3"
  },
  "language_info": {
   "codemirror_mode": {
    "name": "ipython",
    "version": 3
   },
   "file_extension": ".py",
   "mimetype": "text/x-python",
   "name": "python",
   "nbconvert_exporter": "python",
   "pygments_lexer": "ipython3",
   "version": "3.6.1"
  }
 },
 "nbformat": 4,
 "nbformat_minor": 2
}
