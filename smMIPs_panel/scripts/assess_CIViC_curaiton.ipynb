{
 "cells": [
  {
   "cell_type": "markdown",
   "metadata": {},
   "source": [
    "# Assess the CIViC interface for Curation Effort and Gaps in Curation\n",
    "\n",
    "#### Usage\n",
    "\n",
    "This script evaluates the curation effort in CIViC by pulling in a list of genes that are implicated in biomarker panels and showing if there is curation in CIViC on these genes. It also evalutes if there are genes in CIViC that have extensive curation, but they are not implicated in the gene panels. Finally, it provides information on variants that require curation on the SOID to ensure that these variants are eligible for CIViC Capture Design.\n",
    "\n",
    "#### Input Files:\n",
    "\n",
    "1) threshold = minimum requirement for actionability score to be included in output files; default is 20 points.\n",
    "\n",
    "2) panel_genes = an input file with genes and total number of assocaited panels\n",
    "\n",
    "#### Output Files:\n",
    "\n",
    "There are no output files!\n"
   ]
  },
  {
   "cell_type": "code",
   "execution_count": 24,
   "metadata": {
    "collapsed": true
   },
   "outputs": [],
   "source": [
    "##SET INPUT VALUES\n",
    "\n",
    "threshold = str(20)"
   ]
  },
  {
   "cell_type": "code",
   "execution_count": 25,
   "metadata": {
    "collapsed": true
   },
   "outputs": [],
   "source": [
    "#!/usr/bin/env python3\n",
    "import json\n",
    "import numpy as np\n",
    "import requests\n",
    "import sys"
   ]
  },
  {
   "cell_type": "code",
   "execution_count": 26,
   "metadata": {},
   "outputs": [],
   "source": [
    "##Pull in Data from JSON\n",
    "variants_DNA = requests.get('https://civic.genome.wustl.edu/api/panels/DNA-based/qualifying_variants?minimum_score=',threshold).json()['records'] #Call eligible variants\n",
    "variants_RNA = requests.get('https://civic.genome.wustl.edu/api/panels/RNA-based/qualifying_variants?minimum_score=',threshold).json()['records'] #Call eligible variants"
   ]
  },
  {
   "cell_type": "code",
   "execution_count": 27,
   "metadata": {},
   "outputs": [
    {
     "name": "stdout",
     "output_type": "stream",
     "text": [
      "Total Number of Eligible Variants:  1018\n",
      "Total Number of Eligible Genes:  276\n"
     ]
    }
   ],
   "source": [
    "##Use API to determine the total number of eligible variants and the total number of eligible genes\n",
    "\n",
    "\n",
    "total_variant_count = 0 #Start count to determine the total number of eligible variants\n",
    "variant_list = [] #Create a Variant List for all genes\n",
    "\n",
    "for k in range(0, len(variants_RNA)): #iterate through API and pull all eligible variants\n",
    "    if variants_RNA[k]['entrez_name'] not in variant_list: #If the gene is not in the list already\n",
    "        variant_list.append(variants_RNA[k]['entrez_name']) #add to the list\n",
    "    total_variant_count += 1 #Count all of the eligible variants\n",
    "    \n",
    "for k in range(0, len(variants_DNA)): #iterate through API and pull all eligible variants\n",
    "    if variants_DNA[k]['entrez_name'] not in variant_list: #If the gene is not in the list already\n",
    "        variant_list.append(variants_DNA[k]['entrez_name']) #add to the list\n",
    "    total_variant_count += 1 #Count all of the eligible variants\n",
    "    \n",
    "print('Total Number of Eligible Variants: ', total_variant_count) #Print out all variants\n",
    "print('Total Number of Eligible Genes: ', len(variant_list)) #Print out all Genes"
   ]
  },
  {
   "cell_type": "code",
   "execution_count": 28,
   "metadata": {},
   "outputs": [
    {
     "name": "stdout",
     "output_type": "stream",
     "text": [
      "Number of genes in at Least 10 Panels is: 161\n",
      "Number of Genes Missing from CIViC is: 51\n",
      "List of Genes missing from CIViC  ['APC', 'JAK3', 'MPL', 'SRC', 'HNF1A', 'MYC', 'CBL', 'BRIP1', 'MUTYH', 'PDGFRB', 'KMT2A', 'GATA1', 'MAP2K2', 'ETV6', 'PAX5', 'FGFR4', 'KDM6A', 'NBN', 'SDHB', 'CREBBP', 'BCL6', 'GATA3', 'SUFU', 'FLCN', 'SDHD', 'BMPR1A', 'AKT3', 'FH', 'EP300', 'NOTCH2', 'PRKAR1A', 'SDHC', 'IL7R', 'RARA', 'FLT4', 'FLT1', 'FANCA', 'BLM', 'RAD51C', 'CIC', 'PHOX2B', 'TGFBR2', 'CDC73', 'ZRSR2', 'MRE11A', 'PHF6', 'ETV1', 'NFE2L2', 'MAP2K4', 'PIK3R2', 'DICER1']\n"
     ]
    }
   ],
   "source": [
    "##See how many genes are in panels but not eligible for CIViC\n",
    "panel_genes = open('../../smMIPs_panel/input_files/panel_genes.txt', 'r') #open panel_genes\n",
    "panel_genes_list_ten = [] #create empty file for panel genes (at least 10)\n",
    "for line in panel_genes: #iterate through panel genes\n",
    "    line = line.strip('\\n') #strip the new line\n",
    "    line = line.split('\\t') #split by tabs\n",
    "    gene = line[0] #pull gene\n",
    "    number = int(line[1]) #pull number\n",
    "    variants = line[2]\n",
    "    if number >= 10:\n",
    "        panel_genes_list_ten.append(gene)\n",
    "not_in_CIViC_ten = [] #create empty list for genes that are not extensively curated\n",
    "for item in panel_genes_list_ten: #for item in panel list\n",
    "    if item not in variant_list: #if the item is not in the civic list\n",
    "        not_in_CIViC_ten.append(item) #append it to the not in civic list\n",
    "print('Number of genes in at Least 10 Panels is:', len(panel_genes_list_ten)) #print the length of the panel Genes\n",
    "print('Number of Genes Missing from CIViC is:', len(not_in_CIViC_ten)) #print number of genes not in civic\n",
    "print('List of Genes missing from CIViC ', not_in_CIViC_ten)\n",
    "\n"
   ]
  },
  {
   "cell_type": "code",
   "execution_count": 17,
   "metadata": {},
   "outputs": [
    {
     "name": "stdout",
     "output_type": "stream",
     "text": [
      "Number of genes in CIViC but not in 10 gene Panels is:  166\n",
      "Genes in CIViC but not in 10 panels:  ['CCND2', 'MGMT', 'IGF2', 'NCOA3', 'PGR', 'CD274', 'NT5E', 'RIT1', 'SYK', 'NRG1', 'AREG', 'TGFA', 'EREG', 'CBLC', 'DEFA1', 'ERCC1', 'VEGFA', 'DNMT1', 'PDCD4', 'TFF3', 'DKK1', 'CD44', 'EGF', 'HMOX1', 'SPHK1', 'CASP8', 'TYMS', 'PBK', 'CDKN1A', 'ALCAM', 'STMN1', 'CDKN1B', 'UGT1A', 'SLFN11', 'BIRC5', 'AGR2', 'ZEB1', 'TIMP1', 'PTP4A3', 'EPHB4', 'TOP2A', 'PRKAA2', 'HSPA5', 'EIF4EBP1', 'TUBB3', 'CFLAR', 'PROM1', 'FOXP3', 'RPS6', 'DUSP6', 'HSPB1', 'NQO1', 'ABCB1', 'CXCR4', 'MAGEH1', 'ABCC10', 'CDX2', 'POU5F1', 'THBS2', 'HLA-DRA', 'HIF1A', 'EPAS1', 'PSMB8', 'PTTG1', 'LEPR', 'NEDD9', 'KRT18', 'FGF13', 'ALDH1A2', 'KIAA1524', 'MIR218-1', 'DDX43', 'TBK1', 'HAVCR2', 'MMP2', 'MMP9', 'HSPH1', 'ROBO4', 'PIM1', 'B4GALT1', 'SIRT1', 'ACTA1', 'PTGS2', 'MKI67', 'RAD23B', 'JUN', 'FOS', 'GAS6', 'ETV4', 'STAG3', 'HGF', 'FGF2', 'PAX8', 'SGK1', 'KIF23', 'RRM1', 'RRM2', 'MERTK', 'PRKACA', 'PML', 'FLI1', 'ERG', 'CBFB', 'SSX4', 'CTLA4', 'EWSR1', 'DDIT3', 'WWTR1', 'FOXP1', 'REL', 'TTF1', 'BIRC7', 'MAPK1', 'RSF1', 'ABCC3', 'ASNS', 'RICTOR', 'FGF3', 'GSTP1', 'LRP1B', 'FNTB', 'RHOA', 'KMT2C', 'CCND3', 'KMT2D', 'CDK12', 'PTPRD', 'MRE11', 'POT1', 'PRDM1', 'SOX10', 'ERRFI1', 'CYP2D6', 'PTPRB', 'EIF1AX', 'DPYD', 'POLE', 'RAD51D', 'GADD45A', 'STAT3', 'CSF3R', 'ARAF', 'NT5C2', 'XRCC1', 'MTHFR', 'ABCG2', 'RAC1', 'FCGR2A', 'FCGR3A', 'FCGR2B', 'PPP1R15A', 'MAP2K7', 'SH2B3', 'HOXB13', 'SLCO1B1', 'DDX41', 'CALR', 'ERCC5', 'BIRC3', 'WEE1', 'ATR', 'B2M', 'ETS2', 'CBLB', 'UGT1A1', 'BCL2L11']\n"
     ]
    }
   ],
   "source": [
    "#See how many genes are in CIViC but are not on the 10 panel list\n",
    "civic_only = [] #create list for civic only genes\n",
    "for item in variant_list: #iterate through variant list\n",
    "    if item not in panel_genes_list_ten: #see if variant not in panel gene list\n",
    "        if item not in civic_only: #see if it is not in the civic only list\n",
    "            civic_only.append(item) #if it is not in civic only list add it\n",
    "print('Number of genes in CIViC but not in 10 gene Panels is: ', len(civic_only))\n",
    "print('Genes in CIViC but not in 10 panels: ', civic_only)"
   ]
  },
  {
   "cell_type": "code",
   "execution_count": 21,
   "metadata": {},
   "outputs": [
    {
     "name": "stdout",
     "output_type": "stream",
     "text": [
      "Number of genes without Variant Type (SO_id): 100\n",
      "These genes are: ['APC', 'TP53', 'EGFR', 'AR', 'GNAQ', 'GNA11', 'SULT1E1', 'JAK2', 'BRCA1', 'CRBN', 'BRD4', 'MLH1', 'TYMS', 'CHEK2', 'NTRK1', 'RUNX1', 'HLA-C', 'FGFR3', 'FGFR2', 'ALK', 'BRAF', 'KIT', 'CREBBP', 'MTAP', 'GNAS', 'STK11', 'PDGFRA', 'NOTCH1', 'KRAS', 'ATM', 'NRAS', 'AEBP1', 'MDM2', 'MDM4', 'CTAG1B', 'CTAG2', 'SMO', 'NTRK3', 'DCC', 'ARID1A', 'AKT3', 'MYC', 'ERBB2', 'HRAS', 'ABL1', 'FBXW7', 'MTOR', 'FLT3', 'PTCH1', 'ROS1', 'POLD1', 'SCN8A', 'PXDNL', 'PAPPA2', 'POLE4', 'MET', 'PIK3R2', 'LYN', 'ESR1', 'RAF1', 'PSMD4', 'CDK6', 'ACVR1', 'RET', 'CHEK1', 'VHL', 'POLE', 'CIC', 'ETV1', 'ETV5', 'ATXN1L', 'SUFU', 'PIK3CA', 'CTNNB1', 'DICER1', 'EZH2', 'CX3CL1', 'NRG1', 'FGFR4', 'RAD50', 'BTK', 'PLCG2', 'TSC2', 'TSPYL1', 'KDR', 'FLT4', 'PDCD1LG2', 'LAG3', 'DLL3', 'ASNS', 'BAP1', 'BARD1', 'ASS1', 'FLCN', 'BCL2', 'KMT2D', 'RASA1', 'KDM5C', 'TPT1', 'TLK2']\n"
     ]
    }
   ],
   "source": [
    "##Make sure that all variants have SOIDs\n",
    "#Iterate through capture seq to pull soids\n",
    "SOID_labels = requests.get('https://civic.genome.wustl.edu/api/panels?count=1000000').json()['DNA-Based']['sequence_ontology_terms'] #pull API\n",
    "SOID = {} #Create new dictionary to hold SOIDs in API\n",
    "#Iterate through the API interface\n",
    "for item in SOID_labels:\n",
    "    if item['soid'] not in SOID: #Pull the SOIDs\n",
    "        SOID[item['soid']] = [] #create new list if it is not already in SOID dictioanry\n",
    "        SOID[item['soid']].append(item['name']) #Add to dictionary\n",
    "#Iterate through nanostring to pull soids\n",
    "SOID_labels = requests.get('https://civic.genome.wustl.edu/api/panels?count=1000000').json()['RNA-Based']['sequence_ontology_terms']\n",
    "for item in SOID_labels:#iterate through the variants\n",
    "    if item['soid'] not in SOID: #If the soid is not already in the\n",
    "        SOID[item['soid']] = [] #create holder\n",
    "        SOID[item['soid']].append(item['name']) #add to the list\n",
    "\n",
    "CIViC_SOID = [] #Create new list for all of the SOIDs that are in CIViC\n",
    "no_SOID_in_CIViC = [] #Create new list for all of the variants that do not have a SOID term attached to it\n",
    "\n",
    "#Pull all of the variants from the CIViC API\n",
    "SOID_API = requests.get('https://civic.genome.wustl.edu/api/variants?count=1000000').json()['records']\n",
    "for item in SOID_API: #iterate through the API\n",
    "    if item['variant_types'] != []: #If the variant_type is there\n",
    "        if item['variant_types'][0]['so_id'] not in CIViC_SOID: #and the soid is not in the CIViC SOID list\n",
    "            CIViC_SOID.append([item['variant_types'][0]['so_id'], item['variant_types'][0]['display_name']]) #add it to the list\n",
    "    if item['variant_types'] == []: #If the variant type has not been created yet\n",
    "        if item['entrez_name'] not in no_SOID_in_CIViC: #and the gene name has not already been evaluated\n",
    "            no_SOID_in_CIViC.append(item['entrez_name']) #Add the gene name to the 'not in civic' list\n",
    "\n",
    "print('Number of genes without Variant Type (SO_id):', len(no_SOID_in_CIViC))\n",
    "print('These genes are:', no_SOID_in_CIViC)"
   ]
  },
  {
   "cell_type": "code",
   "execution_count": 23,
   "metadata": {},
   "outputs": [
    {
     "name": "stdout",
     "output_type": "stream",
     "text": [
      "There are no SO_ids that need to be added to the API!\n"
     ]
    }
   ],
   "source": [
    "##Determine if you need to add soid labels to your list on the API\n",
    "SOID_labels = requests.get('https://civic.genome.wustl.edu/api/panels?count=1000000').json()['unbinned_terms']\n",
    "if len(SOID_labels) == 0:\n",
    "    print('There are no SO_ids that need to be added to the API!')\n",
    "else:\n",
    "    print('The Following SO_ids need to be added to the API')  # Header\n",
    "    for item in SOID_labels:#iterate through the variants\n",
    "        print(item['soid'] + ' - ' + item['name'])\n"
   ]
  },
  {
   "cell_type": "code",
   "execution_count": null,
   "metadata": {
    "collapsed": true
   },
   "outputs": [],
   "source": []
  }
 ],
 "metadata": {
  "kernelspec": {
   "display_name": "Python 3",
   "language": "python",
   "name": "python3"
  },
  "language_info": {
   "codemirror_mode": {
    "name": "ipython",
    "version": 3
   },
   "file_extension": ".py",
   "mimetype": "text/x-python",
   "name": "python",
   "nbconvert_exporter": "python",
   "pygments_lexer": "ipython3",
   "version": "3.6.3"
  }
 },
 "nbformat": 4,
 "nbformat_minor": 2
}
