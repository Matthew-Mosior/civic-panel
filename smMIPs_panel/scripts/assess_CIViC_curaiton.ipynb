{
 "cells": [
  {
   "cell_type": "markdown",
   "metadata": {},
   "source": [
    "# Assess the CIViC interface for Curation Effort and Gaps in Curation\n",
    "\n",
    "#### Usage\n",
    "\n",
    "This script evaluates the curation effort in CIViC by pulling in a list of genes that are implicated in biomarker panels and showing if there is curation in CIViC on these genes. It also evalutes if there are genes in CIViC that have extensive curation, but they are not implicated in the gene panels. Finally, it provides information on variants that require curation on the SOID to ensure that these variants are eligible for CIViC Capture Design.\n",
    "\n",
    "#### Input Files:\n",
    "\n",
    "1) threshold = minimum requirement for actionability score to be included in output files; default is 20 points.\n",
    "\n",
    "2) panel_genes = an input file with genes and total number of assocaited panels\n",
    "\n",
    "#### Output Files:\n",
    "\n",
    "There are no output files!\n"
   ]
  },
  {
   "cell_type": "code",
   "execution_count": 4,
   "metadata": {
    "collapsed": true
   },
   "outputs": [],
   "source": [
    "##SET INPUT VALUES\n",
    "\n",
    "threshold = str(20)"
   ]
  },
  {
   "cell_type": "code",
   "execution_count": 2,
   "metadata": {
    "collapsed": true
   },
   "outputs": [],
   "source": [
    "#!/usr/bin/env python3\n",
    "import json\n",
    "import numpy as np\n",
    "import requests\n",
    "import sys"
   ]
  },
  {
   "cell_type": "code",
   "execution_count": 9,
   "metadata": {
    "collapsed": true
   },
   "outputs": [],
   "source": [
    "##Pull in Data from JSON\n",
    "variants_capture = requests.get('https://civic.genome.wustl.edu/api/panels/captureseq/qualifying_variants?minimum_score=',threshold).json()['records'] #Call eligible variants\n",
    "variants_nanostring = requests.get('https://civic.genome.wustl.edu/api/panels/nanostring/qualifying_variants?minimum_score=',threshold).json()['records'] #Call eligible variants"
   ]
  },
  {
   "cell_type": "code",
   "execution_count": 11,
   "metadata": {},
   "outputs": [
    {
     "name": "stdout",
     "output_type": "stream",
     "text": [
      "Number of genes in at Least 10 Panels is: 161\n",
      "Number of Genes Missing from CIViC is: 51\n",
      "List of Genes missing from CIViC  ['APC', 'JAK3', 'MPL', 'SRC', 'HNF1A', 'MYC', 'CBL', 'BRIP1', 'MUTYH', 'PDGFRB', 'KMT2A', 'GATA1', 'MAP2K2', 'ETV6', 'PAX5', 'FGFR4', 'KDM6A', 'NBN', 'SDHB', 'CREBBP', 'BCL6', 'GATA3', 'SUFU', 'FLCN', 'SDHD', 'BMPR1A', 'AKT3', 'FH', 'EP300', 'NOTCH2', 'PRKAR1A', 'SDHC', 'IL7R', 'RARA', 'FLT4', 'FLT1', 'FANCA', 'BLM', 'RAD51C', 'CIC', 'PHOX2B', 'TGFBR2', 'CDC73', 'ZRSR2', 'MRE11A', 'PHF6', 'ETV1', 'NFE2L2', 'MAP2K4', 'PIK3R2', 'DICER1']\n"
     ]
    }
   ],
   "source": [
    "##See how many genes are in panels but not eligible for CIViC\n",
    "panel_genes = open('../../smMIPs_panel/input_files/panel_genes.txt', 'r') #open panel_genes\n",
    "panel_genes_list = [] #create empty file for panel genes\n",
    "for line in panel_genes: #iterate through panel genes\n",
    "    line = line.strip('\\n') #strip the new line\n",
    "    line = line.split('\\t') #split by tabs\n",
    "    gene = line[0] #pull gene\n",
    "    panel_genes_list.append(gene) #append to gene list\n",
    "not_in_CIViC = [] #create empty list for genes that are not extensively curated\n",
    "for item in panel_genes_list: #for item in panel list\n",
    "    if item not in variant_list: #if the item is not in the civic list\n",
    "        not_in_CIViC.append(item) #append it to the not in civic list\n",
    "print('Number of genes in at Least 10 Panels is:', len(panel_genes_list)) #print the length of the panel Genes\n",
    "print('Number of Genes Missing from CIViC is:', len(not_in_CIViC)) #print number of genes not in civic\n",
    "print('List of Genes missing from CIViC ', not_in_CIViC)"
   ]
  },
  {
   "cell_type": "code",
   "execution_count": 12,
   "metadata": {},
   "outputs": [
    {
     "name": "stdout",
     "output_type": "stream",
     "text": [
      "Number of genes in CIViC but not in 10 gene Panels is:  165\n",
      "Genes in CIViC but not in 10 panels:  ['NRG1', 'SPHK1', 'CASP8', 'TIMP1', 'MGMT', 'B4GALT1', 'MMP9', 'ALDH1A2', 'HSPH1', 'MMP2', 'KIAA1524', 'DNMT1', 'VEGFA', 'DDX43', 'PBK', 'TGFA', 'CDKN1B', 'BIRC5', 'PDCD4', 'CDKN1A', 'IGF2', 'PTP4A3', 'ALCAM', 'AGR2', 'UGT1A', 'PRKAA2', 'CFLAR', 'TFF3', 'DUSP6', 'HSPA5', 'RPS6', 'EREG', 'STMN1', 'CBLC', 'NQO1', 'TBK1', 'PIM1', 'DKK1', 'ABCB1', 'ABCC10', 'DEFA1', 'EPHB4', 'PROM1', 'ERCC1', 'MAGEH1', 'CD44', 'MIR218-1', 'NCOA3', 'PGR', 'EGF', 'RIT1', 'TYMS', 'SLFN11', 'TOP2A', 'CXCR4', 'HSPB1', 'FOXP3', 'HMOX1', 'TUBB3', 'HAVCR2', 'CD274', 'NT5E', 'AREG', 'SYK', 'CDX2', 'ROBO4', 'SIRT1', 'THBS2', 'POU5F1', 'NEDD9', 'ZEB1', 'HLA-DRA', 'EPAS1', 'HIF1A', 'FGF13', 'KRT18', 'EIF4EBP1', 'PSMB8', 'PTTG1', 'LEPR', 'MKI67', 'JUN', 'STAG3', 'ETV4', 'GAS6', 'RAD23B', 'PAX8', 'HGF', 'FOS', 'SGK1', 'KIF23', 'FGF2', 'RRM1', 'RRM2', 'MERTK', 'ACTA1', 'PTGS2', 'CCND2', 'SSX4', 'FLI1', 'ERG', 'PML', 'CBFB', 'CTLA4', 'EWSR1', 'WWTR1', 'DDIT3', 'PRKACA', 'TTF1', 'REL', 'FOXP1', 'MAPK1', 'RSF1', 'ASNS', 'ABCC3', 'BIRC7', 'RICTOR', 'FGF3', 'GSTP1', 'LRP1B', 'FNTB', 'RHOA', 'CCND3', 'MRE11', 'PTPRD', 'KMT2D', 'CDK12', 'PRDM1', 'POT1', 'SOX10', 'KMT2C', 'ERRFI1', 'CYP2D6', 'PTPRB', 'DPYD', 'EIF1AX', 'RAD51D', 'GADD45A', 'STAT3', 'CSF3R', 'FCGR2A', 'RAC1', 'FCGR3A', 'FCGR2B', 'ARAF', 'PPP1R15A', 'NT5C2', 'XRCC1', 'ABCG2', 'MAP2K7', 'SLCO1B1', 'HOXB13', 'SH2B3', 'MTHFR', 'DDX41', 'CALR', 'CBLB', 'ETS2', 'BIRC3', 'ERCC5', 'B2M', 'ATR', 'UGT1A1', 'POLE', 'BCL2L11']\n"
     ]
    }
   ],
   "source": [
    "#See how many genes are in CIViC but are not on the 10 panel list\n",
    "civic_only = [] #create list for civic only genes\n",
    "for item in variant_list: #iterate through variant list\n",
    "    if item not in panel_genes_list: #see if variant not in panel gene list\n",
    "        if item not in civic_only: #see if it is not in the civic only list\n",
    "            civic_only.append(item) #if it is not in civic only list add it\n",
    "print('Number of genes in CIViC but not in 10 gene Panels is: ', len(civic_only))\n",
    "print('Genes in CIViC but not in 10 panels: ', civic_only)"
   ]
  },
  {
   "cell_type": "code",
   "execution_count": 13,
   "metadata": {},
   "outputs": [
    {
     "name": "stdout",
     "output_type": "stream",
     "text": [
      "Number of genes without Variant Type (SO_id): 85\n",
      "These genes are: ['APC', 'TP53', 'EGFR', 'AR', 'GNAQ', 'GNA11', 'SULT1E1', 'JAK2', 'BRCA1', 'CRBN', 'BRD4', 'MLH1', 'TYMS', 'CHEK2', 'NTRK1', 'RUNX1', 'ERBB2', 'HLA-C', 'FGFR3', 'FGFR2', 'ALK', 'BRAF', 'KIT', 'CREBBP', 'MTAP', 'GNAS', 'STK11', 'PDGFRA', 'NOTCH1', 'KRAS', 'ATM', 'NRAS', 'AEBP1', 'MDM2', 'MDM4', 'CTAG1B', 'CTAG2', 'SMO', 'NTRK3', 'DCC', 'ARID1A', 'AKT3', 'MYC', 'HRAS', 'ABL1', 'FBXW7', 'MTOR', 'FLT3', 'PTCH1', 'ROS1', 'POLD1', 'SCN8A', 'PXDNL', 'PAPPA2', 'POLE4', 'MET', 'PIK3R2', 'LYN', 'ESR1', 'RAF1', 'PSMD4', 'CDK6', 'ACVR1', 'RET', 'CHEK1', 'VHL', 'POLE', 'CIC', 'ETV1', 'ETV5', 'ATXN1L', 'SUFU', 'PIK3CA', 'CTNNB1', 'DICER1', 'EZH2', 'CX3CL1', 'NRG1', 'FGFR4', 'RAD50', 'BTK', 'PLCG2', 'TSC2', 'TSPYL1', 'ERRFI1']\n"
     ]
    }
   ],
   "source": [
    "##Make sure that all variants have SOIDs\n",
    "#Iterate through capture seq to pull soids\n",
    "SOID_labels = requests.get('https://civic.genome.wustl.edu/api/panels?count=1000000').json()['CaptureSeq']['sequence_ontology_terms'] #pull API\n",
    "SOID = {} #Create new dictionary to hold SOIDs in API\n",
    "#Iterate through the API interface\n",
    "for item in SOID_labels:\n",
    "    if item['soid'] not in SOID: #Pull the SOIDs\n",
    "        SOID[item['soid']] = [] #create new list if it is not already in SOID dictioanry\n",
    "        SOID[item['soid']].append(item['name']) #Add to dictionary\n",
    "#Iterate through nanostring to pull soids\n",
    "SOID_labels = requests.get('https://civic.genome.wustl.edu/api/panels?count=1000000').json()['NanoString']['sequence_ontology_terms']\n",
    "for item in SOID_labels:#iterate through the variants\n",
    "    if item['soid'] not in SOID: #If the soid is not already in the\n",
    "        SOID[item['soid']] = [] #create holder\n",
    "        SOID[item['soid']].append(item['name']) #add to the list\n",
    "\n",
    "CIViC_SOID = [] #Create new list for all of the SOIDs that are in CIViC\n",
    "no_SOID_in_CIViC = [] #Create new list for all of the variants that do not have a SOID term attached to it\n",
    "\n",
    "#Pull all of the variants from the CIViC API\n",
    "SOID_API = requests.get('https://civic.genome.wustl.edu/api/variants?count=1000000').json()['records']\n",
    "for item in SOID_API: #iterate through the API\n",
    "    if item['variant_types'] != []: #If the variant_type is there\n",
    "        if item['variant_types'][0]['so_id'] not in CIViC_SOID: #and the soid is not in the CIViC SOID list\n",
    "            CIViC_SOID.append([item['variant_types'][0]['so_id'], item['variant_types'][0]['display_name']]) #add it to the list\n",
    "    if item['variant_types'] == []: #If the variant type has not been created yet\n",
    "        if item['entrez_name'] not in no_SOID_in_CIViC: #and the gene name has not already been evaluated\n",
    "            no_SOID_in_CIViC.append(item['entrez_name']) #Add the gene name to the 'not in civic' list\n",
    "\n",
    "print('Number of genes without Variant Type (SO_id):', len(no_SOID_in_CIViC))\n",
    "print('These genes are:', no_SOID_in_CIViC)"
   ]
  },
  {
   "cell_type": "code",
   "execution_count": 14,
   "metadata": {},
   "outputs": [
    {
     "name": "stdout",
     "output_type": "stream",
     "text": [
      "There are no SO_ids that need to be added to the API!\n"
     ]
    }
   ],
   "source": [
    "##Determine if you need to add soid labels to your list on the API\n",
    "SOID_labels = requests.get('https://civic.genome.wustl.edu/api/panels?count=1000000').json()['unbinned_terms']\n",
    "if len(SOID_labels) == 0:\n",
    "    print('There are no SO_ids that need to be added to the API!')\n",
    "else:\n",
    "    print('The Following SO_ids need to be added to the API')  # Header\n",
    "    for item in SOID_labels:#iterate through the variants\n",
    "        print(item['soid'] + ' - ' + item['name'])\n"
   ]
  },
  {
   "cell_type": "code",
   "execution_count": null,
   "metadata": {
    "collapsed": true
   },
   "outputs": [],
   "source": []
  }
 ],
 "metadata": {
  "kernelspec": {
   "display_name": "Python 3",
   "language": "python",
   "name": "python3"
  },
  "language_info": {
   "codemirror_mode": {
    "name": "ipython",
    "version": 3
   },
   "file_extension": ".py",
   "mimetype": "text/x-python",
   "name": "python",
   "nbconvert_exporter": "python",
   "pygments_lexer": "ipython3",
   "version": "3.6.3"
  }
 },
 "nbformat": 4,
 "nbformat_minor": 2
}
